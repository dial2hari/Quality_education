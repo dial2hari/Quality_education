{
 "cells": [
  {
   "cell_type": "code",
   "execution_count": null,
   "id": "218687bd",
   "metadata": {},
   "outputs": [],
   "source": []
  },
  {
   "cell_type": "code",
   "execution_count": null,
   "id": "5fc99be6",
   "metadata": {},
   "outputs": [],
   "source": []
  },
  {
   "cell_type": "code",
   "execution_count": null,
   "id": "71474180",
   "metadata": {},
   "outputs": [],
   "source": []
  },
  {
   "cell_type": "code",
   "execution_count": 2,
   "id": "33665dbb",
   "metadata": {},
   "outputs": [
    {
     "name": "stdout",
     "output_type": "stream",
     "text": [
      "Requirement already satisfied: scikit-learn in /Users/hariharasudhanlakshmanan/opt/anaconda3/envs/PythonAssignment/lib/python3.9/site-packages (1.1.3)\n",
      "Requirement already satisfied: threadpoolctl>=2.0.0 in /Users/hariharasudhanlakshmanan/opt/anaconda3/envs/PythonAssignment/lib/python3.9/site-packages (from scikit-learn) (2.2.0)\n",
      "Requirement already satisfied: numpy>=1.17.3 in /Users/hariharasudhanlakshmanan/opt/anaconda3/envs/PythonAssignment/lib/python3.9/site-packages (from scikit-learn) (1.21.5)\n",
      "Requirement already satisfied: scipy>=1.3.2 in /Users/hariharasudhanlakshmanan/opt/anaconda3/envs/PythonAssignment/lib/python3.9/site-packages (from scikit-learn) (1.9.3)\n",
      "Requirement already satisfied: joblib>=1.0.0 in /Users/hariharasudhanlakshmanan/opt/anaconda3/envs/PythonAssignment/lib/python3.9/site-packages (from scikit-learn) (1.1.1)\n",
      "Requirement already satisfied: nlp in /Users/hariharasudhanlakshmanan/opt/anaconda3/envs/PythonAssignment/lib/python3.9/site-packages (0.4.0)\n",
      "Requirement already satisfied: xxhash in /Users/hariharasudhanlakshmanan/opt/anaconda3/envs/PythonAssignment/lib/python3.9/site-packages (from nlp) (3.2.0)\n",
      "Requirement already satisfied: pyarrow>=0.16.0 in /Users/hariharasudhanlakshmanan/opt/anaconda3/envs/PythonAssignment/lib/python3.9/site-packages (from nlp) (11.0.0)\n",
      "Requirement already satisfied: requests>=2.19.0 in /Users/hariharasudhanlakshmanan/opt/anaconda3/envs/PythonAssignment/lib/python3.9/site-packages (from nlp) (2.28.2)\n",
      "Requirement already satisfied: pandas in /Users/hariharasudhanlakshmanan/opt/anaconda3/envs/PythonAssignment/lib/python3.9/site-packages (from nlp) (1.4.4)\n",
      "Requirement already satisfied: filelock in /Users/hariharasudhanlakshmanan/opt/anaconda3/envs/PythonAssignment/lib/python3.9/site-packages (from nlp) (3.12.0)\n",
      "Requirement already satisfied: dill in /Users/hariharasudhanlakshmanan/opt/anaconda3/envs/PythonAssignment/lib/python3.9/site-packages (from nlp) (0.3.6)\n",
      "Requirement already satisfied: tqdm>=4.27 in /Users/hariharasudhanlakshmanan/opt/anaconda3/envs/PythonAssignment/lib/python3.9/site-packages (from nlp) (4.65.0)\n",
      "Requirement already satisfied: numpy in /Users/hariharasudhanlakshmanan/opt/anaconda3/envs/PythonAssignment/lib/python3.9/site-packages (from nlp) (1.21.5)\n",
      "Requirement already satisfied: charset-normalizer<4,>=2 in /Users/hariharasudhanlakshmanan/opt/anaconda3/envs/PythonAssignment/lib/python3.9/site-packages (from requests>=2.19.0->nlp) (3.1.0)\n",
      "Requirement already satisfied: idna<4,>=2.5 in /Users/hariharasudhanlakshmanan/opt/anaconda3/envs/PythonAssignment/lib/python3.9/site-packages (from requests>=2.19.0->nlp) (3.4)\n",
      "Requirement already satisfied: urllib3<1.27,>=1.21.1 in /Users/hariharasudhanlakshmanan/opt/anaconda3/envs/PythonAssignment/lib/python3.9/site-packages (from requests>=2.19.0->nlp) (1.26.15)\n",
      "Requirement already satisfied: certifi>=2017.4.17 in /Users/hariharasudhanlakshmanan/opt/anaconda3/envs/PythonAssignment/lib/python3.9/site-packages (from requests>=2.19.0->nlp) (2022.9.24)\n",
      "Requirement already satisfied: python-dateutil>=2.8.1 in /Users/hariharasudhanlakshmanan/opt/anaconda3/envs/PythonAssignment/lib/python3.9/site-packages (from pandas->nlp) (2.8.2)\n",
      "Requirement already satisfied: pytz>=2020.1 in /Users/hariharasudhanlakshmanan/opt/anaconda3/envs/PythonAssignment/lib/python3.9/site-packages (from pandas->nlp) (2022.1)\n",
      "Requirement already satisfied: six>=1.5 in /Users/hariharasudhanlakshmanan/opt/anaconda3/envs/PythonAssignment/lib/python3.9/site-packages (from python-dateutil>=2.8.1->pandas->nlp) (1.16.0)\n",
      "Requirement already satisfied: wordcloud in /Users/hariharasudhanlakshmanan/opt/anaconda3/envs/PythonAssignment/lib/python3.9/site-packages (1.8.2.2)\n",
      "Requirement already satisfied: lazypredict in /Users/hariharasudhanlakshmanan/opt/anaconda3/envs/PythonAssignment/lib/python3.9/site-packages (0.2.12)\n",
      "Requirement already satisfied: numpy>=1.6.1 in /Users/hariharasudhanlakshmanan/opt/anaconda3/envs/PythonAssignment/lib/python3.9/site-packages (from wordcloud) (1.21.5)\n",
      "Requirement already satisfied: matplotlib in /Users/hariharasudhanlakshmanan/opt/anaconda3/envs/PythonAssignment/lib/python3.9/site-packages (from wordcloud) (3.5.2)\n",
      "Requirement already satisfied: pillow in /Users/hariharasudhanlakshmanan/opt/anaconda3/envs/PythonAssignment/lib/python3.9/site-packages (from wordcloud) (9.2.0)\n",
      "Requirement already satisfied: xgboost in /Users/hariharasudhanlakshmanan/opt/anaconda3/envs/PythonAssignment/lib/python3.9/site-packages (from lazypredict) (1.5.0)\n",
      "Requirement already satisfied: joblib in /Users/hariharasudhanlakshmanan/opt/anaconda3/envs/PythonAssignment/lib/python3.9/site-packages (from lazypredict) (1.1.1)\n",
      "Requirement already satisfied: tqdm in /Users/hariharasudhanlakshmanan/opt/anaconda3/envs/PythonAssignment/lib/python3.9/site-packages (from lazypredict) (4.65.0)\n",
      "Requirement already satisfied: lightgbm in /Users/hariharasudhanlakshmanan/opt/anaconda3/envs/PythonAssignment/lib/python3.9/site-packages (from lazypredict) (3.3.5)\n",
      "Requirement already satisfied: pandas in /Users/hariharasudhanlakshmanan/opt/anaconda3/envs/PythonAssignment/lib/python3.9/site-packages (from lazypredict) (1.4.4)\n",
      "Requirement already satisfied: click in /Users/hariharasudhanlakshmanan/opt/anaconda3/envs/PythonAssignment/lib/python3.9/site-packages (from lazypredict) (8.1.3)\n",
      "Requirement already satisfied: scikit-learn in /Users/hariharasudhanlakshmanan/opt/anaconda3/envs/PythonAssignment/lib/python3.9/site-packages (from lazypredict) (1.1.3)\n",
      "Requirement already satisfied: wheel in /Users/hariharasudhanlakshmanan/opt/anaconda3/envs/PythonAssignment/lib/python3.9/site-packages (from lightgbm->lazypredict) (0.37.1)\n",
      "Requirement already satisfied: scipy in /Users/hariharasudhanlakshmanan/opt/anaconda3/envs/PythonAssignment/lib/python3.9/site-packages (from lightgbm->lazypredict) (1.9.3)\n",
      "Requirement already satisfied: threadpoolctl>=2.0.0 in /Users/hariharasudhanlakshmanan/opt/anaconda3/envs/PythonAssignment/lib/python3.9/site-packages (from scikit-learn->lazypredict) (2.2.0)\n",
      "Requirement already satisfied: fonttools>=4.22.0 in /Users/hariharasudhanlakshmanan/opt/anaconda3/envs/PythonAssignment/lib/python3.9/site-packages (from matplotlib->wordcloud) (4.25.0)\n",
      "Requirement already satisfied: kiwisolver>=1.0.1 in /Users/hariharasudhanlakshmanan/opt/anaconda3/envs/PythonAssignment/lib/python3.9/site-packages (from matplotlib->wordcloud) (1.4.2)\n",
      "Requirement already satisfied: pyparsing>=2.2.1 in /Users/hariharasudhanlakshmanan/opt/anaconda3/envs/PythonAssignment/lib/python3.9/site-packages (from matplotlib->wordcloud) (3.0.4)\n",
      "Requirement already satisfied: packaging>=20.0 in /Users/hariharasudhanlakshmanan/opt/anaconda3/envs/PythonAssignment/lib/python3.9/site-packages (from matplotlib->wordcloud) (21.3)\n",
      "Requirement already satisfied: cycler>=0.10 in /Users/hariharasudhanlakshmanan/opt/anaconda3/envs/PythonAssignment/lib/python3.9/site-packages (from matplotlib->wordcloud) (0.11.0)\n",
      "Requirement already satisfied: python-dateutil>=2.7 in /Users/hariharasudhanlakshmanan/opt/anaconda3/envs/PythonAssignment/lib/python3.9/site-packages (from matplotlib->wordcloud) (2.8.2)\n",
      "Requirement already satisfied: six>=1.5 in /Users/hariharasudhanlakshmanan/opt/anaconda3/envs/PythonAssignment/lib/python3.9/site-packages (from python-dateutil>=2.7->matplotlib->wordcloud) (1.16.0)\n",
      "Requirement already satisfied: pytz>=2020.1 in /Users/hariharasudhanlakshmanan/opt/anaconda3/envs/PythonAssignment/lib/python3.9/site-packages (from pandas->lazypredict) (2022.1)\n"
     ]
    }
   ],
   "source": [
    "# Installing Libraries\n",
    "!pip install scikit-learn\n",
    "!pip install nlp\n",
    "!pip install wordcloud lazypredict"
   ]
  },
  {
   "cell_type": "code",
   "execution_count": null,
   "id": "340c1381",
   "metadata": {},
   "outputs": [],
   "source": [
    "# Importing Libraries\n",
    "import os\n",
    "import pandas as pd\n",
    "import numpy as np\n",
    "import re\n",
    "from sklearn.featureextraction.text import TfidfTransformer, TfidfVectorizer, CountVectorizer\n",
    "from sklearn.model_selection import train_test_split\n",
    "from sklearn."
   ]
  }
 ],
 "metadata": {
  "kernelspec": {
   "display_name": "Python 3 (ipykernel)",
   "language": "python",
   "name": "python3"
  },
  "language_info": {
   "codemirror_mode": {
    "name": "ipython",
    "version": 3
   },
   "file_extension": ".py",
   "mimetype": "text/x-python",
   "name": "python",
   "nbconvert_exporter": "python",
   "pygments_lexer": "ipython3",
   "version": "3.9.12"
  }
 },
 "nbformat": 4,
 "nbformat_minor": 5
}
