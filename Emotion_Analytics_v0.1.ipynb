{
  "cells": [
    {
      "cell_type": "code",
      "execution_count": 185,
      "id": "73c66aaf",
      "metadata": {
        "id": "73c66aaf"
      },
      "outputs": [],
      "source": []
    },
    {
      "cell_type": "markdown",
      "id": "7d3b0048",
      "metadata": {
        "id": "7d3b0048"
      },
      "source": [
        "### Installing Libraries"
      ]
    },
    {
      "cell_type": "code",
      "execution_count": 186,
      "id": "39ae2119",
      "metadata": {
        "colab": {
          "base_uri": "https://localhost:8080/"
        },
        "id": "39ae2119",
        "outputId": "8ffbd05c-cc89-4cd4-bd2f-ee24270770d0"
      },
      "outputs": [
        {
          "output_type": "stream",
          "name": "stdout",
          "text": [
            "Looking in indexes: https://pypi.org/simple, https://us-python.pkg.dev/colab-wheels/public/simple/\n",
            "Requirement already satisfied: nltk in /usr/local/lib/python3.9/dist-packages (3.8.1)\n",
            "Requirement already satisfied: regex>=2021.8.3 in /usr/local/lib/python3.9/dist-packages (from nltk) (2022.10.31)\n",
            "Requirement already satisfied: tqdm in /usr/local/lib/python3.9/dist-packages (from nltk) (4.65.0)\n",
            "Requirement already satisfied: joblib in /usr/local/lib/python3.9/dist-packages (from nltk) (1.2.0)\n",
            "Requirement already satisfied: click in /usr/local/lib/python3.9/dist-packages (from nltk) (8.1.3)\n"
          ]
        }
      ],
      "source": [
        "!pip install nltk"
      ]
    },
    {
      "cell_type": "code",
      "execution_count": 187,
      "id": "5b1a1c1a",
      "metadata": {
        "colab": {
          "base_uri": "https://localhost:8080/"
        },
        "id": "5b1a1c1a",
        "outputId": "fed0a4f6-c9c0-4f56-dedf-cbe71ee9fb9d"
      },
      "outputs": [
        {
          "output_type": "stream",
          "name": "stdout",
          "text": [
            "Looking in indexes: https://pypi.org/simple, https://us-python.pkg.dev/colab-wheels/public/simple/\n",
            "Requirement already satisfied: plotly==5.14.1 in /usr/local/lib/python3.9/dist-packages (5.14.1)\n",
            "Requirement already satisfied: tenacity>=6.2.0 in /usr/local/lib/python3.9/dist-packages (from plotly==5.14.1) (8.2.2)\n",
            "Requirement already satisfied: packaging in /usr/local/lib/python3.9/dist-packages (from plotly==5.14.1) (23.1)\n",
            "Looking in indexes: https://pypi.org/simple, https://us-python.pkg.dev/colab-wheels/public/simple/\n",
            "Requirement already satisfied: emoji in /usr/local/lib/python3.9/dist-packages (2.2.0)\n"
          ]
        }
      ],
      "source": [
        "!pip install plotly==5.14.1\n",
        "!pip install emoji"
      ]
    },
    {
      "cell_type": "code",
      "execution_count": 188,
      "id": "025f7f90",
      "metadata": {
        "id": "025f7f90"
      },
      "outputs": [],
      "source": [
        "# Importing Libraries\n",
        "import nltk\n",
        "import warnings\n",
        "warnings.filterwarnings('ignore')\n",
        "import pandas as pd\n",
        "import numpy as np\n",
        "import re\n",
        "import matplotlib.pyplot as plt\n",
        "%matplotlib inline\n",
        "import seaborn as sns\n",
        "import plotly.express as px\n",
        "import emoji\n",
        "import string\n",
        "import nltk\n",
        "from PIL import Image\n",
        "from collections import Counter\n",
        "from wordcloud import WordCloud, ImageColorGenerator, STOPWORDS\n",
        "from nltk.tokenize import word_tokenize\n",
        "from nltk.corpus import stopwords\n",
        "from nltk.stem.porter import PorterStemmer\n",
        "from nltk.stem.snowball import SnowballStemmer\n",
        "from nltk.stem import WordNetLemmatizer\n",
        "from nltk.stem import PorterStemmer\n",
        "from nltk.tokenize import sent_tokenize, word_tokenize\n",
        "from sklearn.feature_extraction.text import CountVectorizer\n",
        "from sklearn.feature_extraction.text import TfidfVectorizer\n",
        "from sklearn.model_selection import train_test_split\n",
        "from sklearn.model_selection import cross_val_score\n",
        "from sklearn.metrics import accuracy_score, f1_score, confusion_matrix, classification_report\n",
        "from sklearn.model_selection import GridSearchCV\n",
        "from sklearn.model_selection import RandomizedSearchCV\n",
        "from sklearn.linear_model import LogisticRegression\n",
        "from sklearn.linear_model import LinearRegression\n",
        "from sklearn.ensemble import RandomForestClassifier\n",
        "from sklearn.ensemble import RandomForestRegressor\n",
        "from sklearn.ensemble import AdaBoostClassifier\n",
        "from sklearn.ensemble import AdaBoostRegressor\n",
        "from sklearn.svm import SVC,LinearSVC\n",
        "from sklearn.svm import SVR,LinearSVR\n",
        "from sklearn.naive_bayes import MultinomialNB\n",
        "from sklearn.tree import DecisionTreeClassifier\n",
        "from sklearn.tree import DecisionTreeRegressor\n",
        "from sklearn.pipeline import Pipeline\n",
        "import pickle"
      ]
    },
    {
      "cell_type": "code",
      "execution_count": 189,
      "id": "889ce36b",
      "metadata": {
        "colab": {
          "base_uri": "https://localhost:8080/"
        },
        "id": "889ce36b",
        "outputId": "2008730d-cd42-4aa5-9f4b-5b3238d0f3bd"
      },
      "outputs": [
        {
          "output_type": "stream",
          "name": "stderr",
          "text": [
            "[nltk_data] Downloading package stopwords to /root/nltk_data...\n",
            "[nltk_data]   Package stopwords is already up-to-date!\n",
            "[nltk_data] Downloading package punkt to /root/nltk_data...\n",
            "[nltk_data]   Package punkt is already up-to-date!\n",
            "[nltk_data] Downloading package wordnet to /root/nltk_data...\n",
            "[nltk_data]   Package wordnet is already up-to-date!\n"
          ]
        },
        {
          "output_type": "execute_result",
          "data": {
            "text/plain": [
              "True"
            ]
          },
          "metadata": {},
          "execution_count": 189
        }
      ],
      "source": [
        "# Downloading packages from nltk\n",
        "nltk.download('stopwords')\n",
        "nltk.download('punkt')\n",
        "nltk.download('wordnet')"
      ]
    },
    {
      "cell_type": "markdown",
      "id": "d37cba7a",
      "metadata": {
        "id": "d37cba7a"
      },
      "source": [
        "### Reading the .csv data"
      ]
    },
    {
      "cell_type": "code",
      "execution_count": 314,
      "id": "1ae9fc0f",
      "metadata": {
        "id": "1ae9fc0f"
      },
      "outputs": [],
      "source": [
        "# Reading the data and storing it in the dataframes\n",
        "agg_df = pd.read_csv(\"data/aggression_parsed_dataset.csv\")\n",
        "att_df = pd.read_csv(\"data/attack_parsed_dataset.csv\")\n",
        "tox_df = pd.read_csv(\"data/toxicity_parsed_dataset.csv\")\n",
        "rac_df = pd.read_csv(\"data/twitter_racism_parsed_dataset.csv\")\n",
        "sex_df = pd.read_csv(\"data/twitter_sexism_parsed_dataset.csv\")"
      ]
    },
    {
      "cell_type": "markdown",
      "id": "4302d4f0",
      "metadata": {
        "id": "4302d4f0"
      },
      "source": [
        "### Viewing the dataframes"
      ]
    },
    {
      "cell_type": "code",
      "execution_count": 315,
      "id": "5baedb89",
      "metadata": {
        "colab": {
          "base_uri": "https://localhost:8080/",
          "height": 206
        },
        "id": "5baedb89",
        "outputId": "a435403b-8986-4722-bd71-8fe6df4907e7"
      },
      "outputs": [
        {
          "output_type": "execute_result",
          "data": {
            "text/plain": [
              "   index                                               Text  ed_label_0  \\\n",
              "0      0  `- This is not ``creative``.  Those are the di...    0.900000   \n",
              "1      1  `  :: the term ``standard model`` is itself le...    1.000000   \n",
              "2      2    True or false, the situation as of March 200...    1.000000   \n",
              "3      3   Next, maybe you could work on being less cond...    0.555556   \n",
              "4      4               This page will need disambiguation.     1.000000   \n",
              "\n",
              "   ed_label_1  oh_label  \n",
              "0    0.100000         0  \n",
              "1    0.000000         0  \n",
              "2    0.000000         0  \n",
              "3    0.444444         0  \n",
              "4    0.000000         0  "
            ],
            "text/html": [
              "\n",
              "  <div id=\"df-f3278c94-b192-475c-9bd2-40c7050c8f93\">\n",
              "    <div class=\"colab-df-container\">\n",
              "      <div>\n",
              "<style scoped>\n",
              "    .dataframe tbody tr th:only-of-type {\n",
              "        vertical-align: middle;\n",
              "    }\n",
              "\n",
              "    .dataframe tbody tr th {\n",
              "        vertical-align: top;\n",
              "    }\n",
              "\n",
              "    .dataframe thead th {\n",
              "        text-align: right;\n",
              "    }\n",
              "</style>\n",
              "<table border=\"1\" class=\"dataframe\">\n",
              "  <thead>\n",
              "    <tr style=\"text-align: right;\">\n",
              "      <th></th>\n",
              "      <th>index</th>\n",
              "      <th>Text</th>\n",
              "      <th>ed_label_0</th>\n",
              "      <th>ed_label_1</th>\n",
              "      <th>oh_label</th>\n",
              "    </tr>\n",
              "  </thead>\n",
              "  <tbody>\n",
              "    <tr>\n",
              "      <th>0</th>\n",
              "      <td>0</td>\n",
              "      <td>`- This is not ``creative``.  Those are the di...</td>\n",
              "      <td>0.900000</td>\n",
              "      <td>0.100000</td>\n",
              "      <td>0</td>\n",
              "    </tr>\n",
              "    <tr>\n",
              "      <th>1</th>\n",
              "      <td>1</td>\n",
              "      <td>`  :: the term ``standard model`` is itself le...</td>\n",
              "      <td>1.000000</td>\n",
              "      <td>0.000000</td>\n",
              "      <td>0</td>\n",
              "    </tr>\n",
              "    <tr>\n",
              "      <th>2</th>\n",
              "      <td>2</td>\n",
              "      <td>True or false, the situation as of March 200...</td>\n",
              "      <td>1.000000</td>\n",
              "      <td>0.000000</td>\n",
              "      <td>0</td>\n",
              "    </tr>\n",
              "    <tr>\n",
              "      <th>3</th>\n",
              "      <td>3</td>\n",
              "      <td>Next, maybe you could work on being less cond...</td>\n",
              "      <td>0.555556</td>\n",
              "      <td>0.444444</td>\n",
              "      <td>0</td>\n",
              "    </tr>\n",
              "    <tr>\n",
              "      <th>4</th>\n",
              "      <td>4</td>\n",
              "      <td>This page will need disambiguation.</td>\n",
              "      <td>1.000000</td>\n",
              "      <td>0.000000</td>\n",
              "      <td>0</td>\n",
              "    </tr>\n",
              "  </tbody>\n",
              "</table>\n",
              "</div>\n",
              "      <button class=\"colab-df-convert\" onclick=\"convertToInteractive('df-f3278c94-b192-475c-9bd2-40c7050c8f93')\"\n",
              "              title=\"Convert this dataframe to an interactive table.\"\n",
              "              style=\"display:none;\">\n",
              "        \n",
              "  <svg xmlns=\"http://www.w3.org/2000/svg\" height=\"24px\"viewBox=\"0 0 24 24\"\n",
              "       width=\"24px\">\n",
              "    <path d=\"M0 0h24v24H0V0z\" fill=\"none\"/>\n",
              "    <path d=\"M18.56 5.44l.94 2.06.94-2.06 2.06-.94-2.06-.94-.94-2.06-.94 2.06-2.06.94zm-11 1L8.5 8.5l.94-2.06 2.06-.94-2.06-.94L8.5 2.5l-.94 2.06-2.06.94zm10 10l.94 2.06.94-2.06 2.06-.94-2.06-.94-.94-2.06-.94 2.06-2.06.94z\"/><path d=\"M17.41 7.96l-1.37-1.37c-.4-.4-.92-.59-1.43-.59-.52 0-1.04.2-1.43.59L10.3 9.45l-7.72 7.72c-.78.78-.78 2.05 0 2.83L4 21.41c.39.39.9.59 1.41.59.51 0 1.02-.2 1.41-.59l7.78-7.78 2.81-2.81c.8-.78.8-2.07 0-2.86zM5.41 20L4 18.59l7.72-7.72 1.47 1.35L5.41 20z\"/>\n",
              "  </svg>\n",
              "      </button>\n",
              "      \n",
              "  <style>\n",
              "    .colab-df-container {\n",
              "      display:flex;\n",
              "      flex-wrap:wrap;\n",
              "      gap: 12px;\n",
              "    }\n",
              "\n",
              "    .colab-df-convert {\n",
              "      background-color: #E8F0FE;\n",
              "      border: none;\n",
              "      border-radius: 50%;\n",
              "      cursor: pointer;\n",
              "      display: none;\n",
              "      fill: #1967D2;\n",
              "      height: 32px;\n",
              "      padding: 0 0 0 0;\n",
              "      width: 32px;\n",
              "    }\n",
              "\n",
              "    .colab-df-convert:hover {\n",
              "      background-color: #E2EBFA;\n",
              "      box-shadow: 0px 1px 2px rgba(60, 64, 67, 0.3), 0px 1px 3px 1px rgba(60, 64, 67, 0.15);\n",
              "      fill: #174EA6;\n",
              "    }\n",
              "\n",
              "    [theme=dark] .colab-df-convert {\n",
              "      background-color: #3B4455;\n",
              "      fill: #D2E3FC;\n",
              "    }\n",
              "\n",
              "    [theme=dark] .colab-df-convert:hover {\n",
              "      background-color: #434B5C;\n",
              "      box-shadow: 0px 1px 3px 1px rgba(0, 0, 0, 0.15);\n",
              "      filter: drop-shadow(0px 1px 2px rgba(0, 0, 0, 0.3));\n",
              "      fill: #FFFFFF;\n",
              "    }\n",
              "  </style>\n",
              "\n",
              "      <script>\n",
              "        const buttonEl =\n",
              "          document.querySelector('#df-f3278c94-b192-475c-9bd2-40c7050c8f93 button.colab-df-convert');\n",
              "        buttonEl.style.display =\n",
              "          google.colab.kernel.accessAllowed ? 'block' : 'none';\n",
              "\n",
              "        async function convertToInteractive(key) {\n",
              "          const element = document.querySelector('#df-f3278c94-b192-475c-9bd2-40c7050c8f93');\n",
              "          const dataTable =\n",
              "            await google.colab.kernel.invokeFunction('convertToInteractive',\n",
              "                                                     [key], {});\n",
              "          if (!dataTable) return;\n",
              "\n",
              "          const docLinkHtml = 'Like what you see? Visit the ' +\n",
              "            '<a target=\"_blank\" href=https://colab.research.google.com/notebooks/data_table.ipynb>data table notebook</a>'\n",
              "            + ' to learn more about interactive tables.';\n",
              "          element.innerHTML = '';\n",
              "          dataTable['output_type'] = 'display_data';\n",
              "          await google.colab.output.renderOutput(dataTable, element);\n",
              "          const docLink = document.createElement('div');\n",
              "          docLink.innerHTML = docLinkHtml;\n",
              "          element.appendChild(docLink);\n",
              "        }\n",
              "      </script>\n",
              "    </div>\n",
              "  </div>\n",
              "  "
            ]
          },
          "metadata": {},
          "execution_count": 315
        }
      ],
      "source": [
        "agg_df.head()"
      ]
    },
    {
      "cell_type": "markdown",
      "id": "e444d6a4",
      "metadata": {
        "id": "e444d6a4"
      },
      "source": [
        "#### 'oh_label' = 0 -> Not aggressive; 'oh_label' = 1 -> aggressive; ed_label_0 -> Probability of Not Aggressive; ed_label_1 -> Probability of Aggressive;"
      ]
    },
    {
      "cell_type": "code",
      "execution_count": 316,
      "id": "980f4ba8",
      "metadata": {
        "colab": {
          "base_uri": "https://localhost:8080/",
          "height": 206
        },
        "id": "980f4ba8",
        "outputId": "86203d85-2e27-4346-8f05-2a1a4e9e0dc6"
      },
      "outputs": [
        {
          "output_type": "execute_result",
          "data": {
            "text/plain": [
              "   index                                               Text  ed_label_0  \\\n",
              "0      0  `- This is not ``creative``.  Those are the di...    1.000000   \n",
              "1      1  `  :: the term ``standard model`` is itself le...    1.000000   \n",
              "2      2    True or false, the situation as of March 200...    1.000000   \n",
              "3      3   Next, maybe you could work on being less cond...    0.555556   \n",
              "4      4               This page will need disambiguation.     1.000000   \n",
              "\n",
              "   ed_label_1  oh_label  \n",
              "0    0.000000         0  \n",
              "1    0.000000         0  \n",
              "2    0.000000         0  \n",
              "3    0.444444         0  \n",
              "4    0.000000         0  "
            ],
            "text/html": [
              "\n",
              "  <div id=\"df-ccde85bc-9f24-47ac-a100-380029ac272f\">\n",
              "    <div class=\"colab-df-container\">\n",
              "      <div>\n",
              "<style scoped>\n",
              "    .dataframe tbody tr th:only-of-type {\n",
              "        vertical-align: middle;\n",
              "    }\n",
              "\n",
              "    .dataframe tbody tr th {\n",
              "        vertical-align: top;\n",
              "    }\n",
              "\n",
              "    .dataframe thead th {\n",
              "        text-align: right;\n",
              "    }\n",
              "</style>\n",
              "<table border=\"1\" class=\"dataframe\">\n",
              "  <thead>\n",
              "    <tr style=\"text-align: right;\">\n",
              "      <th></th>\n",
              "      <th>index</th>\n",
              "      <th>Text</th>\n",
              "      <th>ed_label_0</th>\n",
              "      <th>ed_label_1</th>\n",
              "      <th>oh_label</th>\n",
              "    </tr>\n",
              "  </thead>\n",
              "  <tbody>\n",
              "    <tr>\n",
              "      <th>0</th>\n",
              "      <td>0</td>\n",
              "      <td>`- This is not ``creative``.  Those are the di...</td>\n",
              "      <td>1.000000</td>\n",
              "      <td>0.000000</td>\n",
              "      <td>0</td>\n",
              "    </tr>\n",
              "    <tr>\n",
              "      <th>1</th>\n",
              "      <td>1</td>\n",
              "      <td>`  :: the term ``standard model`` is itself le...</td>\n",
              "      <td>1.000000</td>\n",
              "      <td>0.000000</td>\n",
              "      <td>0</td>\n",
              "    </tr>\n",
              "    <tr>\n",
              "      <th>2</th>\n",
              "      <td>2</td>\n",
              "      <td>True or false, the situation as of March 200...</td>\n",
              "      <td>1.000000</td>\n",
              "      <td>0.000000</td>\n",
              "      <td>0</td>\n",
              "    </tr>\n",
              "    <tr>\n",
              "      <th>3</th>\n",
              "      <td>3</td>\n",
              "      <td>Next, maybe you could work on being less cond...</td>\n",
              "      <td>0.555556</td>\n",
              "      <td>0.444444</td>\n",
              "      <td>0</td>\n",
              "    </tr>\n",
              "    <tr>\n",
              "      <th>4</th>\n",
              "      <td>4</td>\n",
              "      <td>This page will need disambiguation.</td>\n",
              "      <td>1.000000</td>\n",
              "      <td>0.000000</td>\n",
              "      <td>0</td>\n",
              "    </tr>\n",
              "  </tbody>\n",
              "</table>\n",
              "</div>\n",
              "      <button class=\"colab-df-convert\" onclick=\"convertToInteractive('df-ccde85bc-9f24-47ac-a100-380029ac272f')\"\n",
              "              title=\"Convert this dataframe to an interactive table.\"\n",
              "              style=\"display:none;\">\n",
              "        \n",
              "  <svg xmlns=\"http://www.w3.org/2000/svg\" height=\"24px\"viewBox=\"0 0 24 24\"\n",
              "       width=\"24px\">\n",
              "    <path d=\"M0 0h24v24H0V0z\" fill=\"none\"/>\n",
              "    <path d=\"M18.56 5.44l.94 2.06.94-2.06 2.06-.94-2.06-.94-.94-2.06-.94 2.06-2.06.94zm-11 1L8.5 8.5l.94-2.06 2.06-.94-2.06-.94L8.5 2.5l-.94 2.06-2.06.94zm10 10l.94 2.06.94-2.06 2.06-.94-2.06-.94-.94-2.06-.94 2.06-2.06.94z\"/><path d=\"M17.41 7.96l-1.37-1.37c-.4-.4-.92-.59-1.43-.59-.52 0-1.04.2-1.43.59L10.3 9.45l-7.72 7.72c-.78.78-.78 2.05 0 2.83L4 21.41c.39.39.9.59 1.41.59.51 0 1.02-.2 1.41-.59l7.78-7.78 2.81-2.81c.8-.78.8-2.07 0-2.86zM5.41 20L4 18.59l7.72-7.72 1.47 1.35L5.41 20z\"/>\n",
              "  </svg>\n",
              "      </button>\n",
              "      \n",
              "  <style>\n",
              "    .colab-df-container {\n",
              "      display:flex;\n",
              "      flex-wrap:wrap;\n",
              "      gap: 12px;\n",
              "    }\n",
              "\n",
              "    .colab-df-convert {\n",
              "      background-color: #E8F0FE;\n",
              "      border: none;\n",
              "      border-radius: 50%;\n",
              "      cursor: pointer;\n",
              "      display: none;\n",
              "      fill: #1967D2;\n",
              "      height: 32px;\n",
              "      padding: 0 0 0 0;\n",
              "      width: 32px;\n",
              "    }\n",
              "\n",
              "    .colab-df-convert:hover {\n",
              "      background-color: #E2EBFA;\n",
              "      box-shadow: 0px 1px 2px rgba(60, 64, 67, 0.3), 0px 1px 3px 1px rgba(60, 64, 67, 0.15);\n",
              "      fill: #174EA6;\n",
              "    }\n",
              "\n",
              "    [theme=dark] .colab-df-convert {\n",
              "      background-color: #3B4455;\n",
              "      fill: #D2E3FC;\n",
              "    }\n",
              "\n",
              "    [theme=dark] .colab-df-convert:hover {\n",
              "      background-color: #434B5C;\n",
              "      box-shadow: 0px 1px 3px 1px rgba(0, 0, 0, 0.15);\n",
              "      filter: drop-shadow(0px 1px 2px rgba(0, 0, 0, 0.3));\n",
              "      fill: #FFFFFF;\n",
              "    }\n",
              "  </style>\n",
              "\n",
              "      <script>\n",
              "        const buttonEl =\n",
              "          document.querySelector('#df-ccde85bc-9f24-47ac-a100-380029ac272f button.colab-df-convert');\n",
              "        buttonEl.style.display =\n",
              "          google.colab.kernel.accessAllowed ? 'block' : 'none';\n",
              "\n",
              "        async function convertToInteractive(key) {\n",
              "          const element = document.querySelector('#df-ccde85bc-9f24-47ac-a100-380029ac272f');\n",
              "          const dataTable =\n",
              "            await google.colab.kernel.invokeFunction('convertToInteractive',\n",
              "                                                     [key], {});\n",
              "          if (!dataTable) return;\n",
              "\n",
              "          const docLinkHtml = 'Like what you see? Visit the ' +\n",
              "            '<a target=\"_blank\" href=https://colab.research.google.com/notebooks/data_table.ipynb>data table notebook</a>'\n",
              "            + ' to learn more about interactive tables.';\n",
              "          element.innerHTML = '';\n",
              "          dataTable['output_type'] = 'display_data';\n",
              "          await google.colab.output.renderOutput(dataTable, element);\n",
              "          const docLink = document.createElement('div');\n",
              "          docLink.innerHTML = docLinkHtml;\n",
              "          element.appendChild(docLink);\n",
              "        }\n",
              "      </script>\n",
              "    </div>\n",
              "  </div>\n",
              "  "
            ]
          },
          "metadata": {},
          "execution_count": 316
        }
      ],
      "source": [
        "att_df.head()"
      ]
    },
    {
      "cell_type": "markdown",
      "id": "fca4a0fe",
      "metadata": {
        "id": "fca4a0fe"
      },
      "source": [
        "#### 'oh_label' = 0 -> Not attack; 'oh_label' = 1 -> attack; ed_label_0 -> Probability of Not attack; ed_label_1 -> Probability of attack;"
      ]
    },
    {
      "cell_type": "code",
      "execution_count": 317,
      "id": "17a634f2",
      "metadata": {
        "colab": {
          "base_uri": "https://localhost:8080/",
          "height": 206
        },
        "id": "17a634f2",
        "outputId": "44515fc8-b81f-426b-ec3d-b1a8f691658c"
      },
      "outputs": [
        {
          "output_type": "execute_result",
          "data": {
            "text/plain": [
              "   index                                               Text  ed_label_0  \\\n",
              "0      0  This: :One can make an analogy in mathematical...         0.9   \n",
              "1      1  `  :Clarification for you  (and Zundark's righ...         1.0   \n",
              "2      2                          Elected or Electoral? JHK         1.0   \n",
              "3      3  `This is such a fun entry.   Devotchka  I once...         1.0   \n",
              "4      4  Please relate the ozone hole to increases in c...         0.8   \n",
              "\n",
              "   ed_label_1  oh_label  \n",
              "0         0.1         0  \n",
              "1         0.0         0  \n",
              "2         0.0         0  \n",
              "3         0.0         0  \n",
              "4         0.2         0  "
            ],
            "text/html": [
              "\n",
              "  <div id=\"df-f10e5af7-513f-440b-b254-33e4df199519\">\n",
              "    <div class=\"colab-df-container\">\n",
              "      <div>\n",
              "<style scoped>\n",
              "    .dataframe tbody tr th:only-of-type {\n",
              "        vertical-align: middle;\n",
              "    }\n",
              "\n",
              "    .dataframe tbody tr th {\n",
              "        vertical-align: top;\n",
              "    }\n",
              "\n",
              "    .dataframe thead th {\n",
              "        text-align: right;\n",
              "    }\n",
              "</style>\n",
              "<table border=\"1\" class=\"dataframe\">\n",
              "  <thead>\n",
              "    <tr style=\"text-align: right;\">\n",
              "      <th></th>\n",
              "      <th>index</th>\n",
              "      <th>Text</th>\n",
              "      <th>ed_label_0</th>\n",
              "      <th>ed_label_1</th>\n",
              "      <th>oh_label</th>\n",
              "    </tr>\n",
              "  </thead>\n",
              "  <tbody>\n",
              "    <tr>\n",
              "      <th>0</th>\n",
              "      <td>0</td>\n",
              "      <td>This: :One can make an analogy in mathematical...</td>\n",
              "      <td>0.9</td>\n",
              "      <td>0.1</td>\n",
              "      <td>0</td>\n",
              "    </tr>\n",
              "    <tr>\n",
              "      <th>1</th>\n",
              "      <td>1</td>\n",
              "      <td>`  :Clarification for you  (and Zundark's righ...</td>\n",
              "      <td>1.0</td>\n",
              "      <td>0.0</td>\n",
              "      <td>0</td>\n",
              "    </tr>\n",
              "    <tr>\n",
              "      <th>2</th>\n",
              "      <td>2</td>\n",
              "      <td>Elected or Electoral? JHK</td>\n",
              "      <td>1.0</td>\n",
              "      <td>0.0</td>\n",
              "      <td>0</td>\n",
              "    </tr>\n",
              "    <tr>\n",
              "      <th>3</th>\n",
              "      <td>3</td>\n",
              "      <td>`This is such a fun entry.   Devotchka  I once...</td>\n",
              "      <td>1.0</td>\n",
              "      <td>0.0</td>\n",
              "      <td>0</td>\n",
              "    </tr>\n",
              "    <tr>\n",
              "      <th>4</th>\n",
              "      <td>4</td>\n",
              "      <td>Please relate the ozone hole to increases in c...</td>\n",
              "      <td>0.8</td>\n",
              "      <td>0.2</td>\n",
              "      <td>0</td>\n",
              "    </tr>\n",
              "  </tbody>\n",
              "</table>\n",
              "</div>\n",
              "      <button class=\"colab-df-convert\" onclick=\"convertToInteractive('df-f10e5af7-513f-440b-b254-33e4df199519')\"\n",
              "              title=\"Convert this dataframe to an interactive table.\"\n",
              "              style=\"display:none;\">\n",
              "        \n",
              "  <svg xmlns=\"http://www.w3.org/2000/svg\" height=\"24px\"viewBox=\"0 0 24 24\"\n",
              "       width=\"24px\">\n",
              "    <path d=\"M0 0h24v24H0V0z\" fill=\"none\"/>\n",
              "    <path d=\"M18.56 5.44l.94 2.06.94-2.06 2.06-.94-2.06-.94-.94-2.06-.94 2.06-2.06.94zm-11 1L8.5 8.5l.94-2.06 2.06-.94-2.06-.94L8.5 2.5l-.94 2.06-2.06.94zm10 10l.94 2.06.94-2.06 2.06-.94-2.06-.94-.94-2.06-.94 2.06-2.06.94z\"/><path d=\"M17.41 7.96l-1.37-1.37c-.4-.4-.92-.59-1.43-.59-.52 0-1.04.2-1.43.59L10.3 9.45l-7.72 7.72c-.78.78-.78 2.05 0 2.83L4 21.41c.39.39.9.59 1.41.59.51 0 1.02-.2 1.41-.59l7.78-7.78 2.81-2.81c.8-.78.8-2.07 0-2.86zM5.41 20L4 18.59l7.72-7.72 1.47 1.35L5.41 20z\"/>\n",
              "  </svg>\n",
              "      </button>\n",
              "      \n",
              "  <style>\n",
              "    .colab-df-container {\n",
              "      display:flex;\n",
              "      flex-wrap:wrap;\n",
              "      gap: 12px;\n",
              "    }\n",
              "\n",
              "    .colab-df-convert {\n",
              "      background-color: #E8F0FE;\n",
              "      border: none;\n",
              "      border-radius: 50%;\n",
              "      cursor: pointer;\n",
              "      display: none;\n",
              "      fill: #1967D2;\n",
              "      height: 32px;\n",
              "      padding: 0 0 0 0;\n",
              "      width: 32px;\n",
              "    }\n",
              "\n",
              "    .colab-df-convert:hover {\n",
              "      background-color: #E2EBFA;\n",
              "      box-shadow: 0px 1px 2px rgba(60, 64, 67, 0.3), 0px 1px 3px 1px rgba(60, 64, 67, 0.15);\n",
              "      fill: #174EA6;\n",
              "    }\n",
              "\n",
              "    [theme=dark] .colab-df-convert {\n",
              "      background-color: #3B4455;\n",
              "      fill: #D2E3FC;\n",
              "    }\n",
              "\n",
              "    [theme=dark] .colab-df-convert:hover {\n",
              "      background-color: #434B5C;\n",
              "      box-shadow: 0px 1px 3px 1px rgba(0, 0, 0, 0.15);\n",
              "      filter: drop-shadow(0px 1px 2px rgba(0, 0, 0, 0.3));\n",
              "      fill: #FFFFFF;\n",
              "    }\n",
              "  </style>\n",
              "\n",
              "      <script>\n",
              "        const buttonEl =\n",
              "          document.querySelector('#df-f10e5af7-513f-440b-b254-33e4df199519 button.colab-df-convert');\n",
              "        buttonEl.style.display =\n",
              "          google.colab.kernel.accessAllowed ? 'block' : 'none';\n",
              "\n",
              "        async function convertToInteractive(key) {\n",
              "          const element = document.querySelector('#df-f10e5af7-513f-440b-b254-33e4df199519');\n",
              "          const dataTable =\n",
              "            await google.colab.kernel.invokeFunction('convertToInteractive',\n",
              "                                                     [key], {});\n",
              "          if (!dataTable) return;\n",
              "\n",
              "          const docLinkHtml = 'Like what you see? Visit the ' +\n",
              "            '<a target=\"_blank\" href=https://colab.research.google.com/notebooks/data_table.ipynb>data table notebook</a>'\n",
              "            + ' to learn more about interactive tables.';\n",
              "          element.innerHTML = '';\n",
              "          dataTable['output_type'] = 'display_data';\n",
              "          await google.colab.output.renderOutput(dataTable, element);\n",
              "          const docLink = document.createElement('div');\n",
              "          docLink.innerHTML = docLinkHtml;\n",
              "          element.appendChild(docLink);\n",
              "        }\n",
              "      </script>\n",
              "    </div>\n",
              "  </div>\n",
              "  "
            ]
          },
          "metadata": {},
          "execution_count": 317
        }
      ],
      "source": [
        "tox_df.head()"
      ]
    },
    {
      "cell_type": "markdown",
      "id": "4fa01170",
      "metadata": {
        "id": "4fa01170"
      },
      "source": [
        "#### 'oh_label' = 0 -> Not toxic; 'oh_label' = 1 -> toxic; ed_label_0 -> Probability of Not toxic; ed_label_1 -> Probability of toxic;"
      ]
    },
    {
      "cell_type": "code",
      "execution_count": 318,
      "id": "ee04d2be",
      "metadata": {
        "colab": {
          "base_uri": "https://localhost:8080/",
          "height": 206
        },
        "id": "ee04d2be",
        "outputId": "bf7cf3e7-6a74-4195-98ba-3ccb9b2abe7c"
      },
      "outputs": [
        {
          "output_type": "execute_result",
          "data": {
            "text/plain": [
              "          index            id  \\\n",
              "0  5.767493e+17  5.767493e+17   \n",
              "1  5.408905e+17  5.408905e+17   \n",
              "2  5.678433e+17  5.678433e+17   \n",
              "3  5.766462e+17  5.766462e+17   \n",
              "4  5.713492e+17  5.713492e+17   \n",
              "\n",
              "                                                Text Annotation  oh_label  \n",
              "0  @AAlwuhaib1977 Muslim mob violence against Hin...     racism         1  \n",
              "1             @Te4m_NiGhtM4Re http://t.co/5Ih7MkDbQG       none         0  \n",
              "2  @jncatron @isra_jourisra @AMPalestine Islamoph...     racism         1  \n",
              "3  Finally I'm all caught up, and that sudden dea...       none         0  \n",
              "4             @carolinesinders @herecomesfran *hugs*       none         0  "
            ],
            "text/html": [
              "\n",
              "  <div id=\"df-946ef328-ee8f-4b43-840d-7878c8d8a995\">\n",
              "    <div class=\"colab-df-container\">\n",
              "      <div>\n",
              "<style scoped>\n",
              "    .dataframe tbody tr th:only-of-type {\n",
              "        vertical-align: middle;\n",
              "    }\n",
              "\n",
              "    .dataframe tbody tr th {\n",
              "        vertical-align: top;\n",
              "    }\n",
              "\n",
              "    .dataframe thead th {\n",
              "        text-align: right;\n",
              "    }\n",
              "</style>\n",
              "<table border=\"1\" class=\"dataframe\">\n",
              "  <thead>\n",
              "    <tr style=\"text-align: right;\">\n",
              "      <th></th>\n",
              "      <th>index</th>\n",
              "      <th>id</th>\n",
              "      <th>Text</th>\n",
              "      <th>Annotation</th>\n",
              "      <th>oh_label</th>\n",
              "    </tr>\n",
              "  </thead>\n",
              "  <tbody>\n",
              "    <tr>\n",
              "      <th>0</th>\n",
              "      <td>5.767493e+17</td>\n",
              "      <td>5.767493e+17</td>\n",
              "      <td>@AAlwuhaib1977 Muslim mob violence against Hin...</td>\n",
              "      <td>racism</td>\n",
              "      <td>1</td>\n",
              "    </tr>\n",
              "    <tr>\n",
              "      <th>1</th>\n",
              "      <td>5.408905e+17</td>\n",
              "      <td>5.408905e+17</td>\n",
              "      <td>@Te4m_NiGhtM4Re http://t.co/5Ih7MkDbQG</td>\n",
              "      <td>none</td>\n",
              "      <td>0</td>\n",
              "    </tr>\n",
              "    <tr>\n",
              "      <th>2</th>\n",
              "      <td>5.678433e+17</td>\n",
              "      <td>5.678433e+17</td>\n",
              "      <td>@jncatron @isra_jourisra @AMPalestine Islamoph...</td>\n",
              "      <td>racism</td>\n",
              "      <td>1</td>\n",
              "    </tr>\n",
              "    <tr>\n",
              "      <th>3</th>\n",
              "      <td>5.766462e+17</td>\n",
              "      <td>5.766462e+17</td>\n",
              "      <td>Finally I'm all caught up, and that sudden dea...</td>\n",
              "      <td>none</td>\n",
              "      <td>0</td>\n",
              "    </tr>\n",
              "    <tr>\n",
              "      <th>4</th>\n",
              "      <td>5.713492e+17</td>\n",
              "      <td>5.713492e+17</td>\n",
              "      <td>@carolinesinders @herecomesfran *hugs*</td>\n",
              "      <td>none</td>\n",
              "      <td>0</td>\n",
              "    </tr>\n",
              "  </tbody>\n",
              "</table>\n",
              "</div>\n",
              "      <button class=\"colab-df-convert\" onclick=\"convertToInteractive('df-946ef328-ee8f-4b43-840d-7878c8d8a995')\"\n",
              "              title=\"Convert this dataframe to an interactive table.\"\n",
              "              style=\"display:none;\">\n",
              "        \n",
              "  <svg xmlns=\"http://www.w3.org/2000/svg\" height=\"24px\"viewBox=\"0 0 24 24\"\n",
              "       width=\"24px\">\n",
              "    <path d=\"M0 0h24v24H0V0z\" fill=\"none\"/>\n",
              "    <path d=\"M18.56 5.44l.94 2.06.94-2.06 2.06-.94-2.06-.94-.94-2.06-.94 2.06-2.06.94zm-11 1L8.5 8.5l.94-2.06 2.06-.94-2.06-.94L8.5 2.5l-.94 2.06-2.06.94zm10 10l.94 2.06.94-2.06 2.06-.94-2.06-.94-.94-2.06-.94 2.06-2.06.94z\"/><path d=\"M17.41 7.96l-1.37-1.37c-.4-.4-.92-.59-1.43-.59-.52 0-1.04.2-1.43.59L10.3 9.45l-7.72 7.72c-.78.78-.78 2.05 0 2.83L4 21.41c.39.39.9.59 1.41.59.51 0 1.02-.2 1.41-.59l7.78-7.78 2.81-2.81c.8-.78.8-2.07 0-2.86zM5.41 20L4 18.59l7.72-7.72 1.47 1.35L5.41 20z\"/>\n",
              "  </svg>\n",
              "      </button>\n",
              "      \n",
              "  <style>\n",
              "    .colab-df-container {\n",
              "      display:flex;\n",
              "      flex-wrap:wrap;\n",
              "      gap: 12px;\n",
              "    }\n",
              "\n",
              "    .colab-df-convert {\n",
              "      background-color: #E8F0FE;\n",
              "      border: none;\n",
              "      border-radius: 50%;\n",
              "      cursor: pointer;\n",
              "      display: none;\n",
              "      fill: #1967D2;\n",
              "      height: 32px;\n",
              "      padding: 0 0 0 0;\n",
              "      width: 32px;\n",
              "    }\n",
              "\n",
              "    .colab-df-convert:hover {\n",
              "      background-color: #E2EBFA;\n",
              "      box-shadow: 0px 1px 2px rgba(60, 64, 67, 0.3), 0px 1px 3px 1px rgba(60, 64, 67, 0.15);\n",
              "      fill: #174EA6;\n",
              "    }\n",
              "\n",
              "    [theme=dark] .colab-df-convert {\n",
              "      background-color: #3B4455;\n",
              "      fill: #D2E3FC;\n",
              "    }\n",
              "\n",
              "    [theme=dark] .colab-df-convert:hover {\n",
              "      background-color: #434B5C;\n",
              "      box-shadow: 0px 1px 3px 1px rgba(0, 0, 0, 0.15);\n",
              "      filter: drop-shadow(0px 1px 2px rgba(0, 0, 0, 0.3));\n",
              "      fill: #FFFFFF;\n",
              "    }\n",
              "  </style>\n",
              "\n",
              "      <script>\n",
              "        const buttonEl =\n",
              "          document.querySelector('#df-946ef328-ee8f-4b43-840d-7878c8d8a995 button.colab-df-convert');\n",
              "        buttonEl.style.display =\n",
              "          google.colab.kernel.accessAllowed ? 'block' : 'none';\n",
              "\n",
              "        async function convertToInteractive(key) {\n",
              "          const element = document.querySelector('#df-946ef328-ee8f-4b43-840d-7878c8d8a995');\n",
              "          const dataTable =\n",
              "            await google.colab.kernel.invokeFunction('convertToInteractive',\n",
              "                                                     [key], {});\n",
              "          if (!dataTable) return;\n",
              "\n",
              "          const docLinkHtml = 'Like what you see? Visit the ' +\n",
              "            '<a target=\"_blank\" href=https://colab.research.google.com/notebooks/data_table.ipynb>data table notebook</a>'\n",
              "            + ' to learn more about interactive tables.';\n",
              "          element.innerHTML = '';\n",
              "          dataTable['output_type'] = 'display_data';\n",
              "          await google.colab.output.renderOutput(dataTable, element);\n",
              "          const docLink = document.createElement('div');\n",
              "          docLink.innerHTML = docLinkHtml;\n",
              "          element.appendChild(docLink);\n",
              "        }\n",
              "      </script>\n",
              "    </div>\n",
              "  </div>\n",
              "  "
            ]
          },
          "metadata": {},
          "execution_count": 318
        }
      ],
      "source": [
        "rac_df.head()"
      ]
    },
    {
      "cell_type": "markdown",
      "id": "c6b9d1db",
      "metadata": {
        "id": "c6b9d1db"
      },
      "source": [
        "#### 'oh_label' = 0 -> Not racist; 'oh_label' = 1 -> racist; "
      ]
    },
    {
      "cell_type": "code",
      "execution_count": 319,
      "id": "e62fa725",
      "metadata": {
        "colab": {
          "base_uri": "https://localhost:8080/",
          "height": 206
        },
        "id": "e62fa725",
        "outputId": "f3be7852-ab88-4ad2-95b9-215d536b9fd9"
      },
      "outputs": [
        {
          "output_type": "execute_result",
          "data": {
            "text/plain": [
              "                   index                     id  \\\n",
              "0  5.35198627292254E+017  5.35198627292254E+017   \n",
              "1  5.75984924030714E+017  5.75984924030714E+017   \n",
              "2   5.7233536016588E+017   5.7233536016588E+017   \n",
              "3  5.72337925708374E+017  5.72337925708374E+017   \n",
              "4  4.43033024528011E+017  4.43033024528011E+017   \n",
              "\n",
              "                                                Text Annotation  oh_label  \n",
              "0  RT @BeepsS: @senna1 @BeepsS: I'm not sexist bu...     sexism       1.0  \n",
              "1   There's some very hate able teams this year #MKR       none       0.0  \n",
              "2  RT @The_Eccles: \"Everyone underestimated us\" \\...       none       0.0  \n",
              "3  RT @NOTLukeDarcy: did @Channel7 or #MKR actual...       none       0.0  \n",
              "4  No, you don't. @Shut_Up_Jeff: I thought of a r...     sexism       1.0  "
            ],
            "text/html": [
              "\n",
              "  <div id=\"df-5e0939b9-df24-430f-b296-0b4774abf3e3\">\n",
              "    <div class=\"colab-df-container\">\n",
              "      <div>\n",
              "<style scoped>\n",
              "    .dataframe tbody tr th:only-of-type {\n",
              "        vertical-align: middle;\n",
              "    }\n",
              "\n",
              "    .dataframe tbody tr th {\n",
              "        vertical-align: top;\n",
              "    }\n",
              "\n",
              "    .dataframe thead th {\n",
              "        text-align: right;\n",
              "    }\n",
              "</style>\n",
              "<table border=\"1\" class=\"dataframe\">\n",
              "  <thead>\n",
              "    <tr style=\"text-align: right;\">\n",
              "      <th></th>\n",
              "      <th>index</th>\n",
              "      <th>id</th>\n",
              "      <th>Text</th>\n",
              "      <th>Annotation</th>\n",
              "      <th>oh_label</th>\n",
              "    </tr>\n",
              "  </thead>\n",
              "  <tbody>\n",
              "    <tr>\n",
              "      <th>0</th>\n",
              "      <td>5.35198627292254E+017</td>\n",
              "      <td>5.35198627292254E+017</td>\n",
              "      <td>RT @BeepsS: @senna1 @BeepsS: I'm not sexist bu...</td>\n",
              "      <td>sexism</td>\n",
              "      <td>1.0</td>\n",
              "    </tr>\n",
              "    <tr>\n",
              "      <th>1</th>\n",
              "      <td>5.75984924030714E+017</td>\n",
              "      <td>5.75984924030714E+017</td>\n",
              "      <td>There's some very hate able teams this year #MKR</td>\n",
              "      <td>none</td>\n",
              "      <td>0.0</td>\n",
              "    </tr>\n",
              "    <tr>\n",
              "      <th>2</th>\n",
              "      <td>5.7233536016588E+017</td>\n",
              "      <td>5.7233536016588E+017</td>\n",
              "      <td>RT @The_Eccles: \"Everyone underestimated us\" \\...</td>\n",
              "      <td>none</td>\n",
              "      <td>0.0</td>\n",
              "    </tr>\n",
              "    <tr>\n",
              "      <th>3</th>\n",
              "      <td>5.72337925708374E+017</td>\n",
              "      <td>5.72337925708374E+017</td>\n",
              "      <td>RT @NOTLukeDarcy: did @Channel7 or #MKR actual...</td>\n",
              "      <td>none</td>\n",
              "      <td>0.0</td>\n",
              "    </tr>\n",
              "    <tr>\n",
              "      <th>4</th>\n",
              "      <td>4.43033024528011E+017</td>\n",
              "      <td>4.43033024528011E+017</td>\n",
              "      <td>No, you don't. @Shut_Up_Jeff: I thought of a r...</td>\n",
              "      <td>sexism</td>\n",
              "      <td>1.0</td>\n",
              "    </tr>\n",
              "  </tbody>\n",
              "</table>\n",
              "</div>\n",
              "      <button class=\"colab-df-convert\" onclick=\"convertToInteractive('df-5e0939b9-df24-430f-b296-0b4774abf3e3')\"\n",
              "              title=\"Convert this dataframe to an interactive table.\"\n",
              "              style=\"display:none;\">\n",
              "        \n",
              "  <svg xmlns=\"http://www.w3.org/2000/svg\" height=\"24px\"viewBox=\"0 0 24 24\"\n",
              "       width=\"24px\">\n",
              "    <path d=\"M0 0h24v24H0V0z\" fill=\"none\"/>\n",
              "    <path d=\"M18.56 5.44l.94 2.06.94-2.06 2.06-.94-2.06-.94-.94-2.06-.94 2.06-2.06.94zm-11 1L8.5 8.5l.94-2.06 2.06-.94-2.06-.94L8.5 2.5l-.94 2.06-2.06.94zm10 10l.94 2.06.94-2.06 2.06-.94-2.06-.94-.94-2.06-.94 2.06-2.06.94z\"/><path d=\"M17.41 7.96l-1.37-1.37c-.4-.4-.92-.59-1.43-.59-.52 0-1.04.2-1.43.59L10.3 9.45l-7.72 7.72c-.78.78-.78 2.05 0 2.83L4 21.41c.39.39.9.59 1.41.59.51 0 1.02-.2 1.41-.59l7.78-7.78 2.81-2.81c.8-.78.8-2.07 0-2.86zM5.41 20L4 18.59l7.72-7.72 1.47 1.35L5.41 20z\"/>\n",
              "  </svg>\n",
              "      </button>\n",
              "      \n",
              "  <style>\n",
              "    .colab-df-container {\n",
              "      display:flex;\n",
              "      flex-wrap:wrap;\n",
              "      gap: 12px;\n",
              "    }\n",
              "\n",
              "    .colab-df-convert {\n",
              "      background-color: #E8F0FE;\n",
              "      border: none;\n",
              "      border-radius: 50%;\n",
              "      cursor: pointer;\n",
              "      display: none;\n",
              "      fill: #1967D2;\n",
              "      height: 32px;\n",
              "      padding: 0 0 0 0;\n",
              "      width: 32px;\n",
              "    }\n",
              "\n",
              "    .colab-df-convert:hover {\n",
              "      background-color: #E2EBFA;\n",
              "      box-shadow: 0px 1px 2px rgba(60, 64, 67, 0.3), 0px 1px 3px 1px rgba(60, 64, 67, 0.15);\n",
              "      fill: #174EA6;\n",
              "    }\n",
              "\n",
              "    [theme=dark] .colab-df-convert {\n",
              "      background-color: #3B4455;\n",
              "      fill: #D2E3FC;\n",
              "    }\n",
              "\n",
              "    [theme=dark] .colab-df-convert:hover {\n",
              "      background-color: #434B5C;\n",
              "      box-shadow: 0px 1px 3px 1px rgba(0, 0, 0, 0.15);\n",
              "      filter: drop-shadow(0px 1px 2px rgba(0, 0, 0, 0.3));\n",
              "      fill: #FFFFFF;\n",
              "    }\n",
              "  </style>\n",
              "\n",
              "      <script>\n",
              "        const buttonEl =\n",
              "          document.querySelector('#df-5e0939b9-df24-430f-b296-0b4774abf3e3 button.colab-df-convert');\n",
              "        buttonEl.style.display =\n",
              "          google.colab.kernel.accessAllowed ? 'block' : 'none';\n",
              "\n",
              "        async function convertToInteractive(key) {\n",
              "          const element = document.querySelector('#df-5e0939b9-df24-430f-b296-0b4774abf3e3');\n",
              "          const dataTable =\n",
              "            await google.colab.kernel.invokeFunction('convertToInteractive',\n",
              "                                                     [key], {});\n",
              "          if (!dataTable) return;\n",
              "\n",
              "          const docLinkHtml = 'Like what you see? Visit the ' +\n",
              "            '<a target=\"_blank\" href=https://colab.research.google.com/notebooks/data_table.ipynb>data table notebook</a>'\n",
              "            + ' to learn more about interactive tables.';\n",
              "          element.innerHTML = '';\n",
              "          dataTable['output_type'] = 'display_data';\n",
              "          await google.colab.output.renderOutput(dataTable, element);\n",
              "          const docLink = document.createElement('div');\n",
              "          docLink.innerHTML = docLinkHtml;\n",
              "          element.appendChild(docLink);\n",
              "        }\n",
              "      </script>\n",
              "    </div>\n",
              "  </div>\n",
              "  "
            ]
          },
          "metadata": {},
          "execution_count": 319
        }
      ],
      "source": [
        "sex_df.head()"
      ]
    },
    {
      "cell_type": "markdown",
      "id": "8b220d9b",
      "metadata": {
        "id": "8b220d9b"
      },
      "source": [
        "#### 'oh_label' = 0 -> Not sexist; 'oh_label' = 1 -> sexist; "
      ]
    },
    {
      "cell_type": "code",
      "source": [],
      "metadata": {
        "id": "eWp0hFZ0xPe-"
      },
      "id": "eWp0hFZ0xPe-",
      "execution_count": 319,
      "outputs": []
    },
    {
      "cell_type": "markdown",
      "id": "6ea7d817",
      "metadata": {
        "id": "6ea7d817"
      },
      "source": [
        "### Checking for missing values"
      ]
    },
    {
      "cell_type": "code",
      "execution_count": 320,
      "id": "6bbe211e",
      "metadata": {
        "colab": {
          "base_uri": "https://localhost:8080/"
        },
        "id": "6bbe211e",
        "outputId": "c14fec56-e70e-47e4-f7c0-89dc9b49f5f2"
      },
      "outputs": [
        {
          "output_type": "stream",
          "name": "stdout",
          "text": [
            "The no. of Null values in aggression database: index         0\n",
            "Text          0\n",
            "ed_label_0    0\n",
            "ed_label_1    0\n",
            "oh_label      0\n",
            "dtype: int64\n",
            "The no. of Null values in attack database: index         0\n",
            "Text          0\n",
            "ed_label_0    0\n",
            "ed_label_1    0\n",
            "oh_label      0\n",
            "dtype: int64\n",
            "The no. of Null values in toxicity database: index         0\n",
            "Text          0\n",
            "ed_label_0    0\n",
            "ed_label_1    0\n",
            "oh_label      0\n",
            "dtype: int64\n",
            "The no. of Null values in racism database: index         0\n",
            "id            0\n",
            "Text          0\n",
            "Annotation    0\n",
            "oh_label      0\n",
            "dtype: int64\n",
            "The no. of Null values in sexism database: index         0\n",
            "id            1\n",
            "Text          1\n",
            "Annotation    3\n",
            "oh_label      3\n",
            "dtype: int64\n"
          ]
        }
      ],
      "source": [
        "# Printing the count of null values of dataframe\n",
        "print(\"The no. of Null values in aggression database:\",agg_df.isnull().sum())\n",
        "print(\"The no. of Null values in attack database:\",att_df.isnull().sum())\n",
        "print(\"The no. of Null values in toxicity database:\",tox_df.isnull().sum())\n",
        "print(\"The no. of Null values in racism database:\",rac_df.isnull().sum())\n",
        "print(\"The no. of Null values in sexism database:\",sex_df.isnull().sum())"
      ]
    },
    {
      "cell_type": "code",
      "source": [
        "# Removing rows which has NULL values\n",
        "sex_df = sex_df.dropna()"
      ],
      "metadata": {
        "id": "yHBoVbewz6ml"
      },
      "id": "yHBoVbewz6ml",
      "execution_count": 321,
      "outputs": []
    },
    {
      "cell_type": "code",
      "source": [
        "print(\"The no. of Null values in sexism database:\",sex_df.isnull().sum())"
      ],
      "metadata": {
        "colab": {
          "base_uri": "https://localhost:8080/"
        },
        "id": "qf2JcFL-0CWJ",
        "outputId": "4b4ed842-e97d-4913-eab1-9a266b09cff0"
      },
      "id": "qf2JcFL-0CWJ",
      "execution_count": 322,
      "outputs": [
        {
          "output_type": "stream",
          "name": "stdout",
          "text": [
            "The no. of Null values in sexism database: index         0\n",
            "id            0\n",
            "Text          0\n",
            "Annotation    0\n",
            "oh_label      0\n",
            "dtype: int64\n"
          ]
        }
      ]
    },
    {
      "cell_type": "code",
      "source": [
        "# Converting oh_label from float to int\n",
        "sex_df['oh_label'] = sex_df['oh_label'].astype(int)"
      ],
      "metadata": {
        "id": "PYI-PTP-0Law"
      },
      "id": "PYI-PTP-0Law",
      "execution_count": 323,
      "outputs": []
    },
    {
      "cell_type": "markdown",
      "id": "eab27471",
      "metadata": {
        "id": "eab27471"
      },
      "source": [
        "### Information about the dataframes"
      ]
    },
    {
      "cell_type": "code",
      "execution_count": 324,
      "id": "1780964a",
      "metadata": {
        "colab": {
          "base_uri": "https://localhost:8080/"
        },
        "id": "1780964a",
        "outputId": "d4708e51-b699-4829-f667-1894b3a39b93"
      },
      "outputs": [
        {
          "output_type": "stream",
          "name": "stdout",
          "text": [
            "<class 'pandas.core.frame.DataFrame'>\n",
            "RangeIndex: 115864 entries, 0 to 115863\n",
            "Data columns (total 5 columns):\n",
            " #   Column      Non-Null Count   Dtype  \n",
            "---  ------      --------------   -----  \n",
            " 0   index       115864 non-null  int64  \n",
            " 1   Text        115864 non-null  object \n",
            " 2   ed_label_0  115864 non-null  float64\n",
            " 3   ed_label_1  115864 non-null  float64\n",
            " 4   oh_label    115864 non-null  int64  \n",
            "dtypes: float64(2), int64(2), object(1)\n",
            "memory usage: 4.4+ MB\n",
            "None\n",
            "<class 'pandas.core.frame.DataFrame'>\n",
            "RangeIndex: 115864 entries, 0 to 115863\n",
            "Data columns (total 5 columns):\n",
            " #   Column      Non-Null Count   Dtype  \n",
            "---  ------      --------------   -----  \n",
            " 0   index       115864 non-null  int64  \n",
            " 1   Text        115864 non-null  object \n",
            " 2   ed_label_0  115864 non-null  float64\n",
            " 3   ed_label_1  115864 non-null  float64\n",
            " 4   oh_label    115864 non-null  int64  \n",
            "dtypes: float64(2), int64(2), object(1)\n",
            "memory usage: 4.4+ MB\n",
            "None\n",
            "<class 'pandas.core.frame.DataFrame'>\n",
            "RangeIndex: 159686 entries, 0 to 159685\n",
            "Data columns (total 5 columns):\n",
            " #   Column      Non-Null Count   Dtype  \n",
            "---  ------      --------------   -----  \n",
            " 0   index       159686 non-null  int64  \n",
            " 1   Text        159686 non-null  object \n",
            " 2   ed_label_0  159686 non-null  float64\n",
            " 3   ed_label_1  159686 non-null  float64\n",
            " 4   oh_label    159686 non-null  int64  \n",
            "dtypes: float64(2), int64(2), object(1)\n",
            "memory usage: 6.1+ MB\n",
            "None\n",
            "<class 'pandas.core.frame.DataFrame'>\n",
            "RangeIndex: 13471 entries, 0 to 13470\n",
            "Data columns (total 5 columns):\n",
            " #   Column      Non-Null Count  Dtype  \n",
            "---  ------      --------------  -----  \n",
            " 0   index       13471 non-null  float64\n",
            " 1   id          13471 non-null  float64\n",
            " 2   Text        13471 non-null  object \n",
            " 3   Annotation  13471 non-null  object \n",
            " 4   oh_label    13471 non-null  int64  \n",
            "dtypes: float64(2), int64(1), object(2)\n",
            "memory usage: 526.3+ KB\n",
            "None\n",
            "<class 'pandas.core.frame.DataFrame'>\n",
            "Int64Index: 14878 entries, 0 to 14880\n",
            "Data columns (total 5 columns):\n",
            " #   Column      Non-Null Count  Dtype \n",
            "---  ------      --------------  ----- \n",
            " 0   index       14878 non-null  object\n",
            " 1   id          14878 non-null  object\n",
            " 2   Text        14878 non-null  object\n",
            " 3   Annotation  14878 non-null  object\n",
            " 4   oh_label    14878 non-null  int64 \n",
            "dtypes: int64(1), object(4)\n",
            "memory usage: 697.4+ KB\n",
            "None\n"
          ]
        }
      ],
      "source": [
        "print(agg_df.info())\n",
        "print(att_df.info())\n",
        "print(tox_df.info())\n",
        "print(rac_df.info())\n",
        "print(sex_df.info())"
      ]
    },
    {
      "cell_type": "markdown",
      "id": "8cd3c157",
      "metadata": {
        "id": "8cd3c157"
      },
      "source": [
        "### Column processing"
      ]
    },
    {
      "cell_type": "code",
      "execution_count": 325,
      "id": "9d7e62c8",
      "metadata": {
        "id": "9d7e62c8"
      },
      "outputs": [],
      "source": [
        "# Dropping columns\n",
        "agg_df.drop('index',axis='columns',inplace=True)\n",
        "att_df.drop('index',axis='columns',inplace=True)\n",
        "tox_df.drop('index',axis='columns',inplace=True)\n",
        "rac_df.drop(['index','id','Annotation'],axis='columns',inplace=True)\n",
        "sex_df.drop(['index','id','Annotation'],axis='columns',inplace=True)"
      ]
    },
    {
      "cell_type": "code",
      "execution_count": 326,
      "id": "3016ad53",
      "metadata": {
        "id": "3016ad53"
      },
      "outputs": [],
      "source": [
        "# Renaming the columns\n",
        "agg_df = agg_df.rename({'ed_label_0':'Prob_not_aggression','ed_label_1':'Prob_aggression','oh_label':'aggression'},axis='columns')\n",
        "att_df = att_df.rename({'ed_label_0':'Prob_not_attack','ed_label_1':'Prob_attack','oh_label':'attack'},axis='columns')\n",
        "tox_df = tox_df.rename({'ed_label_0':'Prob_not_toxicity','ed_label_1':'Prob_toxicity','oh_label':'toxicity'},axis='columns')\n",
        "rac_df = rac_df.rename({'oh_label':'racism'},axis='columns')\n",
        "sex_df = sex_df.rename({'oh_label':'sexism'},axis='columns')"
      ]
    },
    {
      "cell_type": "markdown",
      "id": "dea82df7",
      "metadata": {
        "id": "dea82df7"
      },
      "source": [
        "# Pre-processing the text"
      ]
    },
    {
      "cell_type": "code",
      "execution_count": 327,
      "id": "d0b97d86",
      "metadata": {
        "id": "d0b97d86"
      },
      "outputs": [],
      "source": [
        "# Function to remove Emojis (if any) and replacing them with blank\n",
        "def rem_emoji(text):\n",
        "    return emoji.replace_emoji(text,replace=\"\")"
      ]
    },
    {
      "cell_type": "code",
      "execution_count": 328,
      "id": "f91fec2d",
      "metadata": {
        "id": "f91fec2d"
      },
      "outputs": [],
      "source": [
        "# Fucntion to convert text to lowercase, remove (/r, /n  characters), URLs, non-utf characters, numbers, punctuations and/or stopword\n",
        "def rem_all_entities(text): \n",
        "    text = text.replace('\\r', '').replace('\\n', ' ').lower()\n",
        "    text = re.sub(r\"(?:\\@|https?\\://)\\S+\", \"\", text)\n",
        "    text = re.sub(r'[^\\x00-\\x7f]',r'', text)\n",
        "    text = re.sub(r'(.)1+', r'1', text)\n",
        "    text = re.sub('[0-9]+', '', text)\n",
        "    stopchars= string.punctuation\n",
        "    table = str.maketrans('', '', stopchars)\n",
        "    text = text.translate(table)\n",
        "    text = [word for word in text.split() if word not in stop_words]\n",
        "    text = ' '.join(text)\n",
        "    return text\n"
      ]
    },
    {
      "cell_type": "code",
      "execution_count": 329,
      "id": "8cfdd285",
      "metadata": {
        "id": "8cfdd285"
      },
      "outputs": [],
      "source": [
        "# Function to remove contractions\n",
        "def decontract(text):\n",
        "    text = re.sub(r\"can\\'t\", \"can not\", text)\n",
        "    text = re.sub(r\"n\\'t\", \" not\", text)\n",
        "    text = re.sub(r\"\\'re\", \" are\", text)\n",
        "    text = re.sub(r\"\\'s\", \" is\", text)\n",
        "    text = re.sub(r\"\\'d\", \" would\", text)\n",
        "    text = re.sub(r\"\\'ll\", \" will\", text)\n",
        "    text = re.sub(r\"\\'t\", \" not\", text)\n",
        "    text = re.sub(r\"\\'ve\", \" have\", text)\n",
        "    text = re.sub(r\"\\'m\", \" am\", text)\n",
        "    return text"
      ]
    },
    {
      "cell_type": "code",
      "execution_count": 330,
      "id": "0cf286cf",
      "metadata": {
        "id": "0cf286cf"
      },
      "outputs": [],
      "source": [
        "# Function to Remove Hashtags\n",
        "def rem_hashtags(text):\n",
        "    new_text = \" \".join(word.strip() for word in re.split('#(?!(?:hashtag)\\b)[\\w-]+(?=(?:\\s+#[\\w-]+)*\\s*$)', text))\n",
        "    new_text2 = \" \".join(word.strip() for word in re.split('#|_', new_text))\n",
        "    return new_text2"
      ]
    },
    {
      "cell_type": "code",
      "execution_count": 331,
      "id": "6a14b6bb",
      "metadata": {
        "id": "6a14b6bb"
      },
      "outputs": [],
      "source": [
        "# Function to remove special characters like $, &\n",
        "def rem_chars(text):\n",
        "    sent = []\n",
        "    for word in text.split(' '):\n",
        "        if ('$' in word) | ('&' in word):\n",
        "            sent.append('')\n",
        "        else:\n",
        "            sent.append(word)\n",
        "    return ' '.join(sent)"
      ]
    },
    {
      "cell_type": "code",
      "execution_count": 332,
      "id": "e1da6e34",
      "metadata": {
        "id": "e1da6e34"
      },
      "outputs": [],
      "source": [
        "# Function to remove mutiple sequence spaces\n",
        "def rem_multi_spaces(text):\n",
        "    return re.sub(\"\\s\\s+\" , \" \", text)"
      ]
    },
    {
      "cell_type": "markdown",
      "id": "b2332a2b",
      "metadata": {
        "id": "b2332a2b"
      },
      "source": [
        "### Stemming and Lemmatization to words"
      ]
    },
    {
      "cell_type": "code",
      "execution_count": 333,
      "id": "6aa6686c",
      "metadata": {
        "id": "6aa6686c"
      },
      "outputs": [],
      "source": [
        "# Function to apply Porter stemming to words\n",
        "def stemmer(text):\n",
        "    tokenized = nltk.word_tokenize(text)\n",
        "    ps = PorterStemmer()\n",
        "    return ' '.join([ps.stem(words) for words in tokenized])"
      ]
    },
    {
      "cell_type": "code",
      "execution_count": 334,
      "id": "4bb55be8",
      "metadata": {
        "id": "4bb55be8"
      },
      "outputs": [],
      "source": [
        "# Function to apply WordNet lemmatization to words\n",
        "def lemma(text):\n",
        "    tokenized = nltk.word_tokenize(text)\n",
        "    lm = WordNetLemmatizer()\n",
        "    return ' '.join([lm.lemmatize(words) for words in tokenized])"
      ]
    },
    {
      "cell_type": "code",
      "execution_count": 335,
      "id": "92a70216",
      "metadata": {
        "id": "92a70216"
      },
      "outputs": [],
      "source": [
        "# Defining the stopwords\n",
        "stop_words = set(stopwords.words('english'))"
      ]
    },
    {
      "cell_type": "code",
      "execution_count": 336,
      "id": "b2a728c2",
      "metadata": {
        "id": "b2a728c2"
      },
      "outputs": [],
      "source": [
        "# Combining all the pre-processing functions to a single function\n",
        "def preprocess(text):\n",
        "    text = rem_emoji(text)\n",
        "    text = decontract(text)\n",
        "    text = rem_all_entities(text)\n",
        "    text = rem_hashtags(text)\n",
        "    text = rem_chars(text)\n",
        "    text = rem_multi_spaces(text)\n",
        "    text = stemmer(text)\n",
        "    text = lemma(text)\n",
        "    return text"
      ]
    },
    {
      "cell_type": "code",
      "execution_count": 337,
      "id": "8c74803e",
      "metadata": {
        "colab": {
          "base_uri": "https://localhost:8080/"
        },
        "id": "8c74803e",
        "outputId": "509d300a-2849-4dd1-c0c5-7ffd0904b64b"
      },
      "outputs": [
        {
          "output_type": "stream",
          "name": "stdout",
          "text": [
            "5000\n"
          ]
        }
      ],
      "source": [
        "# Identifying the stack overflow for recursive functions\n",
        "import sys\n",
        "print(sys.getrecursionlimit())"
      ]
    },
    {
      "cell_type": "code",
      "execution_count": 338,
      "id": "68059bab",
      "metadata": {
        "id": "68059bab"
      },
      "outputs": [],
      "source": [
        "# Defining the stack overflow for recursive functions\n",
        "sys.setrecursionlimit(5000)"
      ]
    },
    {
      "cell_type": "code",
      "execution_count": 339,
      "id": "e6d821a0",
      "metadata": {
        "id": "e6d821a0"
      },
      "outputs": [],
      "source": [
        "# Applying Pre-processing in the text of the dataframes\n",
        "agg_df['tokenized_text'] = agg_df['Text'].apply(preprocess)\n",
        "att_df['tokenized_text'] = att_df['Text'].apply(preprocess)\n",
        "tox_df['tokenized_text'] = tox_df['Text'].apply(preprocess)\n",
        "rac_df['tokenized_text'] = rac_df['Text'].apply(preprocess)\n",
        "sex_df['tokenized_text'] = sex_df['Text'].apply(preprocess)"
      ]
    },
    {
      "cell_type": "code",
      "execution_count": 340,
      "id": "05e51625",
      "metadata": {
        "colab": {
          "base_uri": "https://localhost:8080/"
        },
        "id": "05e51625",
        "outputId": "773a8964-69db-401a-a78d-6f0709cc2b3c"
      },
      "outputs": [
        {
          "output_type": "stream",
          "name": "stdout",
          "text": [
            "                                                Text  Prob_not_aggression  \\\n",
            "0  `- This is not ``creative``.  Those are the di...             0.900000   \n",
            "1  `  :: the term ``standard model`` is itself le...             1.000000   \n",
            "2    True or false, the situation as of March 200...             1.000000   \n",
            "3   Next, maybe you could work on being less cond...             0.555556   \n",
            "4               This page will need disambiguation.              1.000000   \n",
            "\n",
            "   Prob_aggression  aggression  \\\n",
            "0         0.100000           0   \n",
            "1         0.000000           0   \n",
            "2         0.000000           0   \n",
            "3         0.444444           0   \n",
            "4         0.000000           0   \n",
            "\n",
            "                                      tokenized_text  \n",
            "0  creativ dictionari definit term insur ensur pr...  \n",
            "1  term standard model le npov think would prefer...  \n",
            "2  true fals situat march saudi propos land peac ...  \n",
            "3  next mayb could work le condescend suggest rea...  \n",
            "4                                page need disambigu  \n",
            "                                                Text  Prob_not_attack  \\\n",
            "0  `- This is not ``creative``.  Those are the di...         1.000000   \n",
            "1  `  :: the term ``standard model`` is itself le...         1.000000   \n",
            "2    True or false, the situation as of March 200...         1.000000   \n",
            "3   Next, maybe you could work on being less cond...         0.555556   \n",
            "4               This page will need disambiguation.          1.000000   \n",
            "\n",
            "   Prob_attack  attack                                     tokenized_text  \n",
            "0     0.000000       0  creativ dictionari definit term insur ensur pr...  \n",
            "1     0.000000       0  term standard model le npov think would prefer...  \n",
            "2     0.000000       0  true fals situat march saudi propos land peac ...  \n",
            "3     0.444444       0  next mayb could work le condescend suggest rea...  \n",
            "4     0.000000       0                                page need disambigu  \n",
            "                                                Text  Prob_not_toxicity  \\\n",
            "0  This: :One can make an analogy in mathematical...                0.9   \n",
            "1  `  :Clarification for you  (and Zundark's righ...                1.0   \n",
            "2                          Elected or Electoral? JHK                1.0   \n",
            "3  `This is such a fun entry.   Devotchka  I once...                1.0   \n",
            "4  Please relate the ozone hole to increases in c...                0.8   \n",
            "\n",
            "   Prob_toxicity  toxicity                                     tokenized_text  \n",
            "0            0.1         0  one make analog mathemat term envis distribut ...  \n",
            "1            0.0         0  clarif zundark right check wikipedia bug page ...  \n",
            "2            0.0         0                                  elect elector jhk  \n",
            "3            0.0         0  fun entri devotchka cowork korea could tell di...  \n",
            "4            0.2         0  plea relat ozon hole increas cancer provid fig...  \n",
            "                                                Text  racism  \\\n",
            "0  @AAlwuhaib1977 Muslim mob violence against Hin...       1   \n",
            "1             @Te4m_NiGhtM4Re http://t.co/5Ih7MkDbQG       0   \n",
            "2  @jncatron @isra_jourisra @AMPalestine Islamoph...       1   \n",
            "3  Finally I'm all caught up, and that sudden dea...       0   \n",
            "4             @carolinesinders @herecomesfran *hugs*       0   \n",
            "\n",
            "                                      tokenized_text  \n",
            "0  muslim mob violenc hindu bangladesh continu islam  \n",
            "1                                                     \n",
            "2  islamophobia like idea naziphobia islam religi...  \n",
            "3  final caught sudden death cook look like gon n...  \n",
            "4                                                hug  \n",
            "                                                Text  sexism  \\\n",
            "0  RT @BeepsS: @senna1 @BeepsS: I'm not sexist bu...       1   \n",
            "1   There's some very hate able teams this year #MKR       0   \n",
            "2  RT @The_Eccles: \"Everyone underestimated us\" \\...       0   \n",
            "3  RT @NOTLukeDarcy: did @Channel7 or #MKR actual...       0   \n",
            "4  No, you don't. @Shut_Up_Jeff: I thought of a r...       1   \n",
            "\n",
            "                                      tokenized_text  \n",
            "0          rt sexist fuck woman cook get shit togeth  \n",
            "1                             hate abl team year mkr  \n",
            "2  rt everyon underestim u still well underestim ...  \n",
            "3          rt mkr actual check peopl could cook witb  \n",
            "4        thought realli funni joke promis sexist say  \n"
          ]
        }
      ],
      "source": [
        "# Viewing the dataframes\n",
        "print(agg_df.head())\n",
        "print(att_df.head())\n",
        "print(tox_df.head())\n",
        "print(rac_df.head())\n",
        "print(sex_df.head())"
      ]
    },
    {
      "cell_type": "code",
      "execution_count": 341,
      "id": "d03d8d81",
      "metadata": {
        "colab": {
          "base_uri": "https://localhost:8080/"
        },
        "id": "d03d8d81",
        "outputId": "11706608-6f94-4e7e-9295-d11e7d4702e6"
      },
      "outputs": [
        {
          "output_type": "stream",
          "name": "stdout",
          "text": [
            "1940\n",
            "1940\n",
            "3135\n",
            "533\n",
            "582\n"
          ]
        }
      ],
      "source": [
        "# Dealing with Duplicates\n",
        "print(agg_df[\"tokenized_text\"].duplicated().sum())\n",
        "print(att_df[\"tokenized_text\"].duplicated().sum())\n",
        "print(tox_df[\"tokenized_text\"].duplicated().sum())\n",
        "print(rac_df[\"tokenized_text\"].duplicated().sum())\n",
        "print(sex_df[\"tokenized_text\"].duplicated().sum())"
      ]
    },
    {
      "cell_type": "code",
      "execution_count": 342,
      "id": "b55916aa",
      "metadata": {
        "id": "b55916aa"
      },
      "outputs": [],
      "source": [
        "# Removing the duplicates\n",
        "agg_df.drop_duplicates(\"tokenized_text\", inplace=True)\n",
        "att_df.drop_duplicates(\"tokenized_text\", inplace=True)\n",
        "tox_df.drop_duplicates(\"tokenized_text\", inplace=True)\n",
        "rac_df.drop_duplicates(\"tokenized_text\", inplace=True)\n",
        "sex_df.drop_duplicates(\"tokenized_text\", inplace=True)"
      ]
    },
    {
      "cell_type": "markdown",
      "source": [
        "## Tokenizing the text"
      ],
      "metadata": {
        "id": "CU9lXZ7Vt7g1"
      },
      "id": "CU9lXZ7Vt7g1"
    },
    {
      "cell_type": "code",
      "execution_count": 343,
      "id": "b694a257",
      "metadata": {
        "id": "b694a257"
      },
      "outputs": [],
      "source": [
        "# Tokenizing the text in all dataframes\n",
        "agg_df['token_list'] = agg_df['tokenized_text'].apply(word_tokenize)\n",
        "att_df['token_list'] = att_df['tokenized_text'].apply(word_tokenize)\n",
        "tox_df['token_list'] = tox_df['tokenized_text'].apply(word_tokenize)\n",
        "rac_df['token_list'] = rac_df['tokenized_text'].apply(word_tokenize)\n",
        "sex_df['token_list'] = sex_df['tokenized_text'].apply(word_tokenize)"
      ]
    },
    {
      "cell_type": "code",
      "execution_count": 344,
      "id": "5a463494",
      "metadata": {
        "id": "5a463494"
      },
      "outputs": [],
      "source": [
        "# Checking the count of words for agg_df\n",
        "text_len = []\n",
        "for text in agg_df.token_list:\n",
        "    token_len = len(text)\n",
        "    text_len.append(token_len)\n",
        "agg_df['text_len'] = text_len"
      ]
    },
    {
      "cell_type": "code",
      "execution_count": 345,
      "id": "75ca2589",
      "metadata": {
        "id": "75ca2589"
      },
      "outputs": [],
      "source": [
        "# Checking the count of words for att_df\n",
        "text_len = []\n",
        "for text in att_df.token_list:\n",
        "    token_len = len(text)\n",
        "    text_len.append(token_len)\n",
        "att_df['text_len'] = text_len"
      ]
    },
    {
      "cell_type": "code",
      "execution_count": 346,
      "id": "2c532378",
      "metadata": {
        "id": "2c532378"
      },
      "outputs": [],
      "source": [
        "# Checking the count of words for tox_df\n",
        "text_len = []\n",
        "for text in tox_df.token_list:\n",
        "    token_len = len(text)\n",
        "    text_len.append(token_len)\n",
        "tox_df['text_len'] = text_len"
      ]
    },
    {
      "cell_type": "code",
      "execution_count": 347,
      "id": "62e35c51",
      "metadata": {
        "id": "62e35c51"
      },
      "outputs": [],
      "source": [
        "# Checking the count of words for rac_df\n",
        "text_len = []\n",
        "for text in rac_df.token_list:\n",
        "    token_len = len(text)\n",
        "    text_len.append(token_len)\n",
        "rac_df['text_len'] = text_len"
      ]
    },
    {
      "cell_type": "code",
      "execution_count": 348,
      "id": "e48bbb91",
      "metadata": {
        "id": "e48bbb91"
      },
      "outputs": [],
      "source": [
        "# Checking the count of words for sex_df\n",
        "text_len = []\n",
        "for text in sex_df.token_list:\n",
        "    token_len = len(text)\n",
        "    text_len.append(token_len)\n",
        "sex_df['text_len'] = text_len"
      ]
    },
    {
      "cell_type": "code",
      "execution_count": 349,
      "id": "8ec4b0b7",
      "metadata": {
        "colab": {
          "base_uri": "https://localhost:8080/",
          "height": 707
        },
        "id": "8ec4b0b7",
        "outputId": "69ef2092-19cc-474c-a62b-91d7e36679c3"
      },
      "outputs": [
        {
          "output_type": "display_data",
          "data": {
            "text/plain": [
              "<Figure size 1500x800 with 1 Axes>"
            ],
            "image/png": "[encoded data removed]"
          },
          "metadata": {}
        }
      ],
      "source": [
        "# Plotting agg_df\n",
        "plt.figure(figsize=(15,8))\n",
        "ax = sns.countplot(x='text_len', data=agg_df, palette='mako')\n",
        "plt.title('Count of words in agg. dataframe', fontsize=20)\n",
        "plt.yticks([])\n",
        "ax.bar_label(ax.containers[0])\n",
        "plt.ylabel('count')\n",
        "plt.xlabel('')\n",
        "plt.show()"
      ]
    },
    {
      "cell_type": "code",
      "source": [
        "# Plotting att_df\n",
        "plt.figure(figsize=(15,8))\n",
        "ax = sns.countplot(x='text_len', data=att_df, palette='mako')\n",
        "plt.title('Count of words in att. dataframe', fontsize=20)\n",
        "plt.yticks([])\n",
        "ax.bar_label(ax.containers[0])\n",
        "plt.ylabel('count')\n",
        "plt.xlabel('')\n",
        "plt.show()"
      ],
      "metadata": {
        "colab": {
          "base_uri": "https://localhost:8080/",
          "height": 707
        },
        "id": "Ep3Iipcnvv7i",
        "outputId": "f395473f-8d3d-418a-feab-328d3277a47e"
      },
      "id": "Ep3Iipcnvv7i",
      "execution_count": 350,
      "outputs": [
        {
          "output_type": "display_data",
          "data": {
            "text/plain": [
              "<Figure size 1500x800 with 1 Axes>"
            ],
            "image/png": "[encoded data removed]"
          },
          "metadata": {}
        }
      ]
    },
    {
      "cell_type": "code",
      "source": [
        "# Plotting tox_df\n",
        "plt.figure(figsize=(15,8))\n",
        "ax = sns.countplot(x='text_len', data=tox_df, palette='mako')\n",
        "plt.title('Count of words in toxicity dataframe', fontsize=20)\n",
        "plt.yticks([])\n",
        "ax.bar_label(ax.containers[0])\n",
        "plt.ylabel('count')\n",
        "plt.xlabel('')\n",
        "plt.show()"
      ],
      "metadata": {
        "colab": {
          "base_uri": "https://localhost:8080/",
          "height": 707
        },
        "id": "neLThnj7vwF6",
        "outputId": "63ce7ceb-e05a-41ac-9393-d33b93f5dbc5"
      },
      "id": "neLThnj7vwF6",
      "execution_count": 351,
      "outputs": [
        {
          "output_type": "display_data",
          "data": {
            "text/plain": [
              "<Figure size 1500x800 with 1 Axes>"
            ],
            "image/png": "[encoded data removed]"
          },
          "metadata": {}
        }
      ]
    },
    {
      "cell_type": "code",
      "source": [
        "# Plotting rac_df\n",
        "plt.figure(figsize=(15,8))\n",
        "ax = sns.countplot(x='text_len', data=rac_df, palette='mako')\n",
        "plt.title('Count of words in racism dataframe', fontsize=20)\n",
        "plt.yticks([])\n",
        "ax.bar_label(ax.containers[0])\n",
        "plt.ylabel('count')\n",
        "plt.xlabel('')\n",
        "plt.show()"
      ],
      "metadata": {
        "colab": {
          "base_uri": "https://localhost:8080/",
          "height": 707
        },
        "id": "fY0jrqAXvwN5",
        "outputId": "26abf2d8-c4a2-41b4-fcb6-4c75918e887c"
      },
      "id": "fY0jrqAXvwN5",
      "execution_count": 352,
      "outputs": [
        {
          "output_type": "display_data",
          "data": {
            "text/plain": [
              "<Figure size 1500x800 with 1 Axes>"
            ],
            "image/png": "[encoded data removed]"
          },
          "metadata": {}
        }
      ]
    },
    {
      "cell_type": "code",
      "source": [
        "# Plotting sex_df\n",
        "plt.figure(figsize=(15,8))\n",
        "ax = sns.countplot(x='text_len', data=sex_df, palette='mako')\n",
        "plt.title('Count of words in sexism dataframe', fontsize=20)\n",
        "plt.yticks([])\n",
        "ax.bar_label(ax.containers[0])\n",
        "plt.ylabel('count')\n",
        "plt.xlabel('')\n",
        "plt.show()"
      ],
      "metadata": {
        "colab": {
          "base_uri": "https://localhost:8080/",
          "height": 707
        },
        "id": "Vn3g57gsvwVC",
        "outputId": "7de8edbf-180d-4dc7-aaf8-5890a7ebdb91"
      },
      "id": "Vn3g57gsvwVC",
      "execution_count": 353,
      "outputs": [
        {
          "output_type": "display_data",
          "data": {
            "text/plain": [
              "<Figure size 1500x800 with 1 Axes>"
            ],
            "image/png": "[encoded data removed]"
          },
          "metadata": {}
        }
      ]
    },
    {
      "cell_type": "code",
      "source": [
        "# Removing text without words\n",
        "agg_df = agg_df[agg_df['text_len']!=0]\n",
        "att_df = att_df[att_df['text_len']!=0]\n",
        "tox_df = tox_df[tox_df['text_len']!=0]\n",
        "rac_df = rac_df[rac_df['text_len']!=0]\n",
        "sex_df = sex_df[sex_df['text_len']!=0]"
      ],
      "metadata": {
        "id": "LTTU70hGvwbj"
      },
      "id": "LTTU70hGvwbj",
      "execution_count": 354,
      "outputs": []
    },
    {
      "cell_type": "markdown",
      "source": [
        "## Machine Learning\n",
        "### Data Preparation for multiple Models"
      ],
      "metadata": {
        "id": "ohDUEV2syGq4"
      },
      "id": "ohDUEV2syGq4"
    },
    {
      "cell_type": "code",
      "source": [
        "agg_df.head()"
      ],
      "metadata": {
        "colab": {
          "base_uri": "https://localhost:8080/",
          "height": 302
        },
        "id": "-32jOc4GyoV-",
        "outputId": "ef740d75-84cb-4185-999e-5efc0df5c727"
      },
      "id": "-32jOc4GyoV-",
      "execution_count": 355,
      "outputs": [
        {
          "output_type": "execute_result",
          "data": {
            "text/plain": [
              "                                                Text  Prob_not_aggression  \\\n",
              "0  `- This is not ``creative``.  Those are the di...             0.900000   \n",
              "1  `  :: the term ``standard model`` is itself le...             1.000000   \n",
              "2    True or false, the situation as of March 200...             1.000000   \n",
              "3   Next, maybe you could work on being less cond...             0.555556   \n",
              "4               This page will need disambiguation.              1.000000   \n",
              "\n",
              "   Prob_aggression  aggression  \\\n",
              "0         0.100000           0   \n",
              "1         0.000000           0   \n",
              "2         0.000000           0   \n",
              "3         0.444444           0   \n",
              "4         0.000000           0   \n",
              "\n",
              "                                      tokenized_text  \\\n",
              "0  creativ dictionari definit term insur ensur pr...   \n",
              "1  term standard model le npov think would prefer...   \n",
              "2  true fals situat march saudi propos land peac ...   \n",
              "3  next mayb could work le condescend suggest rea...   \n",
              "4                                page need disambigu   \n",
              "\n",
              "                                          token_list  text_len  \n",
              "0  [creativ, dictionari, definit, term, insur, en...       188  \n",
              "1  [term, standard, model, le, npov, think, would...        63  \n",
              "2  [true, fals, situat, march, saudi, propos, lan...        29  \n",
              "3  [next, mayb, could, work, le, condescend, sugg...        34  \n",
              "4                            [page, need, disambigu]         3  "
            ],
            "text/html": [
              "\n",
              "  <div id=\"df-7e4afc87-10ac-4909-9dac-674dc3dd063a\">\n",
              "    <div class=\"colab-df-container\">\n",
              "      <div>\n",
              "<style scoped>\n",
              "    .dataframe tbody tr th:only-of-type {\n",
              "        vertical-align: middle;\n",
              "    }\n",
              "\n",
              "    .dataframe tbody tr th {\n",
              "        vertical-align: top;\n",
              "    }\n",
              "\n",
              "    .dataframe thead th {\n",
              "        text-align: right;\n",
              "    }\n",
              "</style>\n",
              "<table border=\"1\" class=\"dataframe\">\n",
              "  <thead>\n",
              "    <tr style=\"text-align: right;\">\n",
              "      <th></th>\n",
              "      <th>Text</th>\n",
              "      <th>Prob_not_aggression</th>\n",
              "      <th>Prob_aggression</th>\n",
              "      <th>aggression</th>\n",
              "      <th>tokenized_text</th>\n",
              "      <th>token_list</th>\n",
              "      <th>text_len</th>\n",
              "    </tr>\n",
              "  </thead>\n",
              "  <tbody>\n",
              "    <tr>\n",
              "      <th>0</th>\n",
              "      <td>`- This is not ``creative``.  Those are the di...</td>\n",
              "      <td>0.900000</td>\n",
              "      <td>0.100000</td>\n",
              "      <td>0</td>\n",
              "      <td>creativ dictionari definit term insur ensur pr...</td>\n",
              "      <td>[creativ, dictionari, definit, term, insur, en...</td>\n",
              "      <td>188</td>\n",
              "    </tr>\n",
              "    <tr>\n",
              "      <th>1</th>\n",
              "      <td>`  :: the term ``standard model`` is itself le...</td>\n",
              "      <td>1.000000</td>\n",
              "      <td>0.000000</td>\n",
              "      <td>0</td>\n",
              "      <td>term standard model le npov think would prefer...</td>\n",
              "      <td>[term, standard, model, le, npov, think, would...</td>\n",
              "      <td>63</td>\n",
              "    </tr>\n",
              "    <tr>\n",
              "      <th>2</th>\n",
              "      <td>True or false, the situation as of March 200...</td>\n",
              "      <td>1.000000</td>\n",
              "      <td>0.000000</td>\n",
              "      <td>0</td>\n",
              "      <td>true fals situat march saudi propos land peac ...</td>\n",
              "      <td>[true, fals, situat, march, saudi, propos, lan...</td>\n",
              "      <td>29</td>\n",
              "    </tr>\n",
              "    <tr>\n",
              "      <th>3</th>\n",
              "      <td>Next, maybe you could work on being less cond...</td>\n",
              "      <td>0.555556</td>\n",
              "      <td>0.444444</td>\n",
              "      <td>0</td>\n",
              "      <td>next mayb could work le condescend suggest rea...</td>\n",
              "      <td>[next, mayb, could, work, le, condescend, sugg...</td>\n",
              "      <td>34</td>\n",
              "    </tr>\n",
              "    <tr>\n",
              "      <th>4</th>\n",
              "      <td>This page will need disambiguation.</td>\n",
              "      <td>1.000000</td>\n",
              "      <td>0.000000</td>\n",
              "      <td>0</td>\n",
              "      <td>page need disambigu</td>\n",
              "      <td>[page, need, disambigu]</td>\n",
              "      <td>3</td>\n",
              "    </tr>\n",
              "  </tbody>\n",
              "</table>\n",
              "</div>\n",
              "      <button class=\"colab-df-convert\" onclick=\"convertToInteractive('df-7e4afc87-10ac-4909-9dac-674dc3dd063a')\"\n",
              "              title=\"Convert this dataframe to an interactive table.\"\n",
              "              style=\"display:none;\">\n",
              "        \n",
              "  <svg xmlns=\"http://www.w3.org/2000/svg\" height=\"24px\"viewBox=\"0 0 24 24\"\n",
              "       width=\"24px\">\n",
              "    <path d=\"M0 0h24v24H0V0z\" fill=\"none\"/>\n",
              "    <path d=\"M18.56 5.44l.94 2.06.94-2.06 2.06-.94-2.06-.94-.94-2.06-.94 2.06-2.06.94zm-11 1L8.5 8.5l.94-2.06 2.06-.94-2.06-.94L8.5 2.5l-.94 2.06-2.06.94zm10 10l.94 2.06.94-2.06 2.06-.94-2.06-.94-.94-2.06-.94 2.06-2.06.94z\"/><path d=\"M17.41 7.96l-1.37-1.37c-.4-.4-.92-.59-1.43-.59-.52 0-1.04.2-1.43.59L10.3 9.45l-7.72 7.72c-.78.78-.78 2.05 0 2.83L4 21.41c.39.39.9.59 1.41.59.51 0 1.02-.2 1.41-.59l7.78-7.78 2.81-2.81c.8-.78.8-2.07 0-2.86zM5.41 20L4 18.59l7.72-7.72 1.47 1.35L5.41 20z\"/>\n",
              "  </svg>\n",
              "      </button>\n",
              "      \n",
              "  <style>\n",
              "    .colab-df-container {\n",
              "      display:flex;\n",
              "      flex-wrap:wrap;\n",
              "      gap: 12px;\n",
              "    }\n",
              "\n",
              "    .colab-df-convert {\n",
              "      background-color: #E8F0FE;\n",
              "      border: none;\n",
              "      border-radius: 50%;\n",
              "      cursor: pointer;\n",
              "      display: none;\n",
              "      fill: #1967D2;\n",
              "      height: 32px;\n",
              "      padding: 0 0 0 0;\n",
              "      width: 32px;\n",
              "    }\n",
              "\n",
              "    .colab-df-convert:hover {\n",
              "      background-color: #E2EBFA;\n",
              "      box-shadow: 0px 1px 2px rgba(60, 64, 67, 0.3), 0px 1px 3px 1px rgba(60, 64, 67, 0.15);\n",
              "      fill: #174EA6;\n",
              "    }\n",
              "\n",
              "    [theme=dark] .colab-df-convert {\n",
              "      background-color: #3B4455;\n",
              "      fill: #D2E3FC;\n",
              "    }\n",
              "\n",
              "    [theme=dark] .colab-df-convert:hover {\n",
              "      background-color: #434B5C;\n",
              "      box-shadow: 0px 1px 3px 1px rgba(0, 0, 0, 0.15);\n",
              "      filter: drop-shadow(0px 1px 2px rgba(0, 0, 0, 0.3));\n",
              "      fill: #FFFFFF;\n",
              "    }\n",
              "  </style>\n",
              "\n",
              "      <script>\n",
              "        const buttonEl =\n",
              "          document.querySelector('#df-7e4afc87-10ac-4909-9dac-674dc3dd063a button.colab-df-convert');\n",
              "        buttonEl.style.display =\n",
              "          google.colab.kernel.accessAllowed ? 'block' : 'none';\n",
              "\n",
              "        async function convertToInteractive(key) {\n",
              "          const element = document.querySelector('#df-7e4afc87-10ac-4909-9dac-674dc3dd063a');\n",
              "          const dataTable =\n",
              "            await google.colab.kernel.invokeFunction('convertToInteractive',\n",
              "                                                     [key], {});\n",
              "          if (!dataTable) return;\n",
              "\n",
              "          const docLinkHtml = 'Like what you see? Visit the ' +\n",
              "            '<a target=\"_blank\" href=https://colab.research.google.com/notebooks/data_table.ipynb>data table notebook</a>'\n",
              "            + ' to learn more about interactive tables.';\n",
              "          element.innerHTML = '';\n",
              "          dataTable['output_type'] = 'display_data';\n",
              "          await google.colab.output.renderOutput(dataTable, element);\n",
              "          const docLink = document.createElement('div');\n",
              "          docLink.innerHTML = docLinkHtml;\n",
              "          element.appendChild(docLink);\n",
              "        }\n",
              "      </script>\n",
              "    </div>\n",
              "  </div>\n",
              "  "
            ]
          },
          "metadata": {},
          "execution_count": 355
        }
      ]
    },
    {
      "cell_type": "code",
      "source": [
        "att_df.head()"
      ],
      "metadata": {
        "colab": {
          "base_uri": "https://localhost:8080/",
          "height": 250
        },
        "id": "eQLm0ixOy6ZN",
        "outputId": "484b78a5-6b03-4ae8-8cf0-55154cca5f5a"
      },
      "id": "eQLm0ixOy6ZN",
      "execution_count": 356,
      "outputs": [
        {
          "output_type": "execute_result",
          "data": {
            "text/plain": [
              "                                                Text  Prob_not_attack  \\\n",
              "0  `- This is not ``creative``.  Those are the di...         1.000000   \n",
              "1  `  :: the term ``standard model`` is itself le...         1.000000   \n",
              "2    True or false, the situation as of March 200...         1.000000   \n",
              "3   Next, maybe you could work on being less cond...         0.555556   \n",
              "4               This page will need disambiguation.          1.000000   \n",
              "\n",
              "   Prob_attack  attack                                     tokenized_text  \\\n",
              "0     0.000000       0  creativ dictionari definit term insur ensur pr...   \n",
              "1     0.000000       0  term standard model le npov think would prefer...   \n",
              "2     0.000000       0  true fals situat march saudi propos land peac ...   \n",
              "3     0.444444       0  next mayb could work le condescend suggest rea...   \n",
              "4     0.000000       0                                page need disambigu   \n",
              "\n",
              "                                          token_list  text_len  \n",
              "0  [creativ, dictionari, definit, term, insur, en...       188  \n",
              "1  [term, standard, model, le, npov, think, would...        63  \n",
              "2  [true, fals, situat, march, saudi, propos, lan...        29  \n",
              "3  [next, mayb, could, work, le, condescend, sugg...        34  \n",
              "4                            [page, need, disambigu]         3  "
            ],
            "text/html": [
              "\n",
              "  <div id=\"df-5c005a04-2bc0-423c-bf0a-029d408d20b3\">\n",
              "    <div class=\"colab-df-container\">\n",
              "      <div>\n",
              "<style scoped>\n",
              "    .dataframe tbody tr th:only-of-type {\n",
              "        vertical-align: middle;\n",
              "    }\n",
              "\n",
              "    .dataframe tbody tr th {\n",
              "        vertical-align: top;\n",
              "    }\n",
              "\n",
              "    .dataframe thead th {\n",
              "        text-align: right;\n",
              "    }\n",
              "</style>\n",
              "<table border=\"1\" class=\"dataframe\">\n",
              "  <thead>\n",
              "    <tr style=\"text-align: right;\">\n",
              "      <th></th>\n",
              "      <th>Text</th>\n",
              "      <th>Prob_not_attack</th>\n",
              "      <th>Prob_attack</th>\n",
              "      <th>attack</th>\n",
              "      <th>tokenized_text</th>\n",
              "      <th>token_list</th>\n",
              "      <th>text_len</th>\n",
              "    </tr>\n",
              "  </thead>\n",
              "  <tbody>\n",
              "    <tr>\n",
              "      <th>0</th>\n",
              "      <td>`- This is not ``creative``.  Those are the di...</td>\n",
              "      <td>1.000000</td>\n",
              "      <td>0.000000</td>\n",
              "      <td>0</td>\n",
              "      <td>creativ dictionari definit term insur ensur pr...</td>\n",
              "      <td>[creativ, dictionari, definit, term, insur, en...</td>\n",
              "      <td>188</td>\n",
              "    </tr>\n",
              "    <tr>\n",
              "      <th>1</th>\n",
              "      <td>`  :: the term ``standard model`` is itself le...</td>\n",
              "      <td>1.000000</td>\n",
              "      <td>0.000000</td>\n",
              "      <td>0</td>\n",
              "      <td>term standard model le npov think would prefer...</td>\n",
              "      <td>[term, standard, model, le, npov, think, would...</td>\n",
              "      <td>63</td>\n",
              "    </tr>\n",
              "    <tr>\n",
              "      <th>2</th>\n",
              "      <td>True or false, the situation as of March 200...</td>\n",
              "      <td>1.000000</td>\n",
              "      <td>0.000000</td>\n",
              "      <td>0</td>\n",
              "      <td>true fals situat march saudi propos land peac ...</td>\n",
              "      <td>[true, fals, situat, march, saudi, propos, lan...</td>\n",
              "      <td>29</td>\n",
              "    </tr>\n",
              "    <tr>\n",
              "      <th>3</th>\n",
              "      <td>Next, maybe you could work on being less cond...</td>\n",
              "      <td>0.555556</td>\n",
              "      <td>0.444444</td>\n",
              "      <td>0</td>\n",
              "      <td>next mayb could work le condescend suggest rea...</td>\n",
              "      <td>[next, mayb, could, work, le, condescend, sugg...</td>\n",
              "      <td>34</td>\n",
              "    </tr>\n",
              "    <tr>\n",
              "      <th>4</th>\n",
              "      <td>This page will need disambiguation.</td>\n",
              "      <td>1.000000</td>\n",
              "      <td>0.000000</td>\n",
              "      <td>0</td>\n",
              "      <td>page need disambigu</td>\n",
              "      <td>[page, need, disambigu]</td>\n",
              "      <td>3</td>\n",
              "    </tr>\n",
              "  </tbody>\n",
              "</table>\n",
              "</div>\n",
              "      <button class=\"colab-df-convert\" onclick=\"convertToInteractive('df-5c005a04-2bc0-423c-bf0a-029d408d20b3')\"\n",
              "              title=\"Convert this dataframe to an interactive table.\"\n",
              "              style=\"display:none;\">\n",
              "        \n",
              "  <svg xmlns=\"http://www.w3.org/2000/svg\" height=\"24px\"viewBox=\"0 0 24 24\"\n",
              "       width=\"24px\">\n",
              "    <path d=\"M0 0h24v24H0V0z\" fill=\"none\"/>\n",
              "    <path d=\"M18.56 5.44l.94 2.06.94-2.06 2.06-.94-2.06-.94-.94-2.06-.94 2.06-2.06.94zm-11 1L8.5 8.5l.94-2.06 2.06-.94-2.06-.94L8.5 2.5l-.94 2.06-2.06.94zm10 10l.94 2.06.94-2.06 2.06-.94-2.06-.94-.94-2.06-.94 2.06-2.06.94z\"/><path d=\"M17.41 7.96l-1.37-1.37c-.4-.4-.92-.59-1.43-.59-.52 0-1.04.2-1.43.59L10.3 9.45l-7.72 7.72c-.78.78-.78 2.05 0 2.83L4 21.41c.39.39.9.59 1.41.59.51 0 1.02-.2 1.41-.59l7.78-7.78 2.81-2.81c.8-.78.8-2.07 0-2.86zM5.41 20L4 18.59l7.72-7.72 1.47 1.35L5.41 20z\"/>\n",
              "  </svg>\n",
              "      </button>\n",
              "      \n",
              "  <style>\n",
              "    .colab-df-container {\n",
              "      display:flex;\n",
              "      flex-wrap:wrap;\n",
              "      gap: 12px;\n",
              "    }\n",
              "\n",
              "    .colab-df-convert {\n",
              "      background-color: #E8F0FE;\n",
              "      border: none;\n",
              "      border-radius: 50%;\n",
              "      cursor: pointer;\n",
              "      display: none;\n",
              "      fill: #1967D2;\n",
              "      height: 32px;\n",
              "      padding: 0 0 0 0;\n",
              "      width: 32px;\n",
              "    }\n",
              "\n",
              "    .colab-df-convert:hover {\n",
              "      background-color: #E2EBFA;\n",
              "      box-shadow: 0px 1px 2px rgba(60, 64, 67, 0.3), 0px 1px 3px 1px rgba(60, 64, 67, 0.15);\n",
              "      fill: #174EA6;\n",
              "    }\n",
              "\n",
              "    [theme=dark] .colab-df-convert {\n",
              "      background-color: #3B4455;\n",
              "      fill: #D2E3FC;\n",
              "    }\n",
              "\n",
              "    [theme=dark] .colab-df-convert:hover {\n",
              "      background-color: #434B5C;\n",
              "      box-shadow: 0px 1px 3px 1px rgba(0, 0, 0, 0.15);\n",
              "      filter: drop-shadow(0px 1px 2px rgba(0, 0, 0, 0.3));\n",
              "      fill: #FFFFFF;\n",
              "    }\n",
              "  </style>\n",
              "\n",
              "      <script>\n",
              "        const buttonEl =\n",
              "          document.querySelector('#df-5c005a04-2bc0-423c-bf0a-029d408d20b3 button.colab-df-convert');\n",
              "        buttonEl.style.display =\n",
              "          google.colab.kernel.accessAllowed ? 'block' : 'none';\n",
              "\n",
              "        async function convertToInteractive(key) {\n",
              "          const element = document.querySelector('#df-5c005a04-2bc0-423c-bf0a-029d408d20b3');\n",
              "          const dataTable =\n",
              "            await google.colab.kernel.invokeFunction('convertToInteractive',\n",
              "                                                     [key], {});\n",
              "          if (!dataTable) return;\n",
              "\n",
              "          const docLinkHtml = 'Like what you see? Visit the ' +\n",
              "            '<a target=\"_blank\" href=https://colab.research.google.com/notebooks/data_table.ipynb>data table notebook</a>'\n",
              "            + ' to learn more about interactive tables.';\n",
              "          element.innerHTML = '';\n",
              "          dataTable['output_type'] = 'display_data';\n",
              "          await google.colab.output.renderOutput(dataTable, element);\n",
              "          const docLink = document.createElement('div');\n",
              "          docLink.innerHTML = docLinkHtml;\n",
              "          element.appendChild(docLink);\n",
              "        }\n",
              "      </script>\n",
              "    </div>\n",
              "  </div>\n",
              "  "
            ]
          },
          "metadata": {},
          "execution_count": 356
        }
      ]
    },
    {
      "cell_type": "code",
      "source": [
        "tox_df.head()"
      ],
      "metadata": {
        "colab": {
          "base_uri": "https://localhost:8080/",
          "height": 268
        },
        "id": "BTKvOs2Yy-24",
        "outputId": "18f78215-fc9b-4abd-8336-a5b416cda437"
      },
      "id": "BTKvOs2Yy-24",
      "execution_count": 357,
      "outputs": [
        {
          "output_type": "execute_result",
          "data": {
            "text/plain": [
              "                                                Text  Prob_not_toxicity  \\\n",
              "0  This: :One can make an analogy in mathematical...                0.9   \n",
              "1  `  :Clarification for you  (and Zundark's righ...                1.0   \n",
              "2                          Elected or Electoral? JHK                1.0   \n",
              "3  `This is such a fun entry.   Devotchka  I once...                1.0   \n",
              "4  Please relate the ozone hole to increases in c...                0.8   \n",
              "\n",
              "   Prob_toxicity  toxicity                                     tokenized_text  \\\n",
              "0            0.1         0  one make analog mathemat term envis distribut ...   \n",
              "1            0.0         0  clarif zundark right check wikipedia bug page ...   \n",
              "2            0.0         0                                  elect elector jhk   \n",
              "3            0.0         0  fun entri devotchka cowork korea could tell di...   \n",
              "4            0.2         0  plea relat ozon hole increas cancer provid fig...   \n",
              "\n",
              "                                          token_list  text_len  \n",
              "0  [one, make, analog, mathemat, term, envis, dis...        58  \n",
              "1  [clarif, zundark, right, check, wikipedia, bug...        56  \n",
              "2                              [elect, elector, jhk]         3  \n",
              "3  [fun, entri, devotchka, cowork, korea, could, ...       255  \n",
              "4  [plea, relat, ozon, hole, increas, cancer, pro...        20  "
            ],
            "text/html": [
              "\n",
              "  <div id=\"df-36d91738-2e69-463c-b7b4-34ae0c91d673\">\n",
              "    <div class=\"colab-df-container\">\n",
              "      <div>\n",
              "<style scoped>\n",
              "    .dataframe tbody tr th:only-of-type {\n",
              "        vertical-align: middle;\n",
              "    }\n",
              "\n",
              "    .dataframe tbody tr th {\n",
              "        vertical-align: top;\n",
              "    }\n",
              "\n",
              "    .dataframe thead th {\n",
              "        text-align: right;\n",
              "    }\n",
              "</style>\n",
              "<table border=\"1\" class=\"dataframe\">\n",
              "  <thead>\n",
              "    <tr style=\"text-align: right;\">\n",
              "      <th></th>\n",
              "      <th>Text</th>\n",
              "      <th>Prob_not_toxicity</th>\n",
              "      <th>Prob_toxicity</th>\n",
              "      <th>toxicity</th>\n",
              "      <th>tokenized_text</th>\n",
              "      <th>token_list</th>\n",
              "      <th>text_len</th>\n",
              "    </tr>\n",
              "  </thead>\n",
              "  <tbody>\n",
              "    <tr>\n",
              "      <th>0</th>\n",
              "      <td>This: :One can make an analogy in mathematical...</td>\n",
              "      <td>0.9</td>\n",
              "      <td>0.1</td>\n",
              "      <td>0</td>\n",
              "      <td>one make analog mathemat term envis distribut ...</td>\n",
              "      <td>[one, make, analog, mathemat, term, envis, dis...</td>\n",
              "      <td>58</td>\n",
              "    </tr>\n",
              "    <tr>\n",
              "      <th>1</th>\n",
              "      <td>`  :Clarification for you  (and Zundark's righ...</td>\n",
              "      <td>1.0</td>\n",
              "      <td>0.0</td>\n",
              "      <td>0</td>\n",
              "      <td>clarif zundark right check wikipedia bug page ...</td>\n",
              "      <td>[clarif, zundark, right, check, wikipedia, bug...</td>\n",
              "      <td>56</td>\n",
              "    </tr>\n",
              "    <tr>\n",
              "      <th>2</th>\n",
              "      <td>Elected or Electoral? JHK</td>\n",
              "      <td>1.0</td>\n",
              "      <td>0.0</td>\n",
              "      <td>0</td>\n",
              "      <td>elect elector jhk</td>\n",
              "      <td>[elect, elector, jhk]</td>\n",
              "      <td>3</td>\n",
              "    </tr>\n",
              "    <tr>\n",
              "      <th>3</th>\n",
              "      <td>`This is such a fun entry.   Devotchka  I once...</td>\n",
              "      <td>1.0</td>\n",
              "      <td>0.0</td>\n",
              "      <td>0</td>\n",
              "      <td>fun entri devotchka cowork korea could tell di...</td>\n",
              "      <td>[fun, entri, devotchka, cowork, korea, could, ...</td>\n",
              "      <td>255</td>\n",
              "    </tr>\n",
              "    <tr>\n",
              "      <th>4</th>\n",
              "      <td>Please relate the ozone hole to increases in c...</td>\n",
              "      <td>0.8</td>\n",
              "      <td>0.2</td>\n",
              "      <td>0</td>\n",
              "      <td>plea relat ozon hole increas cancer provid fig...</td>\n",
              "      <td>[plea, relat, ozon, hole, increas, cancer, pro...</td>\n",
              "      <td>20</td>\n",
              "    </tr>\n",
              "  </tbody>\n",
              "</table>\n",
              "</div>\n",
              "      <button class=\"colab-df-convert\" onclick=\"convertToInteractive('df-36d91738-2e69-463c-b7b4-34ae0c91d673')\"\n",
              "              title=\"Convert this dataframe to an interactive table.\"\n",
              "              style=\"display:none;\">\n",
              "        \n",
              "  <svg xmlns=\"http://www.w3.org/2000/svg\" height=\"24px\"viewBox=\"0 0 24 24\"\n",
              "       width=\"24px\">\n",
              "    <path d=\"M0 0h24v24H0V0z\" fill=\"none\"/>\n",
              "    <path d=\"M18.56 5.44l.94 2.06.94-2.06 2.06-.94-2.06-.94-.94-2.06-.94 2.06-2.06.94zm-11 1L8.5 8.5l.94-2.06 2.06-.94-2.06-.94L8.5 2.5l-.94 2.06-2.06.94zm10 10l.94 2.06.94-2.06 2.06-.94-2.06-.94-.94-2.06-.94 2.06-2.06.94z\"/><path d=\"M17.41 7.96l-1.37-1.37c-.4-.4-.92-.59-1.43-.59-.52 0-1.04.2-1.43.59L10.3 9.45l-7.72 7.72c-.78.78-.78 2.05 0 2.83L4 21.41c.39.39.9.59 1.41.59.51 0 1.02-.2 1.41-.59l7.78-7.78 2.81-2.81c.8-.78.8-2.07 0-2.86zM5.41 20L4 18.59l7.72-7.72 1.47 1.35L5.41 20z\"/>\n",
              "  </svg>\n",
              "      </button>\n",
              "      \n",
              "  <style>\n",
              "    .colab-df-container {\n",
              "      display:flex;\n",
              "      flex-wrap:wrap;\n",
              "      gap: 12px;\n",
              "    }\n",
              "\n",
              "    .colab-df-convert {\n",
              "      background-color: #E8F0FE;\n",
              "      border: none;\n",
              "      border-radius: 50%;\n",
              "      cursor: pointer;\n",
              "      display: none;\n",
              "      fill: #1967D2;\n",
              "      height: 32px;\n",
              "      padding: 0 0 0 0;\n",
              "      width: 32px;\n",
              "    }\n",
              "\n",
              "    .colab-df-convert:hover {\n",
              "      background-color: #E2EBFA;\n",
              "      box-shadow: 0px 1px 2px rgba(60, 64, 67, 0.3), 0px 1px 3px 1px rgba(60, 64, 67, 0.15);\n",
              "      fill: #174EA6;\n",
              "    }\n",
              "\n",
              "    [theme=dark] .colab-df-convert {\n",
              "      background-color: #3B4455;\n",
              "      fill: #D2E3FC;\n",
              "    }\n",
              "\n",
              "    [theme=dark] .colab-df-convert:hover {\n",
              "      background-color: #434B5C;\n",
              "      box-shadow: 0px 1px 3px 1px rgba(0, 0, 0, 0.15);\n",
              "      filter: drop-shadow(0px 1px 2px rgba(0, 0, 0, 0.3));\n",
              "      fill: #FFFFFF;\n",
              "    }\n",
              "  </style>\n",
              "\n",
              "      <script>\n",
              "        const buttonEl =\n",
              "          document.querySelector('#df-36d91738-2e69-463c-b7b4-34ae0c91d673 button.colab-df-convert');\n",
              "        buttonEl.style.display =\n",
              "          google.colab.kernel.accessAllowed ? 'block' : 'none';\n",
              "\n",
              "        async function convertToInteractive(key) {\n",
              "          const element = document.querySelector('#df-36d91738-2e69-463c-b7b4-34ae0c91d673');\n",
              "          const dataTable =\n",
              "            await google.colab.kernel.invokeFunction('convertToInteractive',\n",
              "                                                     [key], {});\n",
              "          if (!dataTable) return;\n",
              "\n",
              "          const docLinkHtml = 'Like what you see? Visit the ' +\n",
              "            '<a target=\"_blank\" href=https://colab.research.google.com/notebooks/data_table.ipynb>data table notebook</a>'\n",
              "            + ' to learn more about interactive tables.';\n",
              "          element.innerHTML = '';\n",
              "          dataTable['output_type'] = 'display_data';\n",
              "          await google.colab.output.renderOutput(dataTable, element);\n",
              "          const docLink = document.createElement('div');\n",
              "          docLink.innerHTML = docLinkHtml;\n",
              "          element.appendChild(docLink);\n",
              "        }\n",
              "      </script>\n",
              "    </div>\n",
              "  </div>\n",
              "  "
            ]
          },
          "metadata": {},
          "execution_count": 357
        }
      ]
    },
    {
      "cell_type": "code",
      "source": [
        "rac_df.head()"
      ],
      "metadata": {
        "colab": {
          "base_uri": "https://localhost:8080/",
          "height": 206
        },
        "id": "Bfvm1Iozy_b4",
        "outputId": "2c505aa4-b2ce-4b38-99cd-509b8fe26c51"
      },
      "id": "Bfvm1Iozy_b4",
      "execution_count": 358,
      "outputs": [
        {
          "output_type": "execute_result",
          "data": {
            "text/plain": [
              "                                                Text  racism  \\\n",
              "0  @AAlwuhaib1977 Muslim mob violence against Hin...       1   \n",
              "2  @jncatron @isra_jourisra @AMPalestine Islamoph...       1   \n",
              "3  Finally I'm all caught up, and that sudden dea...       0   \n",
              "4             @carolinesinders @herecomesfran *hugs*       0   \n",
              "5  Please, PLEASE start using \"is your discernmen...       0   \n",
              "\n",
              "                                      tokenized_text  \\\n",
              "0  muslim mob violenc hindu bangladesh continu islam   \n",
              "2  islamophobia like idea naziphobia islam religi...   \n",
              "3  final caught sudden death cook look like gon n...   \n",
              "4                                                hug   \n",
              "5  plea plea start use discern blunt steroid mean...   \n",
              "\n",
              "                                          token_list  text_len  \n",
              "0  [muslim, mob, violenc, hindu, bangladesh, cont...         7  \n",
              "2  [islamophobia, like, idea, naziphobia, islam, ...         9  \n",
              "3  [final, caught, sudden, death, cook, look, lik...        11  \n",
              "4                                              [hug]         1  \n",
              "5  [plea, plea, start, use, discern, blunt, stero...        10  "
            ],
            "text/html": [
              "\n",
              "  <div id=\"df-d3c64164-e6a7-467f-a16e-e0e31bf7c57d\">\n",
              "    <div class=\"colab-df-container\">\n",
              "      <div>\n",
              "<style scoped>\n",
              "    .dataframe tbody tr th:only-of-type {\n",
              "        vertical-align: middle;\n",
              "    }\n",
              "\n",
              "    .dataframe tbody tr th {\n",
              "        vertical-align: top;\n",
              "    }\n",
              "\n",
              "    .dataframe thead th {\n",
              "        text-align: right;\n",
              "    }\n",
              "</style>\n",
              "<table border=\"1\" class=\"dataframe\">\n",
              "  <thead>\n",
              "    <tr style=\"text-align: right;\">\n",
              "      <th></th>\n",
              "      <th>Text</th>\n",
              "      <th>racism</th>\n",
              "      <th>tokenized_text</th>\n",
              "      <th>token_list</th>\n",
              "      <th>text_len</th>\n",
              "    </tr>\n",
              "  </thead>\n",
              "  <tbody>\n",
              "    <tr>\n",
              "      <th>0</th>\n",
              "      <td>@AAlwuhaib1977 Muslim mob violence against Hin...</td>\n",
              "      <td>1</td>\n",
              "      <td>muslim mob violenc hindu bangladesh continu islam</td>\n",
              "      <td>[muslim, mob, violenc, hindu, bangladesh, cont...</td>\n",
              "      <td>7</td>\n",
              "    </tr>\n",
              "    <tr>\n",
              "      <th>2</th>\n",
              "      <td>@jncatron @isra_jourisra @AMPalestine Islamoph...</td>\n",
              "      <td>1</td>\n",
              "      <td>islamophobia like idea naziphobia islam religi...</td>\n",
              "      <td>[islamophobia, like, idea, naziphobia, islam, ...</td>\n",
              "      <td>9</td>\n",
              "    </tr>\n",
              "    <tr>\n",
              "      <th>3</th>\n",
              "      <td>Finally I'm all caught up, and that sudden dea...</td>\n",
              "      <td>0</td>\n",
              "      <td>final caught sudden death cook look like gon n...</td>\n",
              "      <td>[final, caught, sudden, death, cook, look, lik...</td>\n",
              "      <td>11</td>\n",
              "    </tr>\n",
              "    <tr>\n",
              "      <th>4</th>\n",
              "      <td>@carolinesinders @herecomesfran *hugs*</td>\n",
              "      <td>0</td>\n",
              "      <td>hug</td>\n",
              "      <td>[hug]</td>\n",
              "      <td>1</td>\n",
              "    </tr>\n",
              "    <tr>\n",
              "      <th>5</th>\n",
              "      <td>Please, PLEASE start using \"is your discernmen...</td>\n",
              "      <td>0</td>\n",
              "      <td>plea plea start use discern blunt steroid mean...</td>\n",
              "      <td>[plea, plea, start, use, discern, blunt, stero...</td>\n",
              "      <td>10</td>\n",
              "    </tr>\n",
              "  </tbody>\n",
              "</table>\n",
              "</div>\n",
              "      <button class=\"colab-df-convert\" onclick=\"convertToInteractive('df-d3c64164-e6a7-467f-a16e-e0e31bf7c57d')\"\n",
              "              title=\"Convert this dataframe to an interactive table.\"\n",
              "              style=\"display:none;\">\n",
              "        \n",
              "  <svg xmlns=\"http://www.w3.org/2000/svg\" height=\"24px\"viewBox=\"0 0 24 24\"\n",
              "       width=\"24px\">\n",
              "    <path d=\"M0 0h24v24H0V0z\" fill=\"none\"/>\n",
              "    <path d=\"M18.56 5.44l.94 2.06.94-2.06 2.06-.94-2.06-.94-.94-2.06-.94 2.06-2.06.94zm-11 1L8.5 8.5l.94-2.06 2.06-.94-2.06-.94L8.5 2.5l-.94 2.06-2.06.94zm10 10l.94 2.06.94-2.06 2.06-.94-2.06-.94-.94-2.06-.94 2.06-2.06.94z\"/><path d=\"M17.41 7.96l-1.37-1.37c-.4-.4-.92-.59-1.43-.59-.52 0-1.04.2-1.43.59L10.3 9.45l-7.72 7.72c-.78.78-.78 2.05 0 2.83L4 21.41c.39.39.9.59 1.41.59.51 0 1.02-.2 1.41-.59l7.78-7.78 2.81-2.81c.8-.78.8-2.07 0-2.86zM5.41 20L4 18.59l7.72-7.72 1.47 1.35L5.41 20z\"/>\n",
              "  </svg>\n",
              "      </button>\n",
              "      \n",
              "  <style>\n",
              "    .colab-df-container {\n",
              "      display:flex;\n",
              "      flex-wrap:wrap;\n",
              "      gap: 12px;\n",
              "    }\n",
              "\n",
              "    .colab-df-convert {\n",
              "      background-color: #E8F0FE;\n",
              "      border: none;\n",
              "      border-radius: 50%;\n",
              "      cursor: pointer;\n",
              "      display: none;\n",
              "      fill: #1967D2;\n",
              "      height: 32px;\n",
              "      padding: 0 0 0 0;\n",
              "      width: 32px;\n",
              "    }\n",
              "\n",
              "    .colab-df-convert:hover {\n",
              "      background-color: #E2EBFA;\n",
              "      box-shadow: 0px 1px 2px rgba(60, 64, 67, 0.3), 0px 1px 3px 1px rgba(60, 64, 67, 0.15);\n",
              "      fill: #174EA6;\n",
              "    }\n",
              "\n",
              "    [theme=dark] .colab-df-convert {\n",
              "      background-color: #3B4455;\n",
              "      fill: #D2E3FC;\n",
              "    }\n",
              "\n",
              "    [theme=dark] .colab-df-convert:hover {\n",
              "      background-color: #434B5C;\n",
              "      box-shadow: 0px 1px 3px 1px rgba(0, 0, 0, 0.15);\n",
              "      filter: drop-shadow(0px 1px 2px rgba(0, 0, 0, 0.3));\n",
              "      fill: #FFFFFF;\n",
              "    }\n",
              "  </style>\n",
              "\n",
              "      <script>\n",
              "        const buttonEl =\n",
              "          document.querySelector('#df-d3c64164-e6a7-467f-a16e-e0e31bf7c57d button.colab-df-convert');\n",
              "        buttonEl.style.display =\n",
              "          google.colab.kernel.accessAllowed ? 'block' : 'none';\n",
              "\n",
              "        async function convertToInteractive(key) {\n",
              "          const element = document.querySelector('#df-d3c64164-e6a7-467f-a16e-e0e31bf7c57d');\n",
              "          const dataTable =\n",
              "            await google.colab.kernel.invokeFunction('convertToInteractive',\n",
              "                                                     [key], {});\n",
              "          if (!dataTable) return;\n",
              "\n",
              "          const docLinkHtml = 'Like what you see? Visit the ' +\n",
              "            '<a target=\"_blank\" href=https://colab.research.google.com/notebooks/data_table.ipynb>data table notebook</a>'\n",
              "            + ' to learn more about interactive tables.';\n",
              "          element.innerHTML = '';\n",
              "          dataTable['output_type'] = 'display_data';\n",
              "          await google.colab.output.renderOutput(dataTable, element);\n",
              "          const docLink = document.createElement('div');\n",
              "          docLink.innerHTML = docLinkHtml;\n",
              "          element.appendChild(docLink);\n",
              "        }\n",
              "      </script>\n",
              "    </div>\n",
              "  </div>\n",
              "  "
            ]
          },
          "metadata": {},
          "execution_count": 358
        }
      ]
    },
    {
      "cell_type": "code",
      "source": [
        "sex_df.head()"
      ],
      "metadata": {
        "colab": {
          "base_uri": "https://localhost:8080/",
          "height": 206
        },
        "id": "nrKvlT9py_v1",
        "outputId": "de3641ab-ceec-46c6-fc12-24736d547b55"
      },
      "id": "nrKvlT9py_v1",
      "execution_count": 359,
      "outputs": [
        {
          "output_type": "execute_result",
          "data": {
            "text/plain": [
              "                                                Text  sexism  \\\n",
              "0  RT @BeepsS: @senna1 @BeepsS: I'm not sexist bu...       1   \n",
              "1   There's some very hate able teams this year #MKR       0   \n",
              "2  RT @The_Eccles: \"Everyone underestimated us\" \\...       0   \n",
              "3  RT @NOTLukeDarcy: did @Channel7 or #MKR actual...       0   \n",
              "4  No, you don't. @Shut_Up_Jeff: I thought of a r...       1   \n",
              "\n",
              "                                      tokenized_text  \\\n",
              "0          rt sexist fuck woman cook get shit togeth   \n",
              "1                             hate abl team year mkr   \n",
              "2  rt everyon underestim u still well underestim ...   \n",
              "3          rt mkr actual check peopl could cook witb   \n",
              "4        thought realli funni joke promis sexist say   \n",
              "\n",
              "                                          token_list  text_len  \n",
              "0  [rt, sexist, fuck, woman, cook, get, shit, tog...         8  \n",
              "1                       [hate, abl, team, year, mkr]         5  \n",
              "2  [rt, everyon, underestim, u, still, well, unde...         9  \n",
              "3  [rt, mkr, actual, check, peopl, could, cook, w...         8  \n",
              "4  [thought, realli, funni, joke, promis, sexist,...         7  "
            ],
            "text/html": [
              "\n",
              "  <div id=\"df-1c1a6c8d-115f-4188-b89f-456e1b994642\">\n",
              "    <div class=\"colab-df-container\">\n",
              "      <div>\n",
              "<style scoped>\n",
              "    .dataframe tbody tr th:only-of-type {\n",
              "        vertical-align: middle;\n",
              "    }\n",
              "\n",
              "    .dataframe tbody tr th {\n",
              "        vertical-align: top;\n",
              "    }\n",
              "\n",
              "    .dataframe thead th {\n",
              "        text-align: right;\n",
              "    }\n",
              "</style>\n",
              "<table border=\"1\" class=\"dataframe\">\n",
              "  <thead>\n",
              "    <tr style=\"text-align: right;\">\n",
              "      <th></th>\n",
              "      <th>Text</th>\n",
              "      <th>sexism</th>\n",
              "      <th>tokenized_text</th>\n",
              "      <th>token_list</th>\n",
              "      <th>text_len</th>\n",
              "    </tr>\n",
              "  </thead>\n",
              "  <tbody>\n",
              "    <tr>\n",
              "      <th>0</th>\n",
              "      <td>RT @BeepsS: @senna1 @BeepsS: I'm not sexist bu...</td>\n",
              "      <td>1</td>\n",
              "      <td>rt sexist fuck woman cook get shit togeth</td>\n",
              "      <td>[rt, sexist, fuck, woman, cook, get, shit, tog...</td>\n",
              "      <td>8</td>\n",
              "    </tr>\n",
              "    <tr>\n",
              "      <th>1</th>\n",
              "      <td>There's some very hate able teams this year #MKR</td>\n",
              "      <td>0</td>\n",
              "      <td>hate abl team year mkr</td>\n",
              "      <td>[hate, abl, team, year, mkr]</td>\n",
              "      <td>5</td>\n",
              "    </tr>\n",
              "    <tr>\n",
              "      <th>2</th>\n",
              "      <td>RT @The_Eccles: \"Everyone underestimated us\" \\...</td>\n",
              "      <td>0</td>\n",
              "      <td>rt everyon underestim u still well underestim ...</td>\n",
              "      <td>[rt, everyon, underestim, u, still, well, unde...</td>\n",
              "      <td>9</td>\n",
              "    </tr>\n",
              "    <tr>\n",
              "      <th>3</th>\n",
              "      <td>RT @NOTLukeDarcy: did @Channel7 or #MKR actual...</td>\n",
              "      <td>0</td>\n",
              "      <td>rt mkr actual check peopl could cook witb</td>\n",
              "      <td>[rt, mkr, actual, check, peopl, could, cook, w...</td>\n",
              "      <td>8</td>\n",
              "    </tr>\n",
              "    <tr>\n",
              "      <th>4</th>\n",
              "      <td>No, you don't. @Shut_Up_Jeff: I thought of a r...</td>\n",
              "      <td>1</td>\n",
              "      <td>thought realli funni joke promis sexist say</td>\n",
              "      <td>[thought, realli, funni, joke, promis, sexist,...</td>\n",
              "      <td>7</td>\n",
              "    </tr>\n",
              "  </tbody>\n",
              "</table>\n",
              "</div>\n",
              "      <button class=\"colab-df-convert\" onclick=\"convertToInteractive('df-1c1a6c8d-115f-4188-b89f-456e1b994642')\"\n",
              "              title=\"Convert this dataframe to an interactive table.\"\n",
              "              style=\"display:none;\">\n",
              "        \n",
              "  <svg xmlns=\"http://www.w3.org/2000/svg\" height=\"24px\"viewBox=\"0 0 24 24\"\n",
              "       width=\"24px\">\n",
              "    <path d=\"M0 0h24v24H0V0z\" fill=\"none\"/>\n",
              "    <path d=\"M18.56 5.44l.94 2.06.94-2.06 2.06-.94-2.06-.94-.94-2.06-.94 2.06-2.06.94zm-11 1L8.5 8.5l.94-2.06 2.06-.94-2.06-.94L8.5 2.5l-.94 2.06-2.06.94zm10 10l.94 2.06.94-2.06 2.06-.94-2.06-.94-.94-2.06-.94 2.06-2.06.94z\"/><path d=\"M17.41 7.96l-1.37-1.37c-.4-.4-.92-.59-1.43-.59-.52 0-1.04.2-1.43.59L10.3 9.45l-7.72 7.72c-.78.78-.78 2.05 0 2.83L4 21.41c.39.39.9.59 1.41.59.51 0 1.02-.2 1.41-.59l7.78-7.78 2.81-2.81c.8-.78.8-2.07 0-2.86zM5.41 20L4 18.59l7.72-7.72 1.47 1.35L5.41 20z\"/>\n",
              "  </svg>\n",
              "      </button>\n",
              "      \n",
              "  <style>\n",
              "    .colab-df-container {\n",
              "      display:flex;\n",
              "      flex-wrap:wrap;\n",
              "      gap: 12px;\n",
              "    }\n",
              "\n",
              "    .colab-df-convert {\n",
              "      background-color: #E8F0FE;\n",
              "      border: none;\n",
              "      border-radius: 50%;\n",
              "      cursor: pointer;\n",
              "      display: none;\n",
              "      fill: #1967D2;\n",
              "      height: 32px;\n",
              "      padding: 0 0 0 0;\n",
              "      width: 32px;\n",
              "    }\n",
              "\n",
              "    .colab-df-convert:hover {\n",
              "      background-color: #E2EBFA;\n",
              "      box-shadow: 0px 1px 2px rgba(60, 64, 67, 0.3), 0px 1px 3px 1px rgba(60, 64, 67, 0.15);\n",
              "      fill: #174EA6;\n",
              "    }\n",
              "\n",
              "    [theme=dark] .colab-df-convert {\n",
              "      background-color: #3B4455;\n",
              "      fill: #D2E3FC;\n",
              "    }\n",
              "\n",
              "    [theme=dark] .colab-df-convert:hover {\n",
              "      background-color: #434B5C;\n",
              "      box-shadow: 0px 1px 3px 1px rgba(0, 0, 0, 0.15);\n",
              "      filter: drop-shadow(0px 1px 2px rgba(0, 0, 0, 0.3));\n",
              "      fill: #FFFFFF;\n",
              "    }\n",
              "  </style>\n",
              "\n",
              "      <script>\n",
              "        const buttonEl =\n",
              "          document.querySelector('#df-1c1a6c8d-115f-4188-b89f-456e1b994642 button.colab-df-convert');\n",
              "        buttonEl.style.display =\n",
              "          google.colab.kernel.accessAllowed ? 'block' : 'none';\n",
              "\n",
              "        async function convertToInteractive(key) {\n",
              "          const element = document.querySelector('#df-1c1a6c8d-115f-4188-b89f-456e1b994642');\n",
              "          const dataTable =\n",
              "            await google.colab.kernel.invokeFunction('convertToInteractive',\n",
              "                                                     [key], {});\n",
              "          if (!dataTable) return;\n",
              "\n",
              "          const docLinkHtml = 'Like what you see? Visit the ' +\n",
              "            '<a target=\"_blank\" href=https://colab.research.google.com/notebooks/data_table.ipynb>data table notebook</a>'\n",
              "            + ' to learn more about interactive tables.';\n",
              "          element.innerHTML = '';\n",
              "          dataTable['output_type'] = 'display_data';\n",
              "          await google.colab.output.renderOutput(dataTable, element);\n",
              "          const docLink = document.createElement('div');\n",
              "          docLink.innerHTML = docLinkHtml;\n",
              "          element.appendChild(docLink);\n",
              "        }\n",
              "      </script>\n",
              "    </div>\n",
              "  </div>\n",
              "  "
            ]
          },
          "metadata": {},
          "execution_count": 359
        }
      ]
    },
    {
      "cell_type": "markdown",
      "source": [
        "## Building multiple models\n",
        "1. Model 1: Predicting the probability of aggressiveness in the sentence.\n",
        "*   Dataset: agg_df\n",
        "*   Input: agg_x_1 = 'token_list', 'ed_label_0', 'ed_label'\n",
        "*   Output: agg_y_1 = 'ed_label_1'\n",
        "\n",
        "\n",
        "\n",
        "2. Model 2: Predicting whether the sentence has aggressive wording or not based only on the sentence.\n",
        "*   Dataset: agg_df\n",
        "*   Input: agg_x_2 = 'token_list'\n",
        "*   Output: agg_y_2 = 'ed_label'\n",
        "\n",
        "\n",
        "\n",
        "3. Model 3: Predicting the probability of attacking words in the sentence.\n",
        "*   Dataset: att_df\n",
        "*   Input: att_x_1 = 'token_list', 'ed_label_0', 'ed_label'\n",
        "*   Output: att_y_1 = 'ed_label_1'\n",
        "\n",
        "\n",
        "\n",
        "4. Model 4: Predicting whether the sentence has attacking wording or not based only on the sentence.\n",
        "*   Dataset: att_df\n",
        "*   Input: att_x_2 = 'token_list'\n",
        "*   Output: att_y_2 = 'ed_label'\n",
        "\n",
        "\n",
        "\n",
        "5. Model 5: Predicting the probability of toxic words in the sentence.\n",
        "*   Dataset: tox_df\n",
        "*   Input: tox_x_1 = 'token_list', 'ed_label_0', 'ed_label'\n",
        "*   Output: tox_y_1 = 'ed_label_1'\n",
        "\n",
        "\n",
        "\n",
        "6. Model 6: Predicting whether the sentence has toxic wording or not based only on the sentence.\n",
        "*   Dataset: tox_df\n",
        "*   Input: tox_x_2 = 'token_list'\n",
        "*   Output: tox_y_2 = 'ed_label'\n",
        "\n",
        "\n",
        "\n",
        "7. Model 7: Predicting whether the sentence has racist wording or not based only on the sentence.\n",
        "*   Dataset: rac_df\n",
        "*   Input: rac_x = 'token_list'\n",
        "*   Output: rac_y = 'ed_label'\n",
        "\n",
        "\n",
        "\n",
        "8. Model 8: Predicting whether the sentence has sexist wording or not based only on the sentence.\n",
        "*   Dataset: sex_df\n",
        "*   Input: sex_x = 'token_list'\n",
        "*   Output: sex_y = 'ed_label'\n"
      ],
      "metadata": {
        "id": "9LPOlw5h0OkI"
      },
      "id": "9LPOlw5h0OkI"
    },
    {
      "cell_type": "markdown",
      "source": [
        "### Splitting the datasets to train and test datasets"
      ],
      "metadata": {
        "id": "X2UBg1hN6H2N"
      },
      "id": "X2UBg1hN6H2N"
    },
    {
      "cell_type": "code",
      "source": [
        "# Dropping unused columns from the datasets\n",
        "\n",
        "agg_df\n",
        "agg_df.drop(['text_len'], axis = 1, inplace = True)\n",
        "\n",
        "# att_df\n",
        "att_df.drop(['text_len'], axis = 1, inplace = True)\n",
        "\n",
        "# tox_df\n",
        "tox_df.drop(['text_len'], axis = 1, inplace = True)\n",
        "\n",
        "# rac_df\n",
        "rac_df.drop(['text_len'], axis = 1, inplace = True)\n",
        "\n",
        "# sex_df\n",
        "sex_df.drop(['text_len'], axis = 1, inplace = True)"
      ],
      "metadata": {
        "id": "o0ZD-HTD9Mdg"
      },
      "id": "o0ZD-HTD9Mdg",
      "execution_count": 360,
      "outputs": []
    },
    {
      "cell_type": "code",
      "source": [
        "# Renaming the columns of the datasets\n",
        "agg_df = agg_df.rename({'ed_label_0':'Prob_not_aggression','ed_label_1':'Prob_aggression','oh_label':'aggression'},axis='columns')\n",
        "att_df = att_df.rename({'ed_label_0':'Prob_not_attack','ed_label_1':'Prob_attack','oh_label':'attack'},axis='columns')\n",
        "tox_df = tox_df.rename({'ed_label_0':'Prob_not_toxicity','ed_label_1':'Prob_toxicity','oh_label':'toxicity'},axis='columns')\n",
        "rac_df = rac_df.rename({'oh_label':'racism'},axis='columns')\n",
        "sex_df = sex_df.rename({'oh_label':'sexism'},axis='columns')"
      ],
      "metadata": {
        "id": "v-L_1OhCCNJ5"
      },
      "id": "v-L_1OhCCNJ5",
      "execution_count": 361,
      "outputs": []
    },
    {
      "cell_type": "code",
      "source": [
        "print(agg_df.head())\n",
        "print(att_df.head())\n",
        "print(tox_df.head())\n",
        "print(rac_df.head())\n",
        "print(sex_df.head())"
      ],
      "metadata": {
        "colab": {
          "base_uri": "https://localhost:8080/"
        },
        "id": "LLVxOY5WDI8Q",
        "outputId": "6a222bca-9bd9-4020-d1bb-0e588ce1ce56"
      },
      "id": "LLVxOY5WDI8Q",
      "execution_count": 362,
      "outputs": [
        {
          "output_type": "stream",
          "name": "stdout",
          "text": [
            "                                                Text  Prob_not_aggression  \\\n",
            "0  `- This is not ``creative``.  Those are the di...             0.900000   \n",
            "1  `  :: the term ``standard model`` is itself le...             1.000000   \n",
            "2    True or false, the situation as of March 200...             1.000000   \n",
            "3   Next, maybe you could work on being less cond...             0.555556   \n",
            "4               This page will need disambiguation.              1.000000   \n",
            "\n",
            "   Prob_aggression  aggression  \\\n",
            "0         0.100000           0   \n",
            "1         0.000000           0   \n",
            "2         0.000000           0   \n",
            "3         0.444444           0   \n",
            "4         0.000000           0   \n",
            "\n",
            "                                      tokenized_text  \\\n",
            "0  creativ dictionari definit term insur ensur pr...   \n",
            "1  term standard model le npov think would prefer...   \n",
            "2  true fals situat march saudi propos land peac ...   \n",
            "3  next mayb could work le condescend suggest rea...   \n",
            "4                                page need disambigu   \n",
            "\n",
            "                                          token_list  \n",
            "0  [creativ, dictionari, definit, term, insur, en...  \n",
            "1  [term, standard, model, le, npov, think, would...  \n",
            "2  [true, fals, situat, march, saudi, propos, lan...  \n",
            "3  [next, mayb, could, work, le, condescend, sugg...  \n",
            "4                            [page, need, disambigu]  \n",
            "                                                Text  Prob_not_attack  \\\n",
            "0  `- This is not ``creative``.  Those are the di...         1.000000   \n",
            "1  `  :: the term ``standard model`` is itself le...         1.000000   \n",
            "2    True or false, the situation as of March 200...         1.000000   \n",
            "3   Next, maybe you could work on being less cond...         0.555556   \n",
            "4               This page will need disambiguation.          1.000000   \n",
            "\n",
            "   Prob_attack  attack                                     tokenized_text  \\\n",
            "0     0.000000       0  creativ dictionari definit term insur ensur pr...   \n",
            "1     0.000000       0  term standard model le npov think would prefer...   \n",
            "2     0.000000       0  true fals situat march saudi propos land peac ...   \n",
            "3     0.444444       0  next mayb could work le condescend suggest rea...   \n",
            "4     0.000000       0                                page need disambigu   \n",
            "\n",
            "                                          token_list  \n",
            "0  [creativ, dictionari, definit, term, insur, en...  \n",
            "1  [term, standard, model, le, npov, think, would...  \n",
            "2  [true, fals, situat, march, saudi, propos, lan...  \n",
            "3  [next, mayb, could, work, le, condescend, sugg...  \n",
            "4                            [page, need, disambigu]  \n",
            "                                                Text  Prob_not_toxicity  \\\n",
            "0  This: :One can make an analogy in mathematical...                0.9   \n",
            "1  `  :Clarification for you  (and Zundark's righ...                1.0   \n",
            "2                          Elected or Electoral? JHK                1.0   \n",
            "3  `This is such a fun entry.   Devotchka  I once...                1.0   \n",
            "4  Please relate the ozone hole to increases in c...                0.8   \n",
            "\n",
            "   Prob_toxicity  toxicity                                     tokenized_text  \\\n",
            "0            0.1         0  one make analog mathemat term envis distribut ...   \n",
            "1            0.0         0  clarif zundark right check wikipedia bug page ...   \n",
            "2            0.0         0                                  elect elector jhk   \n",
            "3            0.0         0  fun entri devotchka cowork korea could tell di...   \n",
            "4            0.2         0  plea relat ozon hole increas cancer provid fig...   \n",
            "\n",
            "                                          token_list  \n",
            "0  [one, make, analog, mathemat, term, envis, dis...  \n",
            "1  [clarif, zundark, right, check, wikipedia, bug...  \n",
            "2                              [elect, elector, jhk]  \n",
            "3  [fun, entri, devotchka, cowork, korea, could, ...  \n",
            "4  [plea, relat, ozon, hole, increas, cancer, pro...  \n",
            "                                                Text  racism  \\\n",
            "0  @AAlwuhaib1977 Muslim mob violence against Hin...       1   \n",
            "2  @jncatron @isra_jourisra @AMPalestine Islamoph...       1   \n",
            "3  Finally I'm all caught up, and that sudden dea...       0   \n",
            "4             @carolinesinders @herecomesfran *hugs*       0   \n",
            "5  Please, PLEASE start using \"is your discernmen...       0   \n",
            "\n",
            "                                      tokenized_text  \\\n",
            "0  muslim mob violenc hindu bangladesh continu islam   \n",
            "2  islamophobia like idea naziphobia islam religi...   \n",
            "3  final caught sudden death cook look like gon n...   \n",
            "4                                                hug   \n",
            "5  plea plea start use discern blunt steroid mean...   \n",
            "\n",
            "                                          token_list  \n",
            "0  [muslim, mob, violenc, hindu, bangladesh, cont...  \n",
            "2  [islamophobia, like, idea, naziphobia, islam, ...  \n",
            "3  [final, caught, sudden, death, cook, look, lik...  \n",
            "4                                              [hug]  \n",
            "5  [plea, plea, start, use, discern, blunt, stero...  \n",
            "                                                Text  sexism  \\\n",
            "0  RT @BeepsS: @senna1 @BeepsS: I'm not sexist bu...       1   \n",
            "1   There's some very hate able teams this year #MKR       0   \n",
            "2  RT @The_Eccles: \"Everyone underestimated us\" \\...       0   \n",
            "3  RT @NOTLukeDarcy: did @Channel7 or #MKR actual...       0   \n",
            "4  No, you don't. @Shut_Up_Jeff: I thought of a r...       1   \n",
            "\n",
            "                                      tokenized_text  \\\n",
            "0          rt sexist fuck woman cook get shit togeth   \n",
            "1                             hate abl team year mkr   \n",
            "2  rt everyon underestim u still well underestim ...   \n",
            "3          rt mkr actual check peopl could cook witb   \n",
            "4        thought realli funni joke promis sexist say   \n",
            "\n",
            "                                          token_list  \n",
            "0  [rt, sexist, fuck, woman, cook, get, shit, tog...  \n",
            "1                       [hate, abl, team, year, mkr]  \n",
            "2  [rt, everyon, underestim, u, still, well, unde...  \n",
            "3  [rt, mkr, actual, check, peopl, could, cook, w...  \n",
            "4  [thought, realli, funni, joke, promis, sexist,...  \n"
          ]
        }
      ]
    },
    {
      "cell_type": "code",
      "source": [
        "# Re-indexing the columns for all the datasets\n",
        "# agg_df = agg_df.reindex(columns=['Text', 'tokenized_text', 'token_list', 'Prob_not_aggression', 'Prob_aggression', 'aggression'])\n",
        "# att_df = att_df.reindex(columns=['Text', 'tokenized_text', 'token_list', 'Prob_not_attack', 'Prob_attack', 'attack'])\n",
        "# tox_df = tox_df.reindex(columns=['Text', 'tokenized_text', 'token_list', 'Prob_not_toxicity', 'Prob_toxicity', 'toxicity'])\n",
        "# rac_df = rac_df.reindex(columns=['Text', 'tokenized_text', 'token_list', 'racism'])\n",
        "# sex_df = sex_df.reindex(columns=['Text', 'tokenized_text', 'token_list', 'sexism'])"
      ],
      "metadata": {
        "id": "PM2DAX8a7SQH"
      },
      "id": "PM2DAX8a7SQH",
      "execution_count": 363,
      "outputs": []
    },
    {
      "cell_type": "code",
      "source": [
        "# # Splitting datasets into target (y) and predictor (x) variables\n",
        "# # Model 1\n",
        "# agg_x_1 = agg_df[['token_list', 'Prob_not_aggression','aggression']]\n",
        "# agg_y_1 = agg_df[['Prob_aggression']]\n",
        "\n",
        "# # Model 2\n",
        "# agg_x_2 = agg_df[['token_list']]\n",
        "# agg_y_2 = agg_df[['aggression']]\n",
        "\n",
        "# # Model 3\n",
        "# att_x_1 = att_df[['token_list', 'Prob_not_attack','attack']]\n",
        "# att_y_1 = att_df[['Prob_attack']]\n",
        "\n",
        "# # Model 4\n",
        "# att_x_2 = att_df[['token_list']]\n",
        "# att_y_2 = att_df[['attack']]\n",
        "\n",
        "# # Model 5\n",
        "# tox_x_1 = tox_df[['token_list', 'Prob_not_toxicity','toxicity']]\n",
        "# tox_y_1 = tox_df[['Prob_toxicity']]\n",
        "\n",
        "# # Model 6\n",
        "# tox_x_2 = tox_df[['token_list']]\n",
        "# tox_y_2 = tox_df[['toxicity']]\n",
        "\n",
        "# # Model 7\n",
        "# rac_x_1 = rac_df[['token_list']]\n",
        "# rac_y_1 = rac_df[['racism']]\n",
        "\n",
        "# # Model 8\n",
        "# sex_x_1 = sex_df[['token_list']]\n",
        "# sex_y_1 = sex_df[['sexism']]"
      ],
      "metadata": {
        "id": "ZiVnj1ckvwiH"
      },
      "id": "ZiVnj1ckvwiH",
      "execution_count": 364,
      "outputs": []
    },
    {
      "cell_type": "code",
      "source": [
        "# Splitting datasets into target (y) and predictor (x) variables\n",
        "# Model 1\n",
        "agg_x_1 = agg_df[['tokenized_text', 'Prob_not_aggression','aggression']]\n",
        "agg_y_1 = agg_df[['Prob_aggression']]\n",
        "\n",
        "# Model 2\n",
        "agg_x_2 = agg_df[['tokenized_text']]\n",
        "agg_y_2 = agg_df[['aggression']]\n",
        "\n",
        "# Model 3\n",
        "att_x_1 = att_df[['tokenized_text', 'Prob_not_attack','attack']]\n",
        "att_y_1 = att_df[['Prob_attack']]\n",
        "\n",
        "# Model 4\n",
        "att_x_2 = att_df[['tokenized_text']]\n",
        "att_y_2 = att_df[['attack']]\n",
        "\n",
        "# Model 5\n",
        "tox_x_1 = tox_df[['tokenized_text', 'Prob_not_toxicity','toxicity']]\n",
        "tox_y_1 = tox_df[['Prob_toxicity']]\n",
        "\n",
        "# Model 6\n",
        "tox_x_2 = tox_df[['tokenized_text']]\n",
        "tox_y_2 = tox_df[['toxicity']]\n",
        "\n",
        "# Model 7\n",
        "rac_x_1 = rac_df[['tokenized_text']]\n",
        "rac_y_1 = rac_df[['racism']]\n",
        "\n",
        "# Model 8\n",
        "sex_x_1 = sex_df[['tokenized_text']]\n",
        "sex_y_1 = sex_df[['sexism']]"
      ],
      "metadata": {
        "id": "khFC903g6IJ4"
      },
      "id": "khFC903g6IJ4",
      "execution_count": 365,
      "outputs": []
    },
    {
      "cell_type": "code",
      "source": [
        "agg_x_2.shape"
      ],
      "metadata": {
        "colab": {
          "base_uri": "https://localhost:8080/"
        },
        "id": "NMyfkfpEjEX0",
        "outputId": "ba8a1d8b-1b9d-48d0-d495-99b8463d5e50"
      },
      "id": "NMyfkfpEjEX0",
      "execution_count": 400,
      "outputs": [
        {
          "output_type": "execute_result",
          "data": {
            "text/plain": [
              "(113923, 1)"
            ]
          },
          "metadata": {},
          "execution_count": 400
        }
      ]
    },
    {
      "cell_type": "code",
      "source": [
        "# Model 1: Splitting the train and test dataset for agg_df\n",
        "agg_x_train_1, agg_x_test_1, agg_y_train_1, agg_y_test_1 = train_test_split(agg_x_1, agg_y_1, test_size = 0.3, random_state = 143)\n",
        "print(agg_x_train_1.shape, agg_y_train_1.shape, agg_x_test_1.shape, agg_y_test_1.shape)"
      ],
      "metadata": {
        "colab": {
          "base_uri": "https://localhost:8080/"
        },
        "id": "NjADlzFxIK02",
        "outputId": "3ebc3a9b-a7bc-4c3d-bfec-f2071eb3b0ba"
      },
      "id": "NjADlzFxIK02",
      "execution_count": 367,
      "outputs": [
        {
          "output_type": "stream",
          "name": "stdout",
          "text": [
            "(79746, 3) (79746, 1) (34177, 3) (34177, 1)\n"
          ]
        }
      ]
    },
    {
      "cell_type": "code",
      "source": [
        "# Model 2: Splitting the train and test dataset for agg_df\n",
        "agg_x_train_2, agg_x_test_2, agg_y_train_2, agg_y_test_2 = train_test_split(agg_x_2, agg_y_2, test_size = 0.3, random_state = 143)\n",
        "print(agg_x_train_2.shape, agg_y_train_2.shape, agg_x_test_2.shape, agg_y_test_2.shape)"
      ],
      "metadata": {
        "colab": {
          "base_uri": "https://localhost:8080/"
        },
        "id": "kZ0maGZPLP_c",
        "outputId": "b503e246-2135-4959-cca1-aea303fd74c8"
      },
      "id": "kZ0maGZPLP_c",
      "execution_count": 368,
      "outputs": [
        {
          "output_type": "stream",
          "name": "stdout",
          "text": [
            "(79746, 1) (79746, 1) (34177, 1) (34177, 1)\n"
          ]
        }
      ]
    },
    {
      "cell_type": "code",
      "source": [
        "# Model 3: Splitting the train and test dataset for att_df\n",
        "att_x_train_1, att_x_test_1, att_y_train_1, att_y_test_1 = train_test_split(att_x_1, att_y_1, test_size = 0.3, random_state = 143)\n",
        "print(att_x_train_1.shape, att_y_train_1.shape, att_x_test_1.shape, att_y_test_1.shape)"
      ],
      "metadata": {
        "colab": {
          "base_uri": "https://localhost:8080/"
        },
        "id": "8bdThWC2LQeC",
        "outputId": "aa681cea-1f39-4423-e689-4444b67847c8"
      },
      "id": "8bdThWC2LQeC",
      "execution_count": 369,
      "outputs": [
        {
          "output_type": "stream",
          "name": "stdout",
          "text": [
            "(79746, 3) (79746, 1) (34177, 3) (34177, 1)\n"
          ]
        }
      ]
    },
    {
      "cell_type": "code",
      "source": [
        "# Model 4: Splitting the train and test dataset for att_df\n",
        "att_x_train_2, att_x_test_2, att_y_train_2, att_y_test_2 = train_test_split(att_x_2, att_y_2, test_size = 0.3, random_state = 143)\n",
        "print(att_x_train_2.shape, att_y_train_2.shape, att_x_test_2.shape, att_y_test_2.shape)"
      ],
      "metadata": {
        "colab": {
          "base_uri": "https://localhost:8080/"
        },
        "id": "EkUnyTpLLRFO",
        "outputId": "ad98d3e5-cdf7-460d-c4fe-e644c79c35b4"
      },
      "id": "EkUnyTpLLRFO",
      "execution_count": 370,
      "outputs": [
        {
          "output_type": "stream",
          "name": "stdout",
          "text": [
            "(79746, 1) (79746, 1) (34177, 1) (34177, 1)\n"
          ]
        }
      ]
    },
    {
      "cell_type": "code",
      "source": [
        "# Model 5: Splitting the train and test dataset for tox_df\n",
        "tox_x_train_1, tox_x_test_1, tox_y_train_1, tox_y_test_1 = train_test_split(tox_x_1, tox_y_1, test_size = 0.3, random_state = 143)\n",
        "print(tox_x_train_1.shape, tox_y_train_1.shape, tox_x_test_1.shape, tox_y_test_1.shape)"
      ],
      "metadata": {
        "colab": {
          "base_uri": "https://localhost:8080/"
        },
        "id": "XYb2k6YELRVD",
        "outputId": "39ada356-98ca-4543-ba04-60a25507d9e0"
      },
      "id": "XYb2k6YELRVD",
      "execution_count": 371,
      "outputs": [
        {
          "output_type": "stream",
          "name": "stdout",
          "text": [
            "(109585, 3) (109585, 1) (46965, 3) (46965, 1)\n"
          ]
        }
      ]
    },
    {
      "cell_type": "code",
      "source": [
        "# Model 6: Splitting the train and test dataset for tox_df\n",
        "tox_x_train_2, tox_x_test_2, tox_y_train_2, tox_y_test_2 = train_test_split(tox_x_2, tox_y_2, test_size = 0.3, random_state = 143)\n",
        "print(tox_x_train_2.shape, tox_y_train_2.shape, tox_x_test_2.shape, tox_y_test_2.shape)"
      ],
      "metadata": {
        "colab": {
          "base_uri": "https://localhost:8080/"
        },
        "id": "aAJdRVC3LRjE",
        "outputId": "7deabb3d-3576-4abd-cf2b-6f425a426517"
      },
      "id": "aAJdRVC3LRjE",
      "execution_count": 372,
      "outputs": [
        {
          "output_type": "stream",
          "name": "stdout",
          "text": [
            "(109585, 1) (109585, 1) (46965, 1) (46965, 1)\n"
          ]
        }
      ]
    },
    {
      "cell_type": "code",
      "source": [
        "# Model 7: Splitting the train and test dataset for rac_df\n",
        "rac_x_train_1, rac_x_test_1, rac_y_train_1, rac_y_test_1 = train_test_split(rac_x_1, rac_y_1, test_size = 0.3, random_state = 143)\n",
        "print(rac_x_train_1.shape, rac_y_train_1.shape, rac_x_test_1.shape, rac_y_test_1.shape)"
      ],
      "metadata": {
        "colab": {
          "base_uri": "https://localhost:8080/"
        },
        "id": "BQIyh2Q-vwo4",
        "outputId": "38d20e3c-8c25-4780-f1d4-54793fe74046"
      },
      "id": "BQIyh2Q-vwo4",
      "execution_count": 373,
      "outputs": [
        {
          "output_type": "stream",
          "name": "stdout",
          "text": [
            "(9055, 1) (9055, 1) (3882, 1) (3882, 1)\n"
          ]
        }
      ]
    },
    {
      "cell_type": "code",
      "source": [
        "# Model 8: Splitting the train and test dataset for sex_df\n",
        "sex_x_train_1, sex_x_test_1, sex_y_train_1, sex_y_test_1 = train_test_split(sex_x_1, sex_y_1, test_size = 0.3, random_state = 143)\n",
        "print(sex_x_train_1.shape, sex_y_train_1.shape, sex_x_test_1.shape, sex_y_test_1.shape)"
      ],
      "metadata": {
        "colab": {
          "base_uri": "https://localhost:8080/"
        },
        "id": "-LBab-Y6N1-W",
        "outputId": "12781257-1f84-4415-c390-d686c4a4d458"
      },
      "id": "-LBab-Y6N1-W",
      "execution_count": 374,
      "outputs": [
        {
          "output_type": "stream",
          "name": "stdout",
          "text": [
            "(10006, 1) (10006, 1) (4289, 1) (4289, 1)\n"
          ]
        }
      ]
    },
    {
      "cell_type": "markdown",
      "source": [
        "## Tf-IDF Vectorization"
      ],
      "metadata": {
        "id": "KQdSzzAGPQhO"
      },
      "id": "KQdSzzAGPQhO"
    },
    {
      "cell_type": "code",
      "source": [
        "# Instantiating the vectorizer\n",
        "tf_idf = TfidfVectorizer()\n",
        "\n",
        "# Model 1\n",
        "agg_x_train_tf_1 = tf_idf.fit_transform(agg_x_train_1)\n",
        "agg_x_test_tf_1 = tf_idf.transform(agg_x_test_1)\n",
        "print(agg_x_train_tf_1.shape)\n",
        "print(agg_x_test_tf_1.shape)"
      ],
      "metadata": {
        "colab": {
          "base_uri": "https://localhost:8080/"
        },
        "id": "R4j0rTLrPPUb",
        "outputId": "04d2a7c0-2da9-4f9c-b5ee-4497cefe6dd2"
      },
      "id": "R4j0rTLrPPUb",
      "execution_count": 375,
      "outputs": [
        {
          "output_type": "stream",
          "name": "stdout",
          "text": [
            "(3, 3)\n",
            "(3, 3)\n"
          ]
        }
      ]
    },
    {
      "cell_type": "code",
      "source": [
        "# Model 2\n",
        "agg_x_train_tf_2 = tf_idf.fit_transform(agg_x_train_2)\n",
        "agg_x_test_tf_2 = tf_idf.transform(agg_x_test_2)\n",
        "print(agg_x_train_tf_2.shape)\n",
        "print(agg_x_test_tf_2.shape)"
      ],
      "metadata": {
        "colab": {
          "base_uri": "https://localhost:8080/"
        },
        "id": "RFQ3H0edQCM7",
        "outputId": "cd29d247-e87a-426d-c3c8-d64d22595522"
      },
      "id": "RFQ3H0edQCM7",
      "execution_count": 376,
      "outputs": [
        {
          "output_type": "stream",
          "name": "stdout",
          "text": [
            "(1, 1)\n",
            "(1, 1)\n"
          ]
        }
      ]
    },
    {
      "cell_type": "code",
      "source": [
        "# Model 3\n",
        "att_x_train_tf_1 = tf_idf.fit_transform(att_x_train_1)\n",
        "att_x_test_tf_1 = tf_idf.transform(att_x_test_1)\n",
        "print(att_x_train_tf_1.shape)\n",
        "print(att_x_test_tf_1.shape)"
      ],
      "metadata": {
        "colab": {
          "base_uri": "https://localhost:8080/"
        },
        "id": "A0TKcoIDQCVB",
        "outputId": "eb554b6d-fbce-41b6-8798-44101ca8db33"
      },
      "id": "A0TKcoIDQCVB",
      "execution_count": 377,
      "outputs": [
        {
          "output_type": "stream",
          "name": "stdout",
          "text": [
            "(3, 3)\n",
            "(3, 3)\n"
          ]
        }
      ]
    },
    {
      "cell_type": "code",
      "source": [
        "# Model 4\n",
        "att_x_train_tf_2 = tf_idf.fit_transform(att_x_train_2)\n",
        "att_x_test_tf_2 = tf_idf.transform(att_x_test_2)\n",
        "print(att_x_train_tf_2.shape)\n",
        "print(att_x_test_tf_2.shape)"
      ],
      "metadata": {
        "colab": {
          "base_uri": "https://localhost:8080/"
        },
        "id": "E7YZl6t-QCda",
        "outputId": "a8bc4f72-b7ff-4f90-e70e-cab914a69c4e"
      },
      "id": "E7YZl6t-QCda",
      "execution_count": 378,
      "outputs": [
        {
          "output_type": "stream",
          "name": "stdout",
          "text": [
            "(1, 1)\n",
            "(1, 1)\n"
          ]
        }
      ]
    },
    {
      "cell_type": "code",
      "source": [
        "# Model 5\n",
        "tox_x_train_tf_1 = tf_idf.fit_transform(tox_x_train_1)\n",
        "tox_x_test_tf_1 = tf_idf.transform(tox_x_test_1)\n",
        "print(tox_x_train_tf_1.shape)\n",
        "print(tox_x_test_tf_1.shape)"
      ],
      "metadata": {
        "colab": {
          "base_uri": "https://localhost:8080/"
        },
        "id": "0SGbNIR_QClI",
        "outputId": "79c0b23f-f183-4819-9d78-7f061f4cb01e"
      },
      "id": "0SGbNIR_QClI",
      "execution_count": 379,
      "outputs": [
        {
          "output_type": "stream",
          "name": "stdout",
          "text": [
            "(3, 3)\n",
            "(3, 3)\n"
          ]
        }
      ]
    },
    {
      "cell_type": "code",
      "source": [
        "# Model 6\n",
        "tox_x_train_tf_2 = tf_idf.fit_transform(tox_x_train_2)\n",
        "tox_x_test_tf_2 = tf_idf.transform(tox_x_test_2)\n",
        "print(tox_x_train_tf_2.shape)\n",
        "print(tox_x_test_tf_2.shape)"
      ],
      "metadata": {
        "colab": {
          "base_uri": "https://localhost:8080/"
        },
        "id": "CShKhpy1QCs_",
        "outputId": "83cb836a-6c70-4460-f043-4fe15b996a32"
      },
      "id": "CShKhpy1QCs_",
      "execution_count": 380,
      "outputs": [
        {
          "output_type": "stream",
          "name": "stdout",
          "text": [
            "(1, 1)\n",
            "(1, 1)\n"
          ]
        }
      ]
    },
    {
      "cell_type": "code",
      "source": [
        "# Model 7\n",
        "rac_x_train_tf = tf_idf.fit_transform(rac_x_train_1)\n",
        "rac_x_test_tf = tf_idf.transform(rac_x_test_1)\n",
        "print(rac_x_train_tf.shape)\n",
        "print(rac_x_test_tf.shape)"
      ],
      "metadata": {
        "colab": {
          "base_uri": "https://localhost:8080/"
        },
        "id": "unIbusvOQC0d",
        "outputId": "41f79453-7e7c-453b-ec9e-649f9e9702f4"
      },
      "id": "unIbusvOQC0d",
      "execution_count": 381,
      "outputs": [
        {
          "output_type": "stream",
          "name": "stdout",
          "text": [
            "(1, 1)\n",
            "(1, 1)\n"
          ]
        }
      ]
    },
    {
      "cell_type": "code",
      "source": [
        "# Model 8\n",
        "sex_x_train_tf = tf_idf.fit_transform(sex_x_train_1)\n",
        "sex_x_test_tf = tf_idf.transform(sex_x_test_1)\n",
        "print(sex_x_train_tf.shape)\n",
        "print(sex_x_test_tf.shape)"
      ],
      "metadata": {
        "colab": {
          "base_uri": "https://localhost:8080/"
        },
        "id": "4LywOpY-QC92",
        "outputId": "04211da4-8d9e-4e84-9b8e-67c1bedb2171"
      },
      "id": "4LywOpY-QC92",
      "execution_count": 382,
      "outputs": [
        {
          "output_type": "stream",
          "name": "stdout",
          "text": [
            "(1, 1)\n",
            "(1, 1)\n"
          ]
        }
      ]
    },
    {
      "cell_type": "code",
      "source": [
        "agg_y_train_1_array = agg_y_train_1.to_numpy().reshape((-1,1))\n",
        "agg_y_train_1_array_1.shape"
      ],
      "metadata": {
        "colab": {
          "base_uri": "https://localhost:8080/"
        },
        "id": "VvE3cjwjQDUp",
        "outputId": "c9177e91-0251-4331-dce4-04b0864dc077"
      },
      "id": "VvE3cjwjQDUp",
      "execution_count": 383,
      "outputs": [
        {
          "output_type": "execute_result",
          "data": {
            "text/plain": [
              "(79746, 1)"
            ]
          },
          "metadata": {},
          "execution_count": 383
        }
      ]
    },
    {
      "cell_type": "markdown",
      "source": [
        "## Model Developement"
      ],
      "metadata": {
        "id": "BZTzCyPyPCqs"
      },
      "id": "BZTzCyPyPCqs"
    },
    {
      "cell_type": "markdown",
      "source": [
        "#### Model 1, 3 & 5: Prediction of score, so models to be developed are:\n",
        "1.   Linear regression\n",
        "2.   Support Vector Machines\n",
        "3.   Random Forests\n",
        "4.   XGBoost\n",
        "\n",
        "#### Model 2,4,6,7 & 8: Classification, so the models to be developed are:\n",
        "1.   Logistic regression\n",
        "2.   Support Vector Machines\n",
        "3.   Random Forests\n",
        "4.   XGBoost\n",
        "\n",
        "#### Model 1\n",
        "\n",
        "1.   Model 1a. Linear regression\n",
        "2.   Model 1b. Support Vector Machines\n",
        "3.   Model 1c. Random Forests\n",
        "4.   Model 1d. XGBoost\n",
        "\n",
        "#### Model 2\n",
        "\n",
        "1.   Model 2a. Logistic regression\n",
        "2.   Model 2b. Support Vector Machines\n",
        "3.   Model 2c. Random Forests\n",
        "4.   Model 2d. XGBoost\n",
        "\n",
        "#### Model 3\n",
        "\n",
        "1.   Model 3a. Linear regression\n",
        "2.   Model 3b. Support Vector Machines\n",
        "3.   Model 3c. Random Forests\n",
        "4.   Model 3d. XGBoost\n",
        "\n",
        "#### Model 4\n",
        "\n",
        "1.   Model 4a. Logistic regression\n",
        "2.   Model 4b. Support Vector Machines\n",
        "3.   Model 4c. Random Forests\n",
        "4.   Model 4d. XGBoost\n",
        "\n",
        "#### Model 5\n",
        "\n",
        "1.   Model 5a. Linear regression\n",
        "2.   Model 5b. Support Vector Machines\n",
        "3.   Model 5c. Random Forests\n",
        "4.   Model 5d. XGBoost\n",
        "\n",
        "#### Model 6\n",
        "\n",
        "1.   Model 6a. Logistic regression\n",
        "2.   Model 6b. Support Vector Machines\n",
        "3.   Model 6c. Random Forests\n",
        "4.   Model 6d. XGBoost\n",
        "\n",
        "#### Model 7\n",
        "\n",
        "1.   Model 7a. Logistic regression\n",
        "2.   Model 7b. Support Vector Machines\n",
        "3.   Model 7c. Random Forests\n",
        "4.   Model 7d. XGBoost\n",
        "\n",
        "\n",
        "#### Model 8\n",
        "\n",
        "1.   Model 8a. Logistic regression\n",
        "2.   Model 8b. Support Vector Machines\n",
        "3.   Model 8c. Random Forests\n",
        "4.   Model 8d. XGBoost\n",
        "\n",
        "\n"
      ],
      "metadata": {
        "id": "FBA0XQd-SSPW"
      },
      "id": "FBA0XQd-SSPW"
    },
    {
      "cell_type": "markdown",
      "source": [
        "## Model 1"
      ],
      "metadata": {
        "id": "4GZdc6GyTf0i"
      },
      "id": "4GZdc6GyTf0i"
    },
    {
      "cell_type": "markdown",
      "source": [
        "### 1a. Linear Regression"
      ],
      "metadata": {
        "id": "OSGOelJwTkf3"
      },
      "id": "OSGOelJwTkf3"
    },
    {
      "cell_type": "code",
      "source": [
        "print(agg_x_train_tf_1_array)\n",
        "print(agg_y_train_1_array)"
      ],
      "metadata": {
        "colab": {
          "base_uri": "https://localhost:8080/"
        },
        "id": "X_g65twP7Q30",
        "outputId": "dd9bc050-47ba-4610-b36b-7b5b696e102b"
      },
      "id": "X_g65twP7Q30",
      "execution_count": 384,
      "outputs": [
        {
          "output_type": "stream",
          "name": "stdout",
          "text": [
            "[[0. 0. 1.]\n",
            " [0. 1. 0.]\n",
            " [1. 0. 0.]]\n",
            "[[0.4       ]\n",
            " [0.22222222]\n",
            " [0.1       ]\n",
            " ...\n",
            " [1.        ]\n",
            " [0.1       ]\n",
            " [0.        ]]\n"
          ]
        }
      ]
    },
    {
      "cell_type": "code",
      "source": [
        "agg_x_train_1_array = agg_x_train_1.to_numpy()\n",
        "agg_y_train_1_array = agg_y_train_1.to_numpy()\n",
        "print(agg_y_train_1_array)"
      ],
      "metadata": {
        "colab": {
          "base_uri": "https://localhost:8080/"
        },
        "id": "IGy_nYRX-XvJ",
        "outputId": "94d3075a-289f-4dea-8d4c-4dbf30683b0a"
      },
      "id": "IGy_nYRX-XvJ",
      "execution_count": 389,
      "outputs": [
        {
          "output_type": "stream",
          "name": "stdout",
          "text": [
            "[[0.4       ]\n",
            " [0.22222222]\n",
            " [0.1       ]\n",
            " ...\n",
            " [1.        ]\n",
            " [0.1       ]\n",
            " [0.        ]]\n"
          ]
        }
      ]
    },
    {
      "cell_type": "code",
      "execution_count": 392,
      "id": "ad13d19c",
      "metadata": {
        "id": "ad13d19c"
      },
      "outputs": [],
      "source": [
        "# Instantiating the Linear Regression\n",
        "lin_reg = LinearRegression()"
      ]
    },
    {
      "cell_type": "code",
      "source": [
        "lin_reg.fit(agg_x_train_1, agg_y_train_1)\n",
        "lin_reg.fit(agg_x_train_1[['tokenized_text','num_stops','distance_price']],df_omega['price'])"
      ],
      "metadata": {
        "colab": {
          "base_uri": "https://localhost:8080/",
          "height": 318
        },
        "id": "HfN-0ihxuP8X",
        "outputId": "dda750c3-5478-4888-feb6-3c490d98aefc"
      },
      "id": "HfN-0ihxuP8X",
      "execution_count": 396,
      "outputs": [
        {
          "output_type": "error",
          "ename": "ValueError",
          "evalue": "ignored",
          "traceback": [
            "\u001b[0;31m---------------------------------------------------------------------------\u001b[0m",
            "\u001b[0;31mValueError\u001b[0m                                Traceback (most recent call last)",
            "\u001b[0;32m<ipython-input-396-42c8b6109e4e>\u001b[0m in \u001b[0;36m<cell line: 1>\u001b[0;34m()\u001b[0m\n\u001b[0;32m----> 1\u001b[0;31m \u001b[0mlin_reg\u001b[0m\u001b[0;34m.\u001b[0m\u001b[0mfit\u001b[0m\u001b[0;34m(\u001b[0m\u001b[0magg_x_train_1\u001b[0m\u001b[0;34m,\u001b[0m \u001b[0magg_y_train_1\u001b[0m\u001b[0;34m)\u001b[0m\u001b[0;34m\u001b[0m\u001b[0;34m\u001b[0m\u001b[0m\n\u001b[0m",
            "\u001b[0;32m/usr/local/lib/python3.9/dist-packages/sklearn/linear_model/_base.py\u001b[0m in \u001b[0;36mfit\u001b[0;34m(self, X, y, sample_weight)\u001b[0m\n\u001b[1;32m    646\u001b[0m         \u001b[0maccept_sparse\u001b[0m \u001b[0;34m=\u001b[0m \u001b[0;32mFalse\u001b[0m \u001b[0;32mif\u001b[0m \u001b[0mself\u001b[0m\u001b[0;34m.\u001b[0m\u001b[0mpositive\u001b[0m \u001b[0;32melse\u001b[0m \u001b[0;34m[\u001b[0m\u001b[0;34m\"csr\"\u001b[0m\u001b[0;34m,\u001b[0m \u001b[0;34m\"csc\"\u001b[0m\u001b[0;34m,\u001b[0m \u001b[0;34m\"coo\"\u001b[0m\u001b[0;34m]\u001b[0m\u001b[0;34m\u001b[0m\u001b[0;34m\u001b[0m\u001b[0m\n\u001b[1;32m    647\u001b[0m \u001b[0;34m\u001b[0m\u001b[0m\n\u001b[0;32m--> 648\u001b[0;31m         X, y = self._validate_data(\n\u001b[0m\u001b[1;32m    649\u001b[0m             \u001b[0mX\u001b[0m\u001b[0;34m,\u001b[0m \u001b[0my\u001b[0m\u001b[0;34m,\u001b[0m \u001b[0maccept_sparse\u001b[0m\u001b[0;34m=\u001b[0m\u001b[0maccept_sparse\u001b[0m\u001b[0;34m,\u001b[0m \u001b[0my_numeric\u001b[0m\u001b[0;34m=\u001b[0m\u001b[0;32mTrue\u001b[0m\u001b[0;34m,\u001b[0m \u001b[0mmulti_output\u001b[0m\u001b[0;34m=\u001b[0m\u001b[0;32mTrue\u001b[0m\u001b[0;34m\u001b[0m\u001b[0;34m\u001b[0m\u001b[0m\n\u001b[1;32m    650\u001b[0m         )\n",
            "\u001b[0;32m/usr/local/lib/python3.9/dist-packages/sklearn/base.py\u001b[0m in \u001b[0;36m_validate_data\u001b[0;34m(self, X, y, reset, validate_separately, **check_params)\u001b[0m\n\u001b[1;32m    582\u001b[0m                 \u001b[0my\u001b[0m \u001b[0;34m=\u001b[0m \u001b[0mcheck_array\u001b[0m\u001b[0;34m(\u001b[0m\u001b[0my\u001b[0m\u001b[0;34m,\u001b[0m \u001b[0minput_name\u001b[0m\u001b[0;34m=\u001b[0m\u001b[0;34m\"y\"\u001b[0m\u001b[0;34m,\u001b[0m \u001b[0;34m**\u001b[0m\u001b[0mcheck_y_params\u001b[0m\u001b[0;34m)\u001b[0m\u001b[0;34m\u001b[0m\u001b[0;34m\u001b[0m\u001b[0m\n\u001b[1;32m    583\u001b[0m             \u001b[0;32melse\u001b[0m\u001b[0;34m:\u001b[0m\u001b[0;34m\u001b[0m\u001b[0;34m\u001b[0m\u001b[0m\n\u001b[0;32m--> 584\u001b[0;31m                 \u001b[0mX\u001b[0m\u001b[0;34m,\u001b[0m \u001b[0my\u001b[0m \u001b[0;34m=\u001b[0m \u001b[0mcheck_X_y\u001b[0m\u001b[0;34m(\u001b[0m\u001b[0mX\u001b[0m\u001b[0;34m,\u001b[0m \u001b[0my\u001b[0m\u001b[0;34m,\u001b[0m \u001b[0;34m**\u001b[0m\u001b[0mcheck_params\u001b[0m\u001b[0;34m)\u001b[0m\u001b[0;34m\u001b[0m\u001b[0;34m\u001b[0m\u001b[0m\n\u001b[0m\u001b[1;32m    585\u001b[0m             \u001b[0mout\u001b[0m \u001b[0;34m=\u001b[0m \u001b[0mX\u001b[0m\u001b[0;34m,\u001b[0m \u001b[0my\u001b[0m\u001b[0;34m\u001b[0m\u001b[0;34m\u001b[0m\u001b[0m\n\u001b[1;32m    586\u001b[0m \u001b[0;34m\u001b[0m\u001b[0m\n",
            "\u001b[0;32m/usr/local/lib/python3.9/dist-packages/sklearn/utils/validation.py\u001b[0m in \u001b[0;36mcheck_X_y\u001b[0;34m(X, y, accept_sparse, accept_large_sparse, dtype, order, copy, force_all_finite, ensure_2d, allow_nd, multi_output, ensure_min_samples, ensure_min_features, y_numeric, estimator)\u001b[0m\n\u001b[1;32m   1104\u001b[0m         )\n\u001b[1;32m   1105\u001b[0m \u001b[0;34m\u001b[0m\u001b[0m\n\u001b[0;32m-> 1106\u001b[0;31m     X = check_array(\n\u001b[0m\u001b[1;32m   1107\u001b[0m         \u001b[0mX\u001b[0m\u001b[0;34m,\u001b[0m\u001b[0;34m\u001b[0m\u001b[0;34m\u001b[0m\u001b[0m\n\u001b[1;32m   1108\u001b[0m         \u001b[0maccept_sparse\u001b[0m\u001b[0;34m=\u001b[0m\u001b[0maccept_sparse\u001b[0m\u001b[0;34m,\u001b[0m\u001b[0;34m\u001b[0m\u001b[0;34m\u001b[0m\u001b[0m\n",
            "\u001b[0;32m/usr/local/lib/python3.9/dist-packages/sklearn/utils/validation.py\u001b[0m in \u001b[0;36mcheck_array\u001b[0;34m(array, accept_sparse, accept_large_sparse, dtype, order, copy, force_all_finite, ensure_2d, allow_nd, ensure_min_samples, ensure_min_features, estimator, input_name)\u001b[0m\n\u001b[1;32m    877\u001b[0m                     \u001b[0marray\u001b[0m \u001b[0;34m=\u001b[0m \u001b[0mxp\u001b[0m\u001b[0;34m.\u001b[0m\u001b[0mastype\u001b[0m\u001b[0;34m(\u001b[0m\u001b[0marray\u001b[0m\u001b[0;34m,\u001b[0m \u001b[0mdtype\u001b[0m\u001b[0;34m,\u001b[0m \u001b[0mcopy\u001b[0m\u001b[0;34m=\u001b[0m\u001b[0;32mFalse\u001b[0m\u001b[0;34m)\u001b[0m\u001b[0;34m\u001b[0m\u001b[0;34m\u001b[0m\u001b[0m\n\u001b[1;32m    878\u001b[0m                 \u001b[0;32melse\u001b[0m\u001b[0;34m:\u001b[0m\u001b[0;34m\u001b[0m\u001b[0;34m\u001b[0m\u001b[0m\n\u001b[0;32m--> 879\u001b[0;31m                     \u001b[0marray\u001b[0m \u001b[0;34m=\u001b[0m \u001b[0m_asarray_with_order\u001b[0m\u001b[0;34m(\u001b[0m\u001b[0marray\u001b[0m\u001b[0;34m,\u001b[0m \u001b[0morder\u001b[0m\u001b[0;34m=\u001b[0m\u001b[0morder\u001b[0m\u001b[0;34m,\u001b[0m \u001b[0mdtype\u001b[0m\u001b[0;34m=\u001b[0m\u001b[0mdtype\u001b[0m\u001b[0;34m,\u001b[0m \u001b[0mxp\u001b[0m\u001b[0;34m=\u001b[0m\u001b[0mxp\u001b[0m\u001b[0;34m)\u001b[0m\u001b[0;34m\u001b[0m\u001b[0;34m\u001b[0m\u001b[0m\n\u001b[0m\u001b[1;32m    880\u001b[0m             \u001b[0;32mexcept\u001b[0m \u001b[0mComplexWarning\u001b[0m \u001b[0;32mas\u001b[0m \u001b[0mcomplex_warning\u001b[0m\u001b[0;34m:\u001b[0m\u001b[0;34m\u001b[0m\u001b[0;34m\u001b[0m\u001b[0m\n\u001b[1;32m    881\u001b[0m                 raise ValueError(\n",
            "\u001b[0;32m/usr/local/lib/python3.9/dist-packages/sklearn/utils/_array_api.py\u001b[0m in \u001b[0;36m_asarray_with_order\u001b[0;34m(array, dtype, order, copy, xp)\u001b[0m\n\u001b[1;32m    183\u001b[0m     \u001b[0;32mif\u001b[0m \u001b[0mxp\u001b[0m\u001b[0;34m.\u001b[0m\u001b[0m__name__\u001b[0m \u001b[0;32min\u001b[0m \u001b[0;34m{\u001b[0m\u001b[0;34m\"numpy\"\u001b[0m\u001b[0;34m,\u001b[0m \u001b[0;34m\"numpy.array_api\"\u001b[0m\u001b[0;34m}\u001b[0m\u001b[0;34m:\u001b[0m\u001b[0;34m\u001b[0m\u001b[0;34m\u001b[0m\u001b[0m\n\u001b[1;32m    184\u001b[0m         \u001b[0;31m# Use NumPy API to support order\u001b[0m\u001b[0;34m\u001b[0m\u001b[0;34m\u001b[0m\u001b[0m\n\u001b[0;32m--> 185\u001b[0;31m         \u001b[0marray\u001b[0m \u001b[0;34m=\u001b[0m \u001b[0mnumpy\u001b[0m\u001b[0;34m.\u001b[0m\u001b[0masarray\u001b[0m\u001b[0;34m(\u001b[0m\u001b[0marray\u001b[0m\u001b[0;34m,\u001b[0m \u001b[0morder\u001b[0m\u001b[0;34m=\u001b[0m\u001b[0morder\u001b[0m\u001b[0;34m,\u001b[0m \u001b[0mdtype\u001b[0m\u001b[0;34m=\u001b[0m\u001b[0mdtype\u001b[0m\u001b[0;34m)\u001b[0m\u001b[0;34m\u001b[0m\u001b[0;34m\u001b[0m\u001b[0m\n\u001b[0m\u001b[1;32m    186\u001b[0m         \u001b[0;32mreturn\u001b[0m \u001b[0mxp\u001b[0m\u001b[0;34m.\u001b[0m\u001b[0masarray\u001b[0m\u001b[0;34m(\u001b[0m\u001b[0marray\u001b[0m\u001b[0;34m,\u001b[0m \u001b[0mcopy\u001b[0m\u001b[0;34m=\u001b[0m\u001b[0mcopy\u001b[0m\u001b[0;34m)\u001b[0m\u001b[0;34m\u001b[0m\u001b[0;34m\u001b[0m\u001b[0m\n\u001b[1;32m    187\u001b[0m     \u001b[0;32melse\u001b[0m\u001b[0;34m:\u001b[0m\u001b[0;34m\u001b[0m\u001b[0;34m\u001b[0m\u001b[0m\n",
            "\u001b[0;32m/usr/local/lib/python3.9/dist-packages/pandas/core/generic.py\u001b[0m in \u001b[0;36m__array__\u001b[0;34m(self, dtype)\u001b[0m\n\u001b[1;32m   2068\u001b[0m \u001b[0;34m\u001b[0m\u001b[0m\n\u001b[1;32m   2069\u001b[0m     \u001b[0;32mdef\u001b[0m \u001b[0m__array__\u001b[0m\u001b[0;34m(\u001b[0m\u001b[0mself\u001b[0m\u001b[0;34m,\u001b[0m \u001b[0mdtype\u001b[0m\u001b[0;34m:\u001b[0m \u001b[0mnpt\u001b[0m\u001b[0;34m.\u001b[0m\u001b[0mDTypeLike\u001b[0m \u001b[0;34m|\u001b[0m \u001b[0;32mNone\u001b[0m \u001b[0;34m=\u001b[0m \u001b[0;32mNone\u001b[0m\u001b[0;34m)\u001b[0m \u001b[0;34m->\u001b[0m \u001b[0mnp\u001b[0m\u001b[0;34m.\u001b[0m\u001b[0mndarray\u001b[0m\u001b[0;34m:\u001b[0m\u001b[0;34m\u001b[0m\u001b[0;34m\u001b[0m\u001b[0m\n\u001b[0;32m-> 2070\u001b[0;31m         \u001b[0;32mreturn\u001b[0m \u001b[0mnp\u001b[0m\u001b[0;34m.\u001b[0m\u001b[0masarray\u001b[0m\u001b[0;34m(\u001b[0m\u001b[0mself\u001b[0m\u001b[0;34m.\u001b[0m\u001b[0m_values\u001b[0m\u001b[0;34m,\u001b[0m \u001b[0mdtype\u001b[0m\u001b[0;34m=\u001b[0m\u001b[0mdtype\u001b[0m\u001b[0;34m)\u001b[0m\u001b[0;34m\u001b[0m\u001b[0;34m\u001b[0m\u001b[0m\n\u001b[0m\u001b[1;32m   2071\u001b[0m \u001b[0;34m\u001b[0m\u001b[0m\n\u001b[1;32m   2072\u001b[0m     def __array_wrap__(\n",
            "\u001b[0;31mValueError\u001b[0m: could not convert string to float: 'trust mr want world know gay hte minut get home school wish ill son computor morn wo fli learn lot onlin debat'"
          ]
        }
      ]
    },
    {
      "cell_type": "code",
      "source": [
        "# Linear Regression Cross Validation\n",
        "print(agg_x_train_tf_1_array.shape)\n",
        "print(agg_y_train_1_array.shape)\n",
        "lin_cv_score = cross_val_score(lin_reg,agg_x_train_tf_1_array,agg_y_train_1_array,cv=5,scoring='f1_macro',n_jobs=-1)"
      ],
      "metadata": {
        "colab": {
          "base_uri": "https://localhost:8080/",
          "height": 389
        },
        "id": "6GfxnPj3WHK1",
        "outputId": "b024b1c4-b930-47af-ab54-80bf0ca6e787"
      },
      "id": "6GfxnPj3WHK1",
      "execution_count": 387,
      "outputs": [
        {
          "output_type": "stream",
          "name": "stdout",
          "text": [
            "(3, 3)\n",
            "(79746, 1)\n"
          ]
        },
        {
          "output_type": "error",
          "ename": "ValueError",
          "evalue": "ignored",
          "traceback": [
            "\u001b[0;31m---------------------------------------------------------------------------\u001b[0m",
            "\u001b[0;31mValueError\u001b[0m                                Traceback (most recent call last)",
            "\u001b[0;32m<ipython-input-387-5c72048c190b>\u001b[0m in \u001b[0;36m<cell line: 4>\u001b[0;34m()\u001b[0m\n\u001b[1;32m      2\u001b[0m \u001b[0mprint\u001b[0m\u001b[0;34m(\u001b[0m\u001b[0magg_x_train_tf_1_array\u001b[0m\u001b[0;34m.\u001b[0m\u001b[0mshape\u001b[0m\u001b[0;34m)\u001b[0m\u001b[0;34m\u001b[0m\u001b[0;34m\u001b[0m\u001b[0m\n\u001b[1;32m      3\u001b[0m \u001b[0mprint\u001b[0m\u001b[0;34m(\u001b[0m\u001b[0magg_y_train_1_array\u001b[0m\u001b[0;34m.\u001b[0m\u001b[0mshape\u001b[0m\u001b[0;34m)\u001b[0m\u001b[0;34m\u001b[0m\u001b[0;34m\u001b[0m\u001b[0m\n\u001b[0;32m----> 4\u001b[0;31m \u001b[0mlin_cv_score\u001b[0m \u001b[0;34m=\u001b[0m \u001b[0mcross_val_score\u001b[0m\u001b[0;34m(\u001b[0m\u001b[0mlin_reg\u001b[0m\u001b[0;34m,\u001b[0m\u001b[0magg_x_train_tf_1_array\u001b[0m\u001b[0;34m,\u001b[0m\u001b[0magg_y_train_1_array\u001b[0m\u001b[0;34m,\u001b[0m\u001b[0mcv\u001b[0m\u001b[0;34m=\u001b[0m\u001b[0;36m5\u001b[0m\u001b[0;34m,\u001b[0m\u001b[0mscoring\u001b[0m\u001b[0;34m=\u001b[0m\u001b[0;34m'f1_macro'\u001b[0m\u001b[0;34m,\u001b[0m\u001b[0mn_jobs\u001b[0m\u001b[0;34m=\u001b[0m\u001b[0;34m-\u001b[0m\u001b[0;36m1\u001b[0m\u001b[0;34m)\u001b[0m\u001b[0;34m\u001b[0m\u001b[0;34m\u001b[0m\u001b[0m\n\u001b[0m",
            "\u001b[0;32m/usr/local/lib/python3.9/dist-packages/sklearn/model_selection/_validation.py\u001b[0m in \u001b[0;36mcross_val_score\u001b[0;34m(estimator, X, y, groups, scoring, cv, n_jobs, verbose, fit_params, pre_dispatch, error_score)\u001b[0m\n\u001b[1;32m    513\u001b[0m     \u001b[0mscorer\u001b[0m \u001b[0;34m=\u001b[0m \u001b[0mcheck_scoring\u001b[0m\u001b[0;34m(\u001b[0m\u001b[0mestimator\u001b[0m\u001b[0;34m,\u001b[0m \u001b[0mscoring\u001b[0m\u001b[0;34m=\u001b[0m\u001b[0mscoring\u001b[0m\u001b[0;34m)\u001b[0m\u001b[0;34m\u001b[0m\u001b[0;34m\u001b[0m\u001b[0m\n\u001b[1;32m    514\u001b[0m \u001b[0;34m\u001b[0m\u001b[0m\n\u001b[0;32m--> 515\u001b[0;31m     cv_results = cross_validate(\n\u001b[0m\u001b[1;32m    516\u001b[0m         \u001b[0mestimator\u001b[0m\u001b[0;34m=\u001b[0m\u001b[0mestimator\u001b[0m\u001b[0;34m,\u001b[0m\u001b[0;34m\u001b[0m\u001b[0;34m\u001b[0m\u001b[0m\n\u001b[1;32m    517\u001b[0m         \u001b[0mX\u001b[0m\u001b[0;34m=\u001b[0m\u001b[0mX\u001b[0m\u001b[0;34m,\u001b[0m\u001b[0;34m\u001b[0m\u001b[0;34m\u001b[0m\u001b[0m\n",
            "\u001b[0;32m/usr/local/lib/python3.9/dist-packages/sklearn/model_selection/_validation.py\u001b[0m in \u001b[0;36mcross_validate\u001b[0;34m(estimator, X, y, groups, scoring, cv, n_jobs, verbose, fit_params, pre_dispatch, return_train_score, return_estimator, error_score)\u001b[0m\n\u001b[1;32m    250\u001b[0m     \u001b[0;34m[\u001b[0m\u001b[0;36m0.28009951\u001b[0m \u001b[0;36m0.3908844\u001b[0m  \u001b[0;36m0.22784907\u001b[0m\u001b[0;34m]\u001b[0m\u001b[0;34m\u001b[0m\u001b[0;34m\u001b[0m\u001b[0m\n\u001b[1;32m    251\u001b[0m     \"\"\"\n\u001b[0;32m--> 252\u001b[0;31m     \u001b[0mX\u001b[0m\u001b[0;34m,\u001b[0m \u001b[0my\u001b[0m\u001b[0;34m,\u001b[0m \u001b[0mgroups\u001b[0m \u001b[0;34m=\u001b[0m \u001b[0mindexable\u001b[0m\u001b[0;34m(\u001b[0m\u001b[0mX\u001b[0m\u001b[0;34m,\u001b[0m \u001b[0my\u001b[0m\u001b[0;34m,\u001b[0m \u001b[0mgroups\u001b[0m\u001b[0;34m)\u001b[0m\u001b[0;34m\u001b[0m\u001b[0;34m\u001b[0m\u001b[0m\n\u001b[0m\u001b[1;32m    253\u001b[0m \u001b[0;34m\u001b[0m\u001b[0m\n\u001b[1;32m    254\u001b[0m     \u001b[0mcv\u001b[0m \u001b[0;34m=\u001b[0m \u001b[0mcheck_cv\u001b[0m\u001b[0;34m(\u001b[0m\u001b[0mcv\u001b[0m\u001b[0;34m,\u001b[0m \u001b[0my\u001b[0m\u001b[0;34m,\u001b[0m \u001b[0mclassifier\u001b[0m\u001b[0;34m=\u001b[0m\u001b[0mis_classifier\u001b[0m\u001b[0;34m(\u001b[0m\u001b[0mestimator\u001b[0m\u001b[0;34m)\u001b[0m\u001b[0;34m)\u001b[0m\u001b[0;34m\u001b[0m\u001b[0;34m\u001b[0m\u001b[0m\n",
            "\u001b[0;32m/usr/local/lib/python3.9/dist-packages/sklearn/utils/validation.py\u001b[0m in \u001b[0;36mindexable\u001b[0;34m(*iterables)\u001b[0m\n\u001b[1;32m    441\u001b[0m \u001b[0;34m\u001b[0m\u001b[0m\n\u001b[1;32m    442\u001b[0m     \u001b[0mresult\u001b[0m \u001b[0;34m=\u001b[0m \u001b[0;34m[\u001b[0m\u001b[0m_make_indexable\u001b[0m\u001b[0;34m(\u001b[0m\u001b[0mX\u001b[0m\u001b[0;34m)\u001b[0m \u001b[0;32mfor\u001b[0m \u001b[0mX\u001b[0m \u001b[0;32min\u001b[0m \u001b[0miterables\u001b[0m\u001b[0;34m]\u001b[0m\u001b[0;34m\u001b[0m\u001b[0;34m\u001b[0m\u001b[0m\n\u001b[0;32m--> 443\u001b[0;31m     \u001b[0mcheck_consistent_length\u001b[0m\u001b[0;34m(\u001b[0m\u001b[0;34m*\u001b[0m\u001b[0mresult\u001b[0m\u001b[0;34m)\u001b[0m\u001b[0;34m\u001b[0m\u001b[0;34m\u001b[0m\u001b[0m\n\u001b[0m\u001b[1;32m    444\u001b[0m     \u001b[0;32mreturn\u001b[0m \u001b[0mresult\u001b[0m\u001b[0;34m\u001b[0m\u001b[0;34m\u001b[0m\u001b[0m\n\u001b[1;32m    445\u001b[0m \u001b[0;34m\u001b[0m\u001b[0m\n",
            "\u001b[0;32m/usr/local/lib/python3.9/dist-packages/sklearn/utils/validation.py\u001b[0m in \u001b[0;36mcheck_consistent_length\u001b[0;34m(*arrays)\u001b[0m\n\u001b[1;32m    395\u001b[0m     \u001b[0muniques\u001b[0m \u001b[0;34m=\u001b[0m \u001b[0mnp\u001b[0m\u001b[0;34m.\u001b[0m\u001b[0munique\u001b[0m\u001b[0;34m(\u001b[0m\u001b[0mlengths\u001b[0m\u001b[0;34m)\u001b[0m\u001b[0;34m\u001b[0m\u001b[0;34m\u001b[0m\u001b[0m\n\u001b[1;32m    396\u001b[0m     \u001b[0;32mif\u001b[0m \u001b[0mlen\u001b[0m\u001b[0;34m(\u001b[0m\u001b[0muniques\u001b[0m\u001b[0;34m)\u001b[0m \u001b[0;34m>\u001b[0m \u001b[0;36m1\u001b[0m\u001b[0;34m:\u001b[0m\u001b[0;34m\u001b[0m\u001b[0;34m\u001b[0m\u001b[0m\n\u001b[0;32m--> 397\u001b[0;31m         raise ValueError(\n\u001b[0m\u001b[1;32m    398\u001b[0m             \u001b[0;34m\"Found input variables with inconsistent numbers of samples: %r\"\u001b[0m\u001b[0;34m\u001b[0m\u001b[0;34m\u001b[0m\u001b[0m\n\u001b[1;32m    399\u001b[0m             \u001b[0;34m%\u001b[0m \u001b[0;34m[\u001b[0m\u001b[0mint\u001b[0m\u001b[0;34m(\u001b[0m\u001b[0ml\u001b[0m\u001b[0;34m)\u001b[0m \u001b[0;32mfor\u001b[0m \u001b[0ml\u001b[0m \u001b[0;32min\u001b[0m \u001b[0mlengths\u001b[0m\u001b[0;34m]\u001b[0m\u001b[0;34m\u001b[0m\u001b[0;34m\u001b[0m\u001b[0m\n",
            "\u001b[0;31mValueError\u001b[0m: Found input variables with inconsistent numbers of samples: [3, 79746]"
          ]
        }
      ]
    },
    {
      "cell_type": "code",
      "source": [
        "# Mean Linear Regression Cross Validation\n",
        "mean_lin_cv = np.mean(lin_cv_score)\n",
        "mean_lin_cv"
      ],
      "metadata": {
        "id": "6mbbNkdwO7hh"
      },
      "id": "6mbbNkdwO7hh",
      "execution_count": null,
      "outputs": []
    },
    {
      "cell_type": "markdown",
      "source": [
        "### 1b. Support Vector Machines - Regressor"
      ],
      "metadata": {
        "id": "WFPLBRh_oAnJ"
      },
      "id": "WFPLBRh_oAnJ"
    },
    {
      "cell_type": "code",
      "source": [
        "# Instantiating the Support Vector Regressor\n",
        "lin_svr = LinearSVR()"
      ],
      "metadata": {
        "id": "tvdNKVlCO7rM"
      },
      "id": "tvdNKVlCO7rM",
      "execution_count": null,
      "outputs": []
    },
    {
      "cell_type": "code",
      "source": [
        "# Cross Validation - SVR\n",
        "lin_svr_cv_score = cross_val_score(lin_svr,agg_x_train_tf_1,agg_y_train_1,cv=5,scoring='f1_macro',n_jobs=-1)\n",
        "mean_lin_svr_cv = np.mean(lin_svr_cv_score)\n",
        "mean_lin_svr_cv"
      ],
      "metadata": {
        "id": "Q7MdDYSgO70U"
      },
      "id": "Q7MdDYSgO70U",
      "execution_count": null,
      "outputs": []
    },
    {
      "cell_type": "markdown",
      "source": [
        "### 1c. Random Forests - Regressor"
      ],
      "metadata": {
        "id": "C1ZSno6Go0Bf"
      },
      "id": "C1ZSno6Go0Bf"
    },
    {
      "cell_type": "code",
      "source": [],
      "metadata": {
        "id": "s_Gx1sClHhuH"
      },
      "id": "s_Gx1sClHhuH",
      "execution_count": null,
      "outputs": []
    },
    {
      "cell_type": "code",
      "source": [],
      "metadata": {
        "id": "W4LfaHmzo03s"
      },
      "id": "W4LfaHmzo03s",
      "execution_count": null,
      "outputs": []
    },
    {
      "cell_type": "markdown",
      "source": [
        "### 1d. XGBoost - Regressor"
      ],
      "metadata": {
        "id": "ZY0brB64o1bt"
      },
      "id": "ZY0brB64o1bt"
    },
    {
      "cell_type": "code",
      "source": [],
      "metadata": {
        "id": "sdqQpSQco2Ui"
      },
      "id": "sdqQpSQco2Ui",
      "execution_count": null,
      "outputs": []
    },
    {
      "cell_type": "code",
      "source": [],
      "metadata": {
        "id": "albdtBPyo1-P"
      },
      "id": "albdtBPyo1-P",
      "execution_count": null,
      "outputs": []
    },
    {
      "cell_type": "markdown",
      "source": [],
      "metadata": {
        "id": "thzOwsJzo2xc"
      },
      "id": "thzOwsJzo2xc"
    },
    {
      "cell_type": "code",
      "source": [],
      "metadata": {
        "id": "vl-veb8no3Vi"
      },
      "id": "vl-veb8no3Vi",
      "execution_count": null,
      "outputs": []
    },
    {
      "cell_type": "code",
      "source": [],
      "metadata": {
        "id": "2cLKjGnao32B"
      },
      "id": "2cLKjGnao32B",
      "execution_count": null,
      "outputs": []
    }
  ],
  "metadata": {
    "kernelspec": {
      "display_name": "Python 3 (ipykernel)",
      "language": "python",
      "name": "python3"
    },
    "language_info": {
      "codemirror_mode": {
        "name": "ipython",
        "version": 3
      },
      "file_extension": ".py",
      "mimetype": "text/x-python",
      "name": "python",
      "nbconvert_exporter": "python",
      "pygments_lexer": "ipython3",
      "version": "3.9.12"
    },
    "colab": {
      "provenance": []
    }
  },
  "nbformat": 4,
  "nbformat_minor": 5
}