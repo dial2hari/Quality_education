{
 "cells": [
  {
   "cell_type": "code",
   "execution_count": null,
   "id": "39ae2119",
   "metadata": {},
   "outputs": [],
   "source": []
  },
  {
   "cell_type": "code",
   "execution_count": null,
   "id": "13aa7ca9",
   "metadata": {},
   "outputs": [],
   "source": []
  },
  {
   "cell_type": "code",
   "execution_count": 1,
   "id": "5b1a1c1a",
   "metadata": {},
   "outputs": [
    {
     "name": "stdout",
     "output_type": "stream",
     "text": [
      "Collecting lightgbm\n",
      "  Downloading lightgbm-3.3.5-py3-none-win_amd64.whl (1.0 MB)\n",
      "Requirement already satisfied: numpy in c:\\users\\86177\\anaconda3\\lib\\site-packages (from lightgbm) (1.20.3)\n",
      "Requirement already satisfied: scikit-learn!=0.22.0 in c:\\users\\86177\\anaconda3\\lib\\site-packages (from lightgbm) (0.24.2)\n",
      "Requirement already satisfied: wheel in c:\\users\\86177\\anaconda3\\lib\\site-packages (from lightgbm) (0.37.0)\n",
      "Requirement already satisfied: scipy in c:\\users\\86177\\anaconda3\\lib\\site-packages (from lightgbm) (1.7.1)\n",
      "Requirement already satisfied: threadpoolctl>=2.0.0 in c:\\users\\86177\\anaconda3\\lib\\site-packages (from scikit-learn!=0.22.0->lightgbm) (2.2.0)\n",
      "Requirement already satisfied: joblib>=0.11 in c:\\users\\86177\\anaconda3\\lib\\site-packages (from scikit-learn!=0.22.0->lightgbm) (1.1.0)\n",
      "Installing collected packages: lightgbm\n",
      "Successfully installed lightgbm-3.3.5\n"
     ]
    }
   ],
   "source": [
    "!pip install lightgbm"
   ]
  },
  {
   "cell_type": "code",
   "execution_count": 2,
   "id": "3cdf3e2d",
   "metadata": {},
   "outputs": [
    {
     "name": "stdout",
     "output_type": "stream",
     "text": [
      "Requirement already satisfied: scikit-learn in c:\\users\\86177\\anaconda3\\lib\\site-packages (0.24.2)\n",
      "Requirement already satisfied: scipy>=0.19.1 in c:\\users\\86177\\anaconda3\\lib\\site-packages (from scikit-learn) (1.7.1)\n",
      "Requirement already satisfied: numpy>=1.13.3 in c:\\users\\86177\\anaconda3\\lib\\site-packages (from scikit-learn) (1.20.3)\n",
      "Requirement already satisfied: threadpoolctl>=2.0.0 in c:\\users\\86177\\anaconda3\\lib\\site-packages (from scikit-learn) (2.2.0)\n",
      "Requirement already satisfied: joblib>=0.11 in c:\\users\\86177\\anaconda3\\lib\\site-packages (from scikit-learn) (1.1.0)\n",
      "Collecting nlp\n",
      "  Downloading nlp-0.4.0-py3-none-any.whl (1.7 MB)\n",
      "Requirement already satisfied: filelock in c:\\users\\86177\\anaconda3\\lib\\site-packages (from nlp) (3.3.1)\n",
      "Requirement already satisfied: pyarrow>=0.16.0 in c:\\users\\86177\\anaconda3\\lib\\site-packages (from nlp) (4.0.1)\n",
      "Collecting dill\n",
      "  Downloading dill-0.3.6-py3-none-any.whl (110 kB)\n",
      "Requirement already satisfied: requests>=2.19.0 in c:\\users\\86177\\anaconda3\\lib\\site-packages (from nlp) (2.26.0)\n",
      "Requirement already satisfied: pandas in c:\\users\\86177\\anaconda3\\lib\\site-packages (from nlp) (1.3.4)\n",
      "Requirement already satisfied: numpy in c:\\users\\86177\\anaconda3\\lib\\site-packages (from nlp) (1.20.3)\n",
      "Requirement already satisfied: tqdm>=4.27 in c:\\users\\86177\\anaconda3\\lib\\site-packages (from nlp) (4.62.3)\n",
      "Collecting xxhash\n",
      "  Downloading xxhash-3.2.0-cp39-cp39-win_amd64.whl (30 kB)\n",
      "Requirement already satisfied: idna<4,>=2.5 in c:\\users\\86177\\anaconda3\\lib\\site-packages (from requests>=2.19.0->nlp) (3.2)\n",
      "Requirement already satisfied: urllib3<1.27,>=1.21.1 in c:\\users\\86177\\anaconda3\\lib\\site-packages (from requests>=2.19.0->nlp) (1.26.7)\n",
      "Requirement already satisfied: charset-normalizer~=2.0.0 in c:\\users\\86177\\anaconda3\\lib\\site-packages (from requests>=2.19.0->nlp) (2.0.4)\n",
      "Requirement already satisfied: certifi>=2017.4.17 in c:\\users\\86177\\anaconda3\\lib\\site-packages (from requests>=2.19.0->nlp) (2022.9.24)\n",
      "Requirement already satisfied: colorama in c:\\users\\86177\\anaconda3\\lib\\site-packages (from tqdm>=4.27->nlp) (0.4.4)\n",
      "Requirement already satisfied: pytz>=2017.3 in c:\\users\\86177\\anaconda3\\lib\\site-packages (from pandas->nlp) (2021.3)\n",
      "Requirement already satisfied: python-dateutil>=2.7.3 in c:\\users\\86177\\anaconda3\\lib\\site-packages (from pandas->nlp) (2.8.2)\n",
      "Requirement already satisfied: six>=1.5 in c:\\users\\86177\\anaconda3\\lib\\site-packages (from python-dateutil>=2.7.3->pandas->nlp) (1.16.0)\n",
      "Installing collected packages: xxhash, dill, nlp\n",
      "Successfully installed dill-0.3.6 nlp-0.4.0 xxhash-3.2.0\n",
      "Collecting wordcloud\n",
      "  Downloading wordcloud-1.8.2.2-cp39-cp39-win_amd64.whl (153 kB)\n",
      "Collecting lazypredict\n",
      "  Downloading lazypredict-0.2.12-py2.py3-none-any.whl (12 kB)\n",
      "Requirement already satisfied: matplotlib in c:\\users\\86177\\anaconda3\\lib\\site-packages (from wordcloud) (3.4.3)\n",
      "Requirement already satisfied: pillow in c:\\users\\86177\\anaconda3\\lib\\site-packages (from wordcloud) (8.4.0)\n",
      "Requirement already satisfied: numpy>=1.6.1 in c:\\users\\86177\\anaconda3\\lib\\site-packages (from wordcloud) (1.20.3)\n",
      "Requirement already satisfied: scikit-learn in c:\\users\\86177\\anaconda3\\lib\\site-packages (from lazypredict) (0.24.2)\n",
      "Requirement already satisfied: lightgbm in c:\\users\\86177\\anaconda3\\lib\\site-packages (from lazypredict) (3.3.5)\n",
      "Requirement already satisfied: pandas in c:\\users\\86177\\anaconda3\\lib\\site-packages (from lazypredict) (1.3.4)\n",
      "Collecting xgboost\n",
      "  Downloading xgboost-1.7.5-py3-none-win_amd64.whl (70.9 MB)\n",
      "Requirement already satisfied: joblib in c:\\users\\86177\\anaconda3\\lib\\site-packages (from lazypredict) (1.1.0)\n",
      "Requirement already satisfied: click in c:\\users\\86177\\anaconda3\\lib\\site-packages (from lazypredict) (7.1.2)\n",
      "Requirement already satisfied: tqdm in c:\\users\\86177\\anaconda3\\lib\\site-packages (from lazypredict) (4.62.3)\n",
      "Requirement already satisfied: wheel in c:\\users\\86177\\anaconda3\\lib\\site-packages (from lightgbm->lazypredict) (0.37.0)\n",
      "Requirement already satisfied: scipy in c:\\users\\86177\\anaconda3\\lib\\site-packages (from lightgbm->lazypredict) (1.7.1)\n",
      "Requirement already satisfied: threadpoolctl>=2.0.0 in c:\\users\\86177\\anaconda3\\lib\\site-packages (from scikit-learn->lazypredict) (2.2.0)\n",
      "Requirement already satisfied: cycler>=0.10 in c:\\users\\86177\\anaconda3\\lib\\site-packages (from matplotlib->wordcloud) (0.10.0)\n",
      "Requirement already satisfied: pyparsing>=2.2.1 in c:\\users\\86177\\anaconda3\\lib\\site-packages (from matplotlib->wordcloud) (3.0.4)\n",
      "Requirement already satisfied: kiwisolver>=1.0.1 in c:\\users\\86177\\anaconda3\\lib\\site-packages (from matplotlib->wordcloud) (1.3.1)\n",
      "Requirement already satisfied: python-dateutil>=2.7 in c:\\users\\86177\\anaconda3\\lib\\site-packages (from matplotlib->wordcloud) (2.8.2)\n",
      "Requirement already satisfied: six in c:\\users\\86177\\anaconda3\\lib\\site-packages (from cycler>=0.10->matplotlib->wordcloud) (1.16.0)\n",
      "Requirement already satisfied: pytz>=2017.3 in c:\\users\\86177\\anaconda3\\lib\\site-packages (from pandas->lazypredict) (2021.3)\n",
      "Requirement already satisfied: colorama in c:\\users\\86177\\anaconda3\\lib\\site-packages (from tqdm->lazypredict) (0.4.4)\n",
      "Installing collected packages: xgboost, wordcloud, lazypredict\n",
      "Successfully installed lazypredict-0.2.12 wordcloud-1.8.2.2 xgboost-1.7.5\n"
     ]
    }
   ],
   "source": [
    "# Installing Libraries\n",
    "!pip install scikit-learn\n",
    "!pip install nlp\n",
    "!pip install wordcloud lazypredict"
   ]
  },
  {
   "cell_type": "code",
   "execution_count": 3,
   "id": "025f7f90",
   "metadata": {},
   "outputs": [],
   "source": [
    "# Importing Libraries\n",
    "import os\n",
    "import pandas as pd\n",
    "import numpy as np\n",
    "import re\n",
    "from sklearn.feature_extraction.text import TfidfTransformer, TfidfVectorizer, CountVectorizer\n",
    "from sklearn.model_selection import train_test_split\n",
    "from sklearn.metrics import confusion_matrix, precision_score, recall_score, f1_score, accuracy_score \n",
    "from sklearn.metrics import roc_auc_score, roc_curve, precision_recall_curve, plot_precision_recall_curve\n",
    "from sklearn import metrics\n",
    "from sklearn.compose import ColumnTransformer\n",
    "from sklearn.preprocessing import OneHotEncoder\n",
    "from sklearn.naive_bayes import GaussianNB\n",
    "from sklearn.tree import DecisionTreeClassifier\n",
    "from sklearn.neighbors import KNeighborsClassifier\n",
    "from sklearn.linear_model import LogisticRegression\n",
    "from sklearn.ensemble import RandomForestClassifier\n",
    "from sklearn import svm\n",
    "from lazypredict.Supervised import LazyClassifier, LazyRegressor\n",
    "import pickle\n",
    "import time"
   ]
  },
  {
   "cell_type": "code",
   "execution_count": null,
   "id": "c1d05a33",
   "metadata": {},
   "outputs": [],
   "source": []
  }
 ],
 "metadata": {
  "kernelspec": {
   "display_name": "Python 3 (ipykernel)",
   "language": "python",
   "name": "python3"
  },
  "language_info": {
   "codemirror_mode": {
    "name": "ipython",
    "version": 3
   },
   "file_extension": ".py",
   "mimetype": "text/x-python",
   "name": "python",
   "nbconvert_exporter": "python",
   "pygments_lexer": "ipython3",
   "version": "3.9.7"
  }
 },
 "nbformat": 4,
 "nbformat_minor": 5
}
